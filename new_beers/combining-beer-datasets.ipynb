{
 "cells": [
  {
   "cell_type": "code",
   "execution_count": 292,
   "metadata": {
    "collapsed": false
   },
   "outputs": [],
   "source": [
    "import pandas as pd #for building dataframes from CSV files\n",
    "import glob, os #for reading file names\n",
    "import seaborn as sns #for fancy charts\n",
    "import numpy as np #for np.nan\n",
    "import matplotlib.pyplot as plt\n",
    "%matplotlib inline"
   ]
  },
  {
   "cell_type": "code",
   "execution_count": 252,
   "metadata": {
    "collapsed": true
   },
   "outputs": [],
   "source": [
    "#Reading CSV files in the DIR\n",
    "file_names = []\n",
    "file_names = glob.glob('*.csv')"
   ]
  },
  {
   "cell_type": "code",
   "execution_count": 253,
   "metadata": {
    "collapsed": false
   },
   "outputs": [
    {
     "name": "stdout",
     "output_type": "stream",
     "text": [
      "['dataframe_apicalls_100_finalBID_100_.csv', 'dataframe_apicalls_100_finalBID_199_.csv', 'dataframe_apicalls_100_finalBID_298_.csv', 'dataframe_apicalls_100_finalBID_397_.csv']\n"
     ]
    }
   ],
   "source": [
    "#Checking file names to print\n",
    "print(file_names)"
   ]
  },
  {
   "cell_type": "code",
   "execution_count": 254,
   "metadata": {
    "collapsed": true
   },
   "outputs": [],
   "source": [
    "#Var to check if it is the first load\n",
    "load_counter = 0\n",
    "\n",
    "#Loading files into single dataframe\n",
    "for file in file_names :\n",
    "    df = pd.read_csv(file)\n",
    "    if load_counter == 0 :\n",
    "        final_df = df.copy()\n",
    "    else :\n",
    "        final_df = final_df.append(df, ignore_index=True)\n",
    "    load_counter += 1"
   ]
  },
  {
   "cell_type": "code",
   "execution_count": 255,
   "metadata": {
    "collapsed": false
   },
   "outputs": [
    {
     "name": "stdout",
     "output_type": "stream",
     "text": [
      "<class 'pandas.core.frame.DataFrame'>\n",
      "RangeIndex: 384 entries, 0 to 383\n",
      "Data columns (total 50 columns):\n",
      "auth_rating                       384 non-null int64\n",
      "beer_abv                          384 non-null float64\n",
      "beer_description                  244 non-null object\n",
      "beer_ibu                          384 non-null int64\n",
      "beer_label                        384 non-null object\n",
      "beer_label_hd                     148 non-null object\n",
      "beer_name                         384 non-null object\n",
      "beer_slug                         384 non-null object\n",
      "beer_style                        384 non-null object\n",
      "bid                               384 non-null int64\n",
      "brewery.brewery_id                384 non-null int64\n",
      "brewery.brewery_label             384 non-null object\n",
      "brewery.brewery_name              384 non-null object\n",
      "brewery.brewery_slug              384 non-null object\n",
      "brewery.brewery_type              384 non-null object\n",
      "brewery.contact.facebook          330 non-null object\n",
      "brewery.contact.twitter           285 non-null object\n",
      "brewery.contact.url               375 non-null object\n",
      "brewery.country_name              384 non-null object\n",
      "brewery.location.brewery_city     377 non-null object\n",
      "brewery.location.brewery_state    353 non-null object\n",
      "brewery.location.lat              384 non-null float64\n",
      "brewery.location.lng              384 non-null float64\n",
      "created_at                        384 non-null object\n",
      "is_homebrew                       384 non-null int64\n",
      "is_in_production                  384 non-null int64\n",
      "merge_details.master_bid          100 non-null float64\n",
      "merge_details.merge_date          100 non-null object\n",
      "merge_details.requested_bid       100 non-null float64\n",
      "rating_count                      384 non-null int64\n",
      "rating_score                      384 non-null float64\n",
      "rating_score_below                6 non-null object\n",
      "stats.monthly_count               384 non-null int64\n",
      "stats.total_count                 384 non-null int64\n",
      "stats.total_user_count            384 non-null int64\n",
      "stats.user_count                  384 non-null int64\n",
      "variant_parent.beer.beer_abv      2 non-null float64\n",
      "variant_parent.beer.beer_name     2 non-null object\n",
      "variant_parent.beer.beer_slug     2 non-null object\n",
      "variant_parent.beer.bid           2 non-null float64\n",
      "variant_parent.beer.type_id       2 non-null float64\n",
      "vintage_parent.beer.beer_abv      14 non-null float64\n",
      "vintage_parent.beer.beer_name     14 non-null object\n",
      "vintage_parent.beer.beer_slug     14 non-null object\n",
      "vintage_parent.beer.bid           14 non-null float64\n",
      "vintage_parent.beer.type_id       14 non-null float64\n",
      "vintages.count                    368 non-null float64\n",
      "vintages.items                    368 non-null object\n",
      "weighted_rating_score             384 non-null float64\n",
      "wish_list                         384 non-null bool\n",
      "dtypes: bool(1), float64(14), int64(11), object(24)\n",
      "memory usage: 147.5+ KB\n"
     ]
    }
   ],
   "source": [
    "#Check info\n",
    "final_df.info()"
   ]
  },
  {
   "cell_type": "code",
   "execution_count": 256,
   "metadata": {
    "collapsed": false
   },
   "outputs": [
    {
     "data": {
      "text/html": [
       "<div>\n",
       "<table border=\"1\" class=\"dataframe\">\n",
       "  <thead>\n",
       "    <tr style=\"text-align: right;\">\n",
       "      <th></th>\n",
       "      <th>bid</th>\n",
       "      <th>merge_details.requested_bid</th>\n",
       "      <th>merge_details.merge_date</th>\n",
       "    </tr>\n",
       "  </thead>\n",
       "  <tbody>\n",
       "    <tr>\n",
       "      <th>0</th>\n",
       "      <td>1</td>\n",
       "      <td>NaN</td>\n",
       "      <td>NaN</td>\n",
       "    </tr>\n",
       "    <tr>\n",
       "      <th>1</th>\n",
       "      <td>2</td>\n",
       "      <td>NaN</td>\n",
       "      <td>NaN</td>\n",
       "    </tr>\n",
       "    <tr>\n",
       "      <th>2</th>\n",
       "      <td>505601</td>\n",
       "      <td>3.0</td>\n",
       "      <td>Mon, 18 Nov 2013 18:44:07 +0000</td>\n",
       "    </tr>\n",
       "    <tr>\n",
       "      <th>3</th>\n",
       "      <td>16551</td>\n",
       "      <td>4.0</td>\n",
       "      <td>Sat, 11 Jan 2014 21:37:13 +0000</td>\n",
       "    </tr>\n",
       "    <tr>\n",
       "      <th>4</th>\n",
       "      <td>5</td>\n",
       "      <td>NaN</td>\n",
       "      <td>NaN</td>\n",
       "    </tr>\n",
       "  </tbody>\n",
       "</table>\n",
       "</div>"
      ],
      "text/plain": [
       "      bid  merge_details.requested_bid         merge_details.merge_date\n",
       "0       1                          NaN                              NaN\n",
       "1       2                          NaN                              NaN\n",
       "2  505601                          3.0  Mon, 18 Nov 2013 18:44:07 +0000\n",
       "3   16551                          4.0  Sat, 11 Jan 2014 21:37:13 +0000\n",
       "4       5                          NaN                              NaN"
      ]
     },
     "execution_count": 256,
     "metadata": {},
     "output_type": "execute_result"
    }
   ],
   "source": [
    "#Unsure what these columns mean, although it appears that they are attempting to reclass some of the beer IDs\n",
    "final_df[['bid', 'merge_details.requested_bid' ,'merge_details.merge_date']].head()"
   ]
  },
  {
   "cell_type": "code",
   "execution_count": 257,
   "metadata": {
    "collapsed": false
   },
   "outputs": [
    {
     "data": {
      "text/plain": [
       "Index(['auth_rating', 'beer_abv', 'beer_description', 'beer_ibu', 'beer_label',\n",
       "       'beer_label_hd', 'beer_name', 'beer_slug', 'beer_style', 'bid',\n",
       "       'brewery.brewery_id', 'brewery.brewery_label', 'brewery.brewery_name',\n",
       "       'brewery.brewery_slug', 'brewery.brewery_type',\n",
       "       'brewery.contact.facebook', 'brewery.contact.twitter',\n",
       "       'brewery.contact.url', 'brewery.country_name',\n",
       "       'brewery.location.brewery_city', 'brewery.location.brewery_state',\n",
       "       'brewery.location.lat', 'brewery.location.lng', 'created_at',\n",
       "       'is_homebrew', 'is_in_production', 'merge_details.master_bid',\n",
       "       'merge_details.merge_date', 'merge_details.requested_bid',\n",
       "       'rating_count', 'rating_score', 'rating_score_below',\n",
       "       'stats.monthly_count', 'stats.total_count', 'stats.total_user_count',\n",
       "       'stats.user_count', 'variant_parent.beer.beer_abv',\n",
       "       'variant_parent.beer.beer_name', 'variant_parent.beer.beer_slug',\n",
       "       'variant_parent.beer.bid', 'variant_parent.beer.type_id',\n",
       "       'vintage_parent.beer.beer_abv', 'vintage_parent.beer.beer_name',\n",
       "       'vintage_parent.beer.beer_slug', 'vintage_parent.beer.bid',\n",
       "       'vintage_parent.beer.type_id', 'vintages.count', 'vintages.items',\n",
       "       'weighted_rating_score', 'wish_list'],\n",
       "      dtype='object')"
      ]
     },
     "execution_count": 257,
     "metadata": {},
     "output_type": "execute_result"
    }
   ],
   "source": [
    "#Check col names\n",
    "final_df.columns"
   ]
  },
  {
   "cell_type": "code",
   "execution_count": 258,
   "metadata": {
    "collapsed": true
   },
   "outputs": [],
   "source": [
    "#List of ALL columns to drop for various reasons. Descriptions, hyperlinks, social media, etc.\n",
    "drop_cols = ['auth_rating', 'beer_description', 'beer_label', 'beer_label_hd', 'beer_slug', 'brewery.brewery_slug',\n",
    "            'brewery.contact.facebook', 'brewery.contact.twitter', 'brewery.contact.url', 'rating_score_below', \n",
    "            'variant_parent.beer.beer_abv', 'variant_parent.beer.beer_name', 'variant_parent.beer.beer_slug',\n",
    "            'variant_parent.beer.bid', 'variant_parent.beer.type_id', 'brewery.brewery_label', \n",
    "            'vintage_parent.beer.beer_abv', 'vintage_parent.beer.beer_name', 'stats.user_count', \n",
    "            'vintage_parent.beer.beer_slug', 'vintage_parent.beer.bid', \n",
    "            'vintage_parent.beer.type_id', 'merge_details.master_bid',\n",
    "            'merge_details.merge_date', 'merge_details.requested_bid', 'vintages.count', 'vintages.items']"
   ]
  },
  {
   "cell_type": "code",
   "execution_count": 288,
   "metadata": {
    "collapsed": false
   },
   "outputs": [
    {
     "data": {
      "text/plain": [
       "27"
      ]
     },
     "execution_count": 288,
     "metadata": {},
     "output_type": "execute_result"
    }
   ],
   "source": [
    "len(drop_cols)"
   ]
  },
  {
   "cell_type": "code",
   "execution_count": 259,
   "metadata": {
    "collapsed": false
   },
   "outputs": [],
   "source": [
    "final_df.drop(drop_cols, axis=1, inplace=True)"
   ]
  },
  {
   "cell_type": "code",
   "execution_count": 260,
   "metadata": {
    "collapsed": false
   },
   "outputs": [
    {
     "name": "stdout",
     "output_type": "stream",
     "text": [
      "<class 'pandas.core.frame.DataFrame'>\n",
      "RangeIndex: 384 entries, 0 to 383\n",
      "Data columns (total 23 columns):\n",
      "beer_abv                          384 non-null float64\n",
      "beer_ibu                          384 non-null int64\n",
      "beer_name                         384 non-null object\n",
      "beer_style                        384 non-null object\n",
      "bid                               384 non-null int64\n",
      "brewery.brewery_id                384 non-null int64\n",
      "brewery.brewery_name              384 non-null object\n",
      "brewery.brewery_type              384 non-null object\n",
      "brewery.country_name              384 non-null object\n",
      "brewery.location.brewery_city     377 non-null object\n",
      "brewery.location.brewery_state    353 non-null object\n",
      "brewery.location.lat              384 non-null float64\n",
      "brewery.location.lng              384 non-null float64\n",
      "created_at                        384 non-null object\n",
      "is_homebrew                       384 non-null int64\n",
      "is_in_production                  384 non-null int64\n",
      "rating_count                      384 non-null int64\n",
      "rating_score                      384 non-null float64\n",
      "stats.monthly_count               384 non-null int64\n",
      "stats.total_count                 384 non-null int64\n",
      "stats.total_user_count            384 non-null int64\n",
      "weighted_rating_score             384 non-null float64\n",
      "wish_list                         384 non-null bool\n",
      "dtypes: bool(1), float64(5), int64(9), object(8)\n",
      "memory usage: 66.5+ KB\n"
     ]
    }
   ],
   "source": [
    "final_df.info()"
   ]
  },
  {
   "cell_type": "code",
   "execution_count": 261,
   "metadata": {
    "collapsed": true
   },
   "outputs": [],
   "source": [
    "#Check for any duplicate beers\n",
    "final_df.drop_duplicates(inplace=True)"
   ]
  },
  {
   "cell_type": "code",
   "execution_count": 262,
   "metadata": {
    "collapsed": false
   },
   "outputs": [
    {
     "data": {
      "text/html": [
       "<div>\n",
       "<table border=\"1\" class=\"dataframe\">\n",
       "  <thead>\n",
       "    <tr style=\"text-align: right;\">\n",
       "      <th></th>\n",
       "      <th>beer_abv</th>\n",
       "      <th>beer_ibu</th>\n",
       "      <th>beer_name</th>\n",
       "      <th>beer_style</th>\n",
       "      <th>bid</th>\n",
       "      <th>brewery.brewery_id</th>\n",
       "      <th>brewery.brewery_name</th>\n",
       "      <th>brewery.brewery_type</th>\n",
       "      <th>brewery.country_name</th>\n",
       "      <th>brewery.location.brewery_city</th>\n",
       "      <th>...</th>\n",
       "      <th>created_at</th>\n",
       "      <th>is_homebrew</th>\n",
       "      <th>is_in_production</th>\n",
       "      <th>rating_count</th>\n",
       "      <th>rating_score</th>\n",
       "      <th>stats.monthly_count</th>\n",
       "      <th>stats.total_count</th>\n",
       "      <th>stats.total_user_count</th>\n",
       "      <th>weighted_rating_score</th>\n",
       "      <th>wish_list</th>\n",
       "    </tr>\n",
       "  </thead>\n",
       "  <tbody>\n",
       "    <tr>\n",
       "      <th>19</th>\n",
       "      <td>9.6</td>\n",
       "      <td>90</td>\n",
       "      <td>Bigfoot</td>\n",
       "      <td>Barleywine - American</td>\n",
       "      <td>20951</td>\n",
       "      <td>1142</td>\n",
       "      <td>Sierra Nevada Brewing Co.</td>\n",
       "      <td>Micro Brewery</td>\n",
       "      <td>United States</td>\n",
       "      <td>Chico</td>\n",
       "      <td>...</td>\n",
       "      <td>Tue, 04 Jan 2011 05:21:14 +0000</td>\n",
       "      <td>0</td>\n",
       "      <td>1</td>\n",
       "      <td>29557</td>\n",
       "      <td>3.7424</td>\n",
       "      <td>1126</td>\n",
       "      <td>39601</td>\n",
       "      <td>34060</td>\n",
       "      <td>3.74146</td>\n",
       "      <td>False</td>\n",
       "    </tr>\n",
       "  </tbody>\n",
       "</table>\n",
       "<p>1 rows × 23 columns</p>\n",
       "</div>"
      ],
      "text/plain": [
       "    beer_abv  beer_ibu beer_name             beer_style    bid  \\\n",
       "19       9.6        90   Bigfoot  Barleywine - American  20951   \n",
       "\n",
       "    brewery.brewery_id       brewery.brewery_name brewery.brewery_type  \\\n",
       "19                1142  Sierra Nevada Brewing Co.        Micro Brewery   \n",
       "\n",
       "   brewery.country_name brewery.location.brewery_city    ...      \\\n",
       "19        United States                         Chico    ...       \n",
       "\n",
       "                         created_at  is_homebrew  is_in_production  \\\n",
       "19  Tue, 04 Jan 2011 05:21:14 +0000            0                 1   \n",
       "\n",
       "   rating_count  rating_score  stats.monthly_count  stats.total_count  \\\n",
       "19        29557        3.7424                 1126              39601   \n",
       "\n",
       "    stats.total_user_count  weighted_rating_score  wish_list  \n",
       "19                   34060                3.74146      False  \n",
       "\n",
       "[1 rows x 23 columns]"
      ]
     },
     "execution_count": 262,
     "metadata": {},
     "output_type": "execute_result"
    }
   ],
   "source": [
    "final_df[final_df['bid'] == 20951]"
   ]
  },
  {
   "cell_type": "code",
   "execution_count": 263,
   "metadata": {
    "collapsed": false
   },
   "outputs": [
    {
     "name": "stdout",
     "output_type": "stream",
     "text": [
      "<class 'pandas.core.frame.DataFrame'>\n",
      "Int64Index: 377 entries, 0 to 383\n",
      "Data columns (total 23 columns):\n",
      "beer_abv                          377 non-null float64\n",
      "beer_ibu                          377 non-null int64\n",
      "beer_name                         377 non-null object\n",
      "beer_style                        377 non-null object\n",
      "bid                               377 non-null int64\n",
      "brewery.brewery_id                377 non-null int64\n",
      "brewery.brewery_name              377 non-null object\n",
      "brewery.brewery_type              377 non-null object\n",
      "brewery.country_name              377 non-null object\n",
      "brewery.location.brewery_city     370 non-null object\n",
      "brewery.location.brewery_state    346 non-null object\n",
      "brewery.location.lat              377 non-null float64\n",
      "brewery.location.lng              377 non-null float64\n",
      "created_at                        377 non-null object\n",
      "is_homebrew                       377 non-null int64\n",
      "is_in_production                  377 non-null int64\n",
      "rating_count                      377 non-null int64\n",
      "rating_score                      377 non-null float64\n",
      "stats.monthly_count               377 non-null int64\n",
      "stats.total_count                 377 non-null int64\n",
      "stats.total_user_count            377 non-null int64\n",
      "weighted_rating_score             377 non-null float64\n",
      "wish_list                         377 non-null bool\n",
      "dtypes: bool(1), float64(5), int64(9), object(8)\n",
      "memory usage: 68.1+ KB\n"
     ]
    }
   ],
   "source": [
    "final_df.info()"
   ]
  },
  {
   "cell_type": "code",
   "execution_count": 264,
   "metadata": {
    "collapsed": false
   },
   "outputs": [
    {
     "data": {
      "text/plain": [
       "<matplotlib.axes._subplots.AxesSubplot at 0x115c394a8>"
      ]
     },
     "execution_count": 264,
     "metadata": {},
     "output_type": "execute_result"
    },
    {
     "data": {
      "image/png": "[encoded data removed]",
      "text/plain": [
       "<matplotlib.figure.Figure at 0x114ef6ef0>"
      ]
     },
     "metadata": {},
     "output_type": "display_data"
    }
   ],
   "source": [
    "sns.distplot(final_df['rating_score'], axlabel='Initial Load: Beer Ratings')"
   ]
  },
  {
   "cell_type": "code",
   "execution_count": 265,
   "metadata": {
    "collapsed": false
   },
   "outputs": [
    {
     "data": {
      "text/html": [
       "<div>\n",
       "<table border=\"1\" class=\"dataframe\">\n",
       "  <thead>\n",
       "    <tr style=\"text-align: right;\">\n",
       "      <th></th>\n",
       "      <th>bid</th>\n",
       "      <th>rating_score</th>\n",
       "      <th>stats.total_count</th>\n",
       "    </tr>\n",
       "  </thead>\n",
       "  <tbody>\n",
       "    <tr>\n",
       "      <th>0</th>\n",
       "      <td>1</td>\n",
       "      <td>3.23438</td>\n",
       "      <td>15167</td>\n",
       "    </tr>\n",
       "    <tr>\n",
       "      <th>1</th>\n",
       "      <td>2</td>\n",
       "      <td>3.50676</td>\n",
       "      <td>94033</td>\n",
       "    </tr>\n",
       "    <tr>\n",
       "      <th>2</th>\n",
       "      <td>505601</td>\n",
       "      <td>3.69031</td>\n",
       "      <td>5862</td>\n",
       "    </tr>\n",
       "    <tr>\n",
       "      <th>3</th>\n",
       "      <td>16551</td>\n",
       "      <td>3.59889</td>\n",
       "      <td>36984</td>\n",
       "    </tr>\n",
       "    <tr>\n",
       "      <th>4</th>\n",
       "      <td>5</td>\n",
       "      <td>3.28888</td>\n",
       "      <td>710</td>\n",
       "    </tr>\n",
       "    <tr>\n",
       "      <th>5</th>\n",
       "      <td>6</td>\n",
       "      <td>3.38228</td>\n",
       "      <td>2542</td>\n",
       "    </tr>\n",
       "    <tr>\n",
       "      <th>6</th>\n",
       "      <td>7</td>\n",
       "      <td>3.58333</td>\n",
       "      <td>69</td>\n",
       "    </tr>\n",
       "    <tr>\n",
       "      <th>7</th>\n",
       "      <td>8</td>\n",
       "      <td>3.83907</td>\n",
       "      <td>101356</td>\n",
       "    </tr>\n",
       "    <tr>\n",
       "      <th>8</th>\n",
       "      <td>9</td>\n",
       "      <td>0.00000</td>\n",
       "      <td>8</td>\n",
       "    </tr>\n",
       "    <tr>\n",
       "      <th>9</th>\n",
       "      <td>10</td>\n",
       "      <td>3.38679</td>\n",
       "      <td>29839</td>\n",
       "    </tr>\n",
       "  </tbody>\n",
       "</table>\n",
       "</div>"
      ],
      "text/plain": [
       "      bid  rating_score  stats.total_count\n",
       "0       1       3.23438              15167\n",
       "1       2       3.50676              94033\n",
       "2  505601       3.69031               5862\n",
       "3   16551       3.59889              36984\n",
       "4       5       3.28888                710\n",
       "5       6       3.38228               2542\n",
       "6       7       3.58333                 69\n",
       "7       8       3.83907             101356\n",
       "8       9       0.00000                  8\n",
       "9      10       3.38679              29839"
      ]
     },
     "execution_count": 265,
     "metadata": {},
     "output_type": "execute_result"
    }
   ],
   "source": [
    "final_df[['bid', 'rating_score', 'stats.total_count']].head(10)"
   ]
  },
  {
   "cell_type": "code",
   "execution_count": 266,
   "metadata": {
    "collapsed": false
   },
   "outputs": [
    {
     "data": {
      "text/plain": [
       "count    377.000000\n",
       "mean       3.282889\n",
       "std        0.948444\n",
       "min        0.000000\n",
       "25%        3.334220\n",
       "50%        3.512050\n",
       "75%        3.684750\n",
       "max        4.435500\n",
       "Name: rating_score, dtype: float64"
      ]
     },
     "execution_count": 266,
     "metadata": {},
     "output_type": "execute_result"
    }
   ],
   "source": [
    "final_df['rating_score'].describe()"
   ]
  },
  {
   "cell_type": "code",
   "execution_count": 267,
   "metadata": {
    "collapsed": false
   },
   "outputs": [
    {
     "data": {
      "text/plain": [
       "count    350.000000\n",
       "mean       3.536140\n",
       "std        0.266531\n",
       "min        2.500000\n",
       "25%        3.386960\n",
       "50%        3.525330\n",
       "75%        3.691655\n",
       "max        4.435500\n",
       "Name: rating_score, dtype: float64"
      ]
     },
     "execution_count": 267,
     "metadata": {},
     "output_type": "execute_result"
    }
   ],
   "source": [
    "filtered_df = final_df[final_df['rating_score'] > 0.0]\n",
    "filtered_df['rating_score'].describe()"
   ]
  },
  {
   "cell_type": "code",
   "execution_count": 268,
   "metadata": {
    "collapsed": false
   },
   "outputs": [
    {
     "data": {
      "text/plain": [
       "<matplotlib.axes._subplots.AxesSubplot at 0x114fc8b70>"
      ]
     },
     "execution_count": 268,
     "metadata": {},
     "output_type": "execute_result"
    },
    {
     "data": {
      "image/png": "[encoded data removed]",
      "text/plain": [
       "<matplotlib.figure.Figure at 0x114cd7e10>"
      ]
     },
     "metadata": {},
     "output_type": "display_data"
    }
   ],
   "source": [
    "sns.distplot(filtered_df['rating_score'], axlabel='Filtered Beer Ratings')"
   ]
  },
  {
   "cell_type": "code",
   "execution_count": 269,
   "metadata": {
    "collapsed": false
   },
   "outputs": [
    {
     "name": "stdout",
     "output_type": "stream",
     "text": [
      "<class 'pandas.core.frame.DataFrame'>\n",
      "Int64Index: 350 entries, 0 to 383\n",
      "Data columns (total 23 columns):\n",
      "beer_abv                          350 non-null float64\n",
      "beer_ibu                          350 non-null int64\n",
      "beer_name                         350 non-null object\n",
      "beer_style                        350 non-null object\n",
      "bid                               350 non-null int64\n",
      "brewery.brewery_id                350 non-null int64\n",
      "brewery.brewery_name              350 non-null object\n",
      "brewery.brewery_type              350 non-null object\n",
      "brewery.country_name              350 non-null object\n",
      "brewery.location.brewery_city     344 non-null object\n",
      "brewery.location.brewery_state    322 non-null object\n",
      "brewery.location.lat              350 non-null float64\n",
      "brewery.location.lng              350 non-null float64\n",
      "created_at                        350 non-null object\n",
      "is_homebrew                       350 non-null int64\n",
      "is_in_production                  350 non-null int64\n",
      "rating_count                      350 non-null int64\n",
      "rating_score                      350 non-null float64\n",
      "stats.monthly_count               350 non-null int64\n",
      "stats.total_count                 350 non-null int64\n",
      "stats.total_user_count            350 non-null int64\n",
      "weighted_rating_score             350 non-null float64\n",
      "wish_list                         350 non-null bool\n",
      "dtypes: bool(1), float64(5), int64(9), object(8)\n",
      "memory usage: 63.2+ KB\n"
     ]
    }
   ],
   "source": [
    "filtered_df.info()"
   ]
  },
  {
   "cell_type": "code",
   "execution_count": 270,
   "metadata": {
    "collapsed": false
   },
   "outputs": [
    {
     "name": "stderr",
     "output_type": "stream",
     "text": [
      "/Users/joshuaemayer/anaconda/envs/python3/lib/python3.6/site-packages/pandas/core/generic.py:3295: SettingWithCopyWarning: \n",
      "A value is trying to be set on a copy of a slice from a DataFrame\n",
      "\n",
      "See the caveats in the documentation: http://pandas.pydata.org/pandas-docs/stable/indexing.html#indexing-view-versus-copy\n",
      "  self._update_inplace(new_data)\n"
     ]
    }
   ],
   "source": [
    "filtered_df['brewery.location.brewery_state'].fillna(value='', inplace=True)"
   ]
  },
  {
   "cell_type": "code",
   "execution_count": 271,
   "metadata": {
    "collapsed": false
   },
   "outputs": [
    {
     "name": "stdout",
     "output_type": "stream",
     "text": [
      "<class 'pandas.core.frame.DataFrame'>\n",
      "Int64Index: 350 entries, 0 to 383\n",
      "Data columns (total 23 columns):\n",
      "beer_abv                          350 non-null float64\n",
      "beer_ibu                          350 non-null int64\n",
      "beer_name                         350 non-null object\n",
      "beer_style                        350 non-null object\n",
      "bid                               350 non-null int64\n",
      "brewery.brewery_id                350 non-null int64\n",
      "brewery.brewery_name              350 non-null object\n",
      "brewery.brewery_type              350 non-null object\n",
      "brewery.country_name              350 non-null object\n",
      "brewery.location.brewery_city     344 non-null object\n",
      "brewery.location.brewery_state    350 non-null object\n",
      "brewery.location.lat              350 non-null float64\n",
      "brewery.location.lng              350 non-null float64\n",
      "created_at                        350 non-null object\n",
      "is_homebrew                       350 non-null int64\n",
      "is_in_production                  350 non-null int64\n",
      "rating_count                      350 non-null int64\n",
      "rating_score                      350 non-null float64\n",
      "stats.monthly_count               350 non-null int64\n",
      "stats.total_count                 350 non-null int64\n",
      "stats.total_user_count            350 non-null int64\n",
      "weighted_rating_score             350 non-null float64\n",
      "wish_list                         350 non-null bool\n",
      "dtypes: bool(1), float64(5), int64(9), object(8)\n",
      "memory usage: 63.2+ KB\n"
     ]
    }
   ],
   "source": [
    "filtered_df.info()"
   ]
  },
  {
   "cell_type": "code",
   "execution_count": 272,
   "metadata": {
    "collapsed": false
   },
   "outputs": [
    {
     "name": "stderr",
     "output_type": "stream",
     "text": [
      "/Users/joshuaemayer/anaconda/envs/python3/lib/python3.6/site-packages/pandas/core/generic.py:3295: SettingWithCopyWarning: \n",
      "A value is trying to be set on a copy of a slice from a DataFrame\n",
      "\n",
      "See the caveats in the documentation: http://pandas.pydata.org/pandas-docs/stable/indexing.html#indexing-view-versus-copy\n",
      "  self._update_inplace(new_data)\n"
     ]
    }
   ],
   "source": [
    "filtered_df['brewery.location.brewery_city'].fillna(value='', inplace=True)"
   ]
  },
  {
   "cell_type": "code",
   "execution_count": 273,
   "metadata": {
    "collapsed": false
   },
   "outputs": [
    {
     "name": "stdout",
     "output_type": "stream",
     "text": [
      "<class 'pandas.core.frame.DataFrame'>\n",
      "Int64Index: 350 entries, 0 to 383\n",
      "Data columns (total 23 columns):\n",
      "beer_abv                          350 non-null float64\n",
      "beer_ibu                          350 non-null int64\n",
      "beer_name                         350 non-null object\n",
      "beer_style                        350 non-null object\n",
      "bid                               350 non-null int64\n",
      "brewery.brewery_id                350 non-null int64\n",
      "brewery.brewery_name              350 non-null object\n",
      "brewery.brewery_type              350 non-null object\n",
      "brewery.country_name              350 non-null object\n",
      "brewery.location.brewery_city     350 non-null object\n",
      "brewery.location.brewery_state    350 non-null object\n",
      "brewery.location.lat              350 non-null float64\n",
      "brewery.location.lng              350 non-null float64\n",
      "created_at                        350 non-null object\n",
      "is_homebrew                       350 non-null int64\n",
      "is_in_production                  350 non-null int64\n",
      "rating_count                      350 non-null int64\n",
      "rating_score                      350 non-null float64\n",
      "stats.monthly_count               350 non-null int64\n",
      "stats.total_count                 350 non-null int64\n",
      "stats.total_user_count            350 non-null int64\n",
      "weighted_rating_score             350 non-null float64\n",
      "wish_list                         350 non-null bool\n",
      "dtypes: bool(1), float64(5), int64(9), object(8)\n",
      "memory usage: 63.2+ KB\n"
     ]
    }
   ],
   "source": [
    "filtered_df.info()"
   ]
  },
  {
   "cell_type": "code",
   "execution_count": 277,
   "metadata": {
    "collapsed": false
   },
   "outputs": [
    {
     "data": {
      "text/plain": [
       "35"
      ]
     },
     "execution_count": 277,
     "metadata": {},
     "output_type": "execute_result"
    }
   ],
   "source": [
    "filtered_df[filtered_df['is_in_production'] == 0]['bid'].count()"
   ]
  },
  {
   "cell_type": "code",
   "execution_count": 278,
   "metadata": {
    "collapsed": false
   },
   "outputs": [
    {
     "data": {
      "text/html": [
       "<div>\n",
       "<table border=\"1\" class=\"dataframe\">\n",
       "  <thead>\n",
       "    <tr style=\"text-align: right;\">\n",
       "      <th></th>\n",
       "      <th>beer_abv</th>\n",
       "      <th>beer_ibu</th>\n",
       "      <th>bid</th>\n",
       "      <th>brewery.brewery_id</th>\n",
       "      <th>brewery.location.lat</th>\n",
       "      <th>brewery.location.lng</th>\n",
       "      <th>is_homebrew</th>\n",
       "      <th>is_in_production</th>\n",
       "      <th>rating_count</th>\n",
       "      <th>rating_score</th>\n",
       "      <th>stats.monthly_count</th>\n",
       "      <th>stats.total_count</th>\n",
       "      <th>stats.total_user_count</th>\n",
       "      <th>weighted_rating_score</th>\n",
       "    </tr>\n",
       "  </thead>\n",
       "  <tbody>\n",
       "    <tr>\n",
       "      <th>count</th>\n",
       "      <td>350.000000</td>\n",
       "      <td>350.000000</td>\n",
       "      <td>350.000000</td>\n",
       "      <td>350.000000</td>\n",
       "      <td>350.000000</td>\n",
       "      <td>350.000000</td>\n",
       "      <td>350.0</td>\n",
       "      <td>350.000000</td>\n",
       "      <td>350.000000</td>\n",
       "      <td>350.000000</td>\n",
       "      <td>350.000000</td>\n",
       "      <td>350.000000</td>\n",
       "      <td>350.000000</td>\n",
       "      <td>350.000000</td>\n",
       "    </tr>\n",
       "    <tr>\n",
       "      <th>mean</th>\n",
       "      <td>6.548829</td>\n",
       "      <td>14.522857</td>\n",
       "      <td>20526.174286</td>\n",
       "      <td>3159.862857</td>\n",
       "      <td>42.483850</td>\n",
       "      <td>-62.645488</td>\n",
       "      <td>0.0</td>\n",
       "      <td>0.900000</td>\n",
       "      <td>11582.437143</td>\n",
       "      <td>3.536140</td>\n",
       "      <td>238.762857</td>\n",
       "      <td>16618.882857</td>\n",
       "      <td>13017.085714</td>\n",
       "      <td>3.586119</td>\n",
       "    </tr>\n",
       "    <tr>\n",
       "      <th>std</th>\n",
       "      <td>2.242651</td>\n",
       "      <td>21.490273</td>\n",
       "      <td>93233.697386</td>\n",
       "      <td>14150.858218</td>\n",
       "      <td>13.630378</td>\n",
       "      <td>59.982219</td>\n",
       "      <td>0.0</td>\n",
       "      <td>0.300429</td>\n",
       "      <td>21110.943783</td>\n",
       "      <td>0.266531</td>\n",
       "      <td>553.361148</td>\n",
       "      <td>32844.108627</td>\n",
       "      <td>23651.838360</td>\n",
       "      <td>0.183810</td>\n",
       "    </tr>\n",
       "    <tr>\n",
       "      <th>min</th>\n",
       "      <td>0.000000</td>\n",
       "      <td>0.000000</td>\n",
       "      <td>1.000000</td>\n",
       "      <td>44.000000</td>\n",
       "      <td>-34.872700</td>\n",
       "      <td>-124.153000</td>\n",
       "      <td>0.0</td>\n",
       "      <td>0.000000</td>\n",
       "      <td>10.000000</td>\n",
       "      <td>2.500000</td>\n",
       "      <td>0.000000</td>\n",
       "      <td>13.000000</td>\n",
       "      <td>13.000000</td>\n",
       "      <td>3.124160</td>\n",
       "    </tr>\n",
       "    <tr>\n",
       "      <th>25%</th>\n",
       "      <td>5.000000</td>\n",
       "      <td>0.000000</td>\n",
       "      <td>128.250000</td>\n",
       "      <td>435.000000</td>\n",
       "      <td>38.837525</td>\n",
       "      <td>-120.599750</td>\n",
       "      <td>0.0</td>\n",
       "      <td>1.000000</td>\n",
       "      <td>410.500000</td>\n",
       "      <td>3.386960</td>\n",
       "      <td>2.000000</td>\n",
       "      <td>557.500000</td>\n",
       "      <td>520.000000</td>\n",
       "      <td>3.476863</td>\n",
       "    </tr>\n",
       "    <tr>\n",
       "      <th>50%</th>\n",
       "      <td>6.000000</td>\n",
       "      <td>0.000000</td>\n",
       "      <td>264.500000</td>\n",
       "      <td>869.000000</td>\n",
       "      <td>43.854400</td>\n",
       "      <td>-95.930900</td>\n",
       "      <td>0.0</td>\n",
       "      <td>1.000000</td>\n",
       "      <td>3266.500000</td>\n",
       "      <td>3.525330</td>\n",
       "      <td>36.000000</td>\n",
       "      <td>4399.000000</td>\n",
       "      <td>3738.500000</td>\n",
       "      <td>3.581245</td>\n",
       "    </tr>\n",
       "    <tr>\n",
       "      <th>75%</th>\n",
       "      <td>8.000000</td>\n",
       "      <td>25.000000</td>\n",
       "      <td>394.500000</td>\n",
       "      <td>2470.000000</td>\n",
       "      <td>50.838500</td>\n",
       "      <td>3.298900</td>\n",
       "      <td>0.0</td>\n",
       "      <td>1.000000</td>\n",
       "      <td>13145.250000</td>\n",
       "      <td>3.691655</td>\n",
       "      <td>230.750000</td>\n",
       "      <td>17568.000000</td>\n",
       "      <td>14684.750000</td>\n",
       "      <td>3.670818</td>\n",
       "    </tr>\n",
       "    <tr>\n",
       "      <th>max</th>\n",
       "      <td>17.100000</td>\n",
       "      <td>95.000000</td>\n",
       "      <td>932498.000000</td>\n",
       "      <td>237672.000000</td>\n",
       "      <td>58.406000</td>\n",
       "      <td>140.468000</td>\n",
       "      <td>0.0</td>\n",
       "      <td>1.000000</td>\n",
       "      <td>169923.000000</td>\n",
       "      <td>4.435500</td>\n",
       "      <td>4973.000000</td>\n",
       "      <td>280203.000000</td>\n",
       "      <td>195463.000000</td>\n",
       "      <td>4.433650</td>\n",
       "    </tr>\n",
       "  </tbody>\n",
       "</table>\n",
       "</div>"
      ],
      "text/plain": [
       "         beer_abv    beer_ibu            bid  brewery.brewery_id  \\\n",
       "count  350.000000  350.000000     350.000000          350.000000   \n",
       "mean     6.548829   14.522857   20526.174286         3159.862857   \n",
       "std      2.242651   21.490273   93233.697386        14150.858218   \n",
       "min      0.000000    0.000000       1.000000           44.000000   \n",
       "25%      5.000000    0.000000     128.250000          435.000000   \n",
       "50%      6.000000    0.000000     264.500000          869.000000   \n",
       "75%      8.000000   25.000000     394.500000         2470.000000   \n",
       "max     17.100000   95.000000  932498.000000       237672.000000   \n",
       "\n",
       "       brewery.location.lat  brewery.location.lng  is_homebrew  \\\n",
       "count            350.000000            350.000000        350.0   \n",
       "mean              42.483850            -62.645488          0.0   \n",
       "std               13.630378             59.982219          0.0   \n",
       "min              -34.872700           -124.153000          0.0   \n",
       "25%               38.837525           -120.599750          0.0   \n",
       "50%               43.854400            -95.930900          0.0   \n",
       "75%               50.838500              3.298900          0.0   \n",
       "max               58.406000            140.468000          0.0   \n",
       "\n",
       "       is_in_production   rating_count  rating_score  stats.monthly_count  \\\n",
       "count        350.000000     350.000000    350.000000           350.000000   \n",
       "mean           0.900000   11582.437143      3.536140           238.762857   \n",
       "std            0.300429   21110.943783      0.266531           553.361148   \n",
       "min            0.000000      10.000000      2.500000             0.000000   \n",
       "25%            1.000000     410.500000      3.386960             2.000000   \n",
       "50%            1.000000    3266.500000      3.525330            36.000000   \n",
       "75%            1.000000   13145.250000      3.691655           230.750000   \n",
       "max            1.000000  169923.000000      4.435500          4973.000000   \n",
       "\n",
       "       stats.total_count  stats.total_user_count  weighted_rating_score  \n",
       "count         350.000000              350.000000             350.000000  \n",
       "mean        16618.882857            13017.085714               3.586119  \n",
       "std         32844.108627            23651.838360               0.183810  \n",
       "min            13.000000               13.000000               3.124160  \n",
       "25%           557.500000              520.000000               3.476863  \n",
       "50%          4399.000000             3738.500000               3.581245  \n",
       "75%         17568.000000            14684.750000               3.670818  \n",
       "max        280203.000000           195463.000000               4.433650  "
      ]
     },
     "execution_count": 278,
     "metadata": {},
     "output_type": "execute_result"
    }
   ],
   "source": [
    "filtered_df.describe()"
   ]
  },
  {
   "cell_type": "code",
   "execution_count": 279,
   "metadata": {
    "collapsed": false
   },
   "outputs": [
    {
     "data": {
      "text/plain": [
       "beer_abv                          342\n",
       "beer_ibu                          342\n",
       "beer_name                         342\n",
       "beer_style                        342\n",
       "bid                               342\n",
       "brewery.brewery_id                342\n",
       "brewery.brewery_name              342\n",
       "brewery.brewery_type              342\n",
       "brewery.country_name              342\n",
       "brewery.location.brewery_city     342\n",
       "brewery.location.brewery_state    342\n",
       "brewery.location.lat              342\n",
       "brewery.location.lng              342\n",
       "created_at                        342\n",
       "is_homebrew                       342\n",
       "is_in_production                  342\n",
       "rating_count                      342\n",
       "rating_score                      342\n",
       "stats.monthly_count               342\n",
       "stats.total_count                 342\n",
       "stats.total_user_count            342\n",
       "weighted_rating_score             342\n",
       "wish_list                         342\n",
       "dtype: int64"
      ]
     },
     "execution_count": 279,
     "metadata": {},
     "output_type": "execute_result"
    }
   ],
   "source": [
    "filtered_df[filtered_df['beer_abv'] > 0.1].count()"
   ]
  },
  {
   "cell_type": "code",
   "execution_count": 281,
   "metadata": {
    "collapsed": false
   },
   "outputs": [],
   "source": [
    "filtered_df = filtered_df[filtered_df['beer_abv'] > 0.1]"
   ]
  },
  {
   "cell_type": "code",
   "execution_count": 280,
   "metadata": {
    "collapsed": false
   },
   "outputs": [
    {
     "data": {
      "text/plain": [
       "beer_abv                          143\n",
       "beer_ibu                          143\n",
       "beer_name                         143\n",
       "beer_style                        143\n",
       "bid                               143\n",
       "brewery.brewery_id                143\n",
       "brewery.brewery_name              143\n",
       "brewery.brewery_type              143\n",
       "brewery.country_name              143\n",
       "brewery.location.brewery_city     143\n",
       "brewery.location.brewery_state    143\n",
       "brewery.location.lat              143\n",
       "brewery.location.lng              143\n",
       "created_at                        143\n",
       "is_homebrew                       143\n",
       "is_in_production                  143\n",
       "rating_count                      143\n",
       "rating_score                      143\n",
       "stats.monthly_count               143\n",
       "stats.total_count                 143\n",
       "stats.total_user_count            143\n",
       "weighted_rating_score             143\n",
       "wish_list                         143\n",
       "dtype: int64"
      ]
     },
     "execution_count": 280,
     "metadata": {},
     "output_type": "execute_result"
    }
   ],
   "source": [
    "filtered_df[filtered_df['beer_ibu'] > 0.1].count()"
   ]
  },
  {
   "cell_type": "code",
   "execution_count": 238,
   "metadata": {
    "collapsed": true
   },
   "outputs": [],
   "source": [
    "#filtered_df = filtered_df[filtered_df['beer_ibu'] > 0.1]"
   ]
  },
  {
   "cell_type": "code",
   "execution_count": 282,
   "metadata": {
    "collapsed": false
   },
   "outputs": [
    {
     "name": "stdout",
     "output_type": "stream",
     "text": [
      "<class 'pandas.core.frame.DataFrame'>\n",
      "Int64Index: 342 entries, 0 to 383\n",
      "Data columns (total 23 columns):\n",
      "beer_abv                          342 non-null float64\n",
      "beer_ibu                          342 non-null int64\n",
      "beer_name                         342 non-null object\n",
      "beer_style                        342 non-null object\n",
      "bid                               342 non-null int64\n",
      "brewery.brewery_id                342 non-null int64\n",
      "brewery.brewery_name              342 non-null object\n",
      "brewery.brewery_type              342 non-null object\n",
      "brewery.country_name              342 non-null object\n",
      "brewery.location.brewery_city     342 non-null object\n",
      "brewery.location.brewery_state    342 non-null object\n",
      "brewery.location.lat              342 non-null float64\n",
      "brewery.location.lng              342 non-null float64\n",
      "created_at                        342 non-null object\n",
      "is_homebrew                       342 non-null int64\n",
      "is_in_production                  342 non-null int64\n",
      "rating_count                      342 non-null int64\n",
      "rating_score                      342 non-null float64\n",
      "stats.monthly_count               342 non-null int64\n",
      "stats.total_count                 342 non-null int64\n",
      "stats.total_user_count            342 non-null int64\n",
      "weighted_rating_score             342 non-null float64\n",
      "wish_list                         342 non-null bool\n",
      "dtypes: bool(1), float64(5), int64(9), object(8)\n",
      "memory usage: 61.8+ KB\n"
     ]
    }
   ],
   "source": [
    "filtered_df.info()"
   ]
  },
  {
   "cell_type": "code",
   "execution_count": 283,
   "metadata": {
    "collapsed": false
   },
   "outputs": [
    {
     "data": {
      "text/html": [
       "<div>\n",
       "<table border=\"1\" class=\"dataframe\">\n",
       "  <thead>\n",
       "    <tr style=\"text-align: right;\">\n",
       "      <th></th>\n",
       "      <th>beer_abv</th>\n",
       "      <th>beer_ibu</th>\n",
       "      <th>bid</th>\n",
       "      <th>brewery.brewery_id</th>\n",
       "      <th>brewery.location.lat</th>\n",
       "      <th>brewery.location.lng</th>\n",
       "      <th>is_homebrew</th>\n",
       "      <th>is_in_production</th>\n",
       "      <th>rating_count</th>\n",
       "      <th>rating_score</th>\n",
       "      <th>stats.monthly_count</th>\n",
       "      <th>stats.total_count</th>\n",
       "      <th>stats.total_user_count</th>\n",
       "      <th>weighted_rating_score</th>\n",
       "    </tr>\n",
       "  </thead>\n",
       "  <tbody>\n",
       "    <tr>\n",
       "      <th>count</th>\n",
       "      <td>342.000000</td>\n",
       "      <td>342.000000</td>\n",
       "      <td>342.000000</td>\n",
       "      <td>342.000000</td>\n",
       "      <td>342.000000</td>\n",
       "      <td>342.000000</td>\n",
       "      <td>342.0</td>\n",
       "      <td>342.000000</td>\n",
       "      <td>342.000000</td>\n",
       "      <td>342.000000</td>\n",
       "      <td>342.000000</td>\n",
       "      <td>342.000000</td>\n",
       "      <td>342.000000</td>\n",
       "      <td>342.000000</td>\n",
       "    </tr>\n",
       "    <tr>\n",
       "      <th>mean</th>\n",
       "      <td>6.702018</td>\n",
       "      <td>14.862573</td>\n",
       "      <td>20863.166667</td>\n",
       "      <td>3184.500000</td>\n",
       "      <td>42.524782</td>\n",
       "      <td>-61.643623</td>\n",
       "      <td>0.0</td>\n",
       "      <td>0.900585</td>\n",
       "      <td>11851.839181</td>\n",
       "      <td>3.539108</td>\n",
       "      <td>244.342105</td>\n",
       "      <td>17004.511696</td>\n",
       "      <td>13318.897661</td>\n",
       "      <td>3.585927</td>\n",
       "    </tr>\n",
       "    <tr>\n",
       "      <th>std</th>\n",
       "      <td>2.029234</td>\n",
       "      <td>21.624124</td>\n",
       "      <td>94263.769766</td>\n",
       "      <td>14310.355115</td>\n",
       "      <td>13.779331</td>\n",
       "      <td>60.294458</td>\n",
       "      <td>0.0</td>\n",
       "      <td>0.299657</td>\n",
       "      <td>21282.454054</td>\n",
       "      <td>0.264922</td>\n",
       "      <td>558.593308</td>\n",
       "      <td>33128.800106</td>\n",
       "      <td>23843.995962</td>\n",
       "      <td>0.185577</td>\n",
       "    </tr>\n",
       "    <tr>\n",
       "      <th>min</th>\n",
       "      <td>3.500000</td>\n",
       "      <td>0.000000</td>\n",
       "      <td>1.000000</td>\n",
       "      <td>44.000000</td>\n",
       "      <td>-34.872700</td>\n",
       "      <td>-124.153000</td>\n",
       "      <td>0.0</td>\n",
       "      <td>0.000000</td>\n",
       "      <td>10.000000</td>\n",
       "      <td>2.500000</td>\n",
       "      <td>0.000000</td>\n",
       "      <td>13.000000</td>\n",
       "      <td>13.000000</td>\n",
       "      <td>3.124160</td>\n",
       "    </tr>\n",
       "    <tr>\n",
       "      <th>25%</th>\n",
       "      <td>5.100000</td>\n",
       "      <td>0.000000</td>\n",
       "      <td>130.000000</td>\n",
       "      <td>432.250000</td>\n",
       "      <td>38.837525</td>\n",
       "      <td>-120.599750</td>\n",
       "      <td>0.0</td>\n",
       "      <td>1.000000</td>\n",
       "      <td>476.000000</td>\n",
       "      <td>3.392733</td>\n",
       "      <td>3.000000</td>\n",
       "      <td>617.250000</td>\n",
       "      <td>545.000000</td>\n",
       "      <td>3.473492</td>\n",
       "    </tr>\n",
       "    <tr>\n",
       "      <th>50%</th>\n",
       "      <td>6.100000</td>\n",
       "      <td>0.000000</td>\n",
       "      <td>265.500000</td>\n",
       "      <td>862.500000</td>\n",
       "      <td>44.046800</td>\n",
       "      <td>-93.973150</td>\n",
       "      <td>0.0</td>\n",
       "      <td>1.000000</td>\n",
       "      <td>3576.500000</td>\n",
       "      <td>3.525330</td>\n",
       "      <td>39.500000</td>\n",
       "      <td>4659.000000</td>\n",
       "      <td>4076.000000</td>\n",
       "      <td>3.577225</td>\n",
       "    </tr>\n",
       "    <tr>\n",
       "      <th>75%</th>\n",
       "      <td>8.000000</td>\n",
       "      <td>25.000000</td>\n",
       "      <td>395.750000</td>\n",
       "      <td>2470.000000</td>\n",
       "      <td>50.841000</td>\n",
       "      <td>3.309395</td>\n",
       "      <td>0.0</td>\n",
       "      <td>1.000000</td>\n",
       "      <td>13261.000000</td>\n",
       "      <td>3.691172</td>\n",
       "      <td>241.250000</td>\n",
       "      <td>17936.750000</td>\n",
       "      <td>14831.750000</td>\n",
       "      <td>3.671250</td>\n",
       "    </tr>\n",
       "    <tr>\n",
       "      <th>max</th>\n",
       "      <td>17.100000</td>\n",
       "      <td>95.000000</td>\n",
       "      <td>932498.000000</td>\n",
       "      <td>237672.000000</td>\n",
       "      <td>58.406000</td>\n",
       "      <td>140.468000</td>\n",
       "      <td>0.0</td>\n",
       "      <td>1.000000</td>\n",
       "      <td>169923.000000</td>\n",
       "      <td>4.435500</td>\n",
       "      <td>4973.000000</td>\n",
       "      <td>280203.000000</td>\n",
       "      <td>195463.000000</td>\n",
       "      <td>4.433650</td>\n",
       "    </tr>\n",
       "  </tbody>\n",
       "</table>\n",
       "</div>"
      ],
      "text/plain": [
       "         beer_abv    beer_ibu            bid  brewery.brewery_id  \\\n",
       "count  342.000000  342.000000     342.000000          342.000000   \n",
       "mean     6.702018   14.862573   20863.166667         3184.500000   \n",
       "std      2.029234   21.624124   94263.769766        14310.355115   \n",
       "min      3.500000    0.000000       1.000000           44.000000   \n",
       "25%      5.100000    0.000000     130.000000          432.250000   \n",
       "50%      6.100000    0.000000     265.500000          862.500000   \n",
       "75%      8.000000   25.000000     395.750000         2470.000000   \n",
       "max     17.100000   95.000000  932498.000000       237672.000000   \n",
       "\n",
       "       brewery.location.lat  brewery.location.lng  is_homebrew  \\\n",
       "count            342.000000            342.000000        342.0   \n",
       "mean              42.524782            -61.643623          0.0   \n",
       "std               13.779331             60.294458          0.0   \n",
       "min              -34.872700           -124.153000          0.0   \n",
       "25%               38.837525           -120.599750          0.0   \n",
       "50%               44.046800            -93.973150          0.0   \n",
       "75%               50.841000              3.309395          0.0   \n",
       "max               58.406000            140.468000          0.0   \n",
       "\n",
       "       is_in_production   rating_count  rating_score  stats.monthly_count  \\\n",
       "count        342.000000     342.000000    342.000000           342.000000   \n",
       "mean           0.900585   11851.839181      3.539108           244.342105   \n",
       "std            0.299657   21282.454054      0.264922           558.593308   \n",
       "min            0.000000      10.000000      2.500000             0.000000   \n",
       "25%            1.000000     476.000000      3.392733             3.000000   \n",
       "50%            1.000000    3576.500000      3.525330            39.500000   \n",
       "75%            1.000000   13261.000000      3.691172           241.250000   \n",
       "max            1.000000  169923.000000      4.435500          4973.000000   \n",
       "\n",
       "       stats.total_count  stats.total_user_count  weighted_rating_score  \n",
       "count         342.000000              342.000000             342.000000  \n",
       "mean        17004.511696            13318.897661               3.585927  \n",
       "std         33128.800106            23843.995962               0.185577  \n",
       "min            13.000000               13.000000               3.124160  \n",
       "25%           617.250000              545.000000               3.473492  \n",
       "50%          4659.000000             4076.000000               3.577225  \n",
       "75%         17936.750000            14831.750000               3.671250  \n",
       "max        280203.000000           195463.000000               4.433650  "
      ]
     },
     "execution_count": 283,
     "metadata": {},
     "output_type": "execute_result"
    }
   ],
   "source": [
    "filtered_df.describe()"
   ]
  },
  {
   "cell_type": "code",
   "execution_count": 286,
   "metadata": {
    "collapsed": true
   },
   "outputs": [],
   "source": [
    "filtered_df.drop('beer_ibu', axis=1, inplace=True)"
   ]
  },
  {
   "cell_type": "code",
   "execution_count": 311,
   "metadata": {
    "collapsed": false
   },
   "outputs": [
    {
     "data": {
      "text/html": [
       "<div>\n",
       "<table border=\"1\" class=\"dataframe\">\n",
       "  <thead>\n",
       "    <tr style=\"text-align: right;\">\n",
       "      <th></th>\n",
       "      <th>beer_abv</th>\n",
       "      <th>bid</th>\n",
       "      <th>brewery.brewery_id</th>\n",
       "      <th>brewery.location.lat</th>\n",
       "      <th>brewery.location.lng</th>\n",
       "      <th>is_homebrew</th>\n",
       "      <th>is_in_production</th>\n",
       "      <th>rating_count</th>\n",
       "      <th>rating_score</th>\n",
       "      <th>stats.monthly_count</th>\n",
       "      <th>stats.total_count</th>\n",
       "      <th>stats.total_user_count</th>\n",
       "      <th>weighted_rating_score</th>\n",
       "    </tr>\n",
       "  </thead>\n",
       "  <tbody>\n",
       "    <tr>\n",
       "      <th>count</th>\n",
       "      <td>342.000000</td>\n",
       "      <td>342.000000</td>\n",
       "      <td>342.000000</td>\n",
       "      <td>342.000000</td>\n",
       "      <td>342.000000</td>\n",
       "      <td>342.0</td>\n",
       "      <td>342.000000</td>\n",
       "      <td>342.000000</td>\n",
       "      <td>342.000000</td>\n",
       "      <td>342.000000</td>\n",
       "      <td>342.000000</td>\n",
       "      <td>342.000000</td>\n",
       "      <td>342.000000</td>\n",
       "    </tr>\n",
       "    <tr>\n",
       "      <th>mean</th>\n",
       "      <td>6.702018</td>\n",
       "      <td>20863.166667</td>\n",
       "      <td>3184.500000</td>\n",
       "      <td>42.524782</td>\n",
       "      <td>-61.643623</td>\n",
       "      <td>0.0</td>\n",
       "      <td>0.900585</td>\n",
       "      <td>11851.839181</td>\n",
       "      <td>3.539108</td>\n",
       "      <td>244.342105</td>\n",
       "      <td>17004.511696</td>\n",
       "      <td>13318.897661</td>\n",
       "      <td>3.585927</td>\n",
       "    </tr>\n",
       "    <tr>\n",
       "      <th>std</th>\n",
       "      <td>2.029234</td>\n",
       "      <td>94263.769766</td>\n",
       "      <td>14310.355115</td>\n",
       "      <td>13.779331</td>\n",
       "      <td>60.294458</td>\n",
       "      <td>0.0</td>\n",
       "      <td>0.299657</td>\n",
       "      <td>21282.454054</td>\n",
       "      <td>0.264922</td>\n",
       "      <td>558.593308</td>\n",
       "      <td>33128.800106</td>\n",
       "      <td>23843.995962</td>\n",
       "      <td>0.185577</td>\n",
       "    </tr>\n",
       "    <tr>\n",
       "      <th>min</th>\n",
       "      <td>3.500000</td>\n",
       "      <td>1.000000</td>\n",
       "      <td>44.000000</td>\n",
       "      <td>-34.872700</td>\n",
       "      <td>-124.153000</td>\n",
       "      <td>0.0</td>\n",
       "      <td>0.000000</td>\n",
       "      <td>10.000000</td>\n",
       "      <td>2.500000</td>\n",
       "      <td>0.000000</td>\n",
       "      <td>13.000000</td>\n",
       "      <td>13.000000</td>\n",
       "      <td>3.124160</td>\n",
       "    </tr>\n",
       "    <tr>\n",
       "      <th>25%</th>\n",
       "      <td>5.100000</td>\n",
       "      <td>130.000000</td>\n",
       "      <td>432.250000</td>\n",
       "      <td>38.837525</td>\n",
       "      <td>-120.599750</td>\n",
       "      <td>0.0</td>\n",
       "      <td>1.000000</td>\n",
       "      <td>476.000000</td>\n",
       "      <td>3.392733</td>\n",
       "      <td>3.000000</td>\n",
       "      <td>617.250000</td>\n",
       "      <td>545.000000</td>\n",
       "      <td>3.473492</td>\n",
       "    </tr>\n",
       "    <tr>\n",
       "      <th>50%</th>\n",
       "      <td>6.100000</td>\n",
       "      <td>265.500000</td>\n",
       "      <td>862.500000</td>\n",
       "      <td>44.046800</td>\n",
       "      <td>-93.973150</td>\n",
       "      <td>0.0</td>\n",
       "      <td>1.000000</td>\n",
       "      <td>3576.500000</td>\n",
       "      <td>3.525330</td>\n",
       "      <td>39.500000</td>\n",
       "      <td>4659.000000</td>\n",
       "      <td>4076.000000</td>\n",
       "      <td>3.577225</td>\n",
       "    </tr>\n",
       "    <tr>\n",
       "      <th>75%</th>\n",
       "      <td>8.000000</td>\n",
       "      <td>395.750000</td>\n",
       "      <td>2470.000000</td>\n",
       "      <td>50.841000</td>\n",
       "      <td>3.309395</td>\n",
       "      <td>0.0</td>\n",
       "      <td>1.000000</td>\n",
       "      <td>13261.000000</td>\n",
       "      <td>3.691172</td>\n",
       "      <td>241.250000</td>\n",
       "      <td>17936.750000</td>\n",
       "      <td>14831.750000</td>\n",
       "      <td>3.671250</td>\n",
       "    </tr>\n",
       "    <tr>\n",
       "      <th>max</th>\n",
       "      <td>17.100000</td>\n",
       "      <td>932498.000000</td>\n",
       "      <td>237672.000000</td>\n",
       "      <td>58.406000</td>\n",
       "      <td>140.468000</td>\n",
       "      <td>0.0</td>\n",
       "      <td>1.000000</td>\n",
       "      <td>169923.000000</td>\n",
       "      <td>4.435500</td>\n",
       "      <td>4973.000000</td>\n",
       "      <td>280203.000000</td>\n",
       "      <td>195463.000000</td>\n",
       "      <td>4.433650</td>\n",
       "    </tr>\n",
       "  </tbody>\n",
       "</table>\n",
       "</div>"
      ],
      "text/plain": [
       "         beer_abv            bid  brewery.brewery_id  brewery.location.lat  \\\n",
       "count  342.000000     342.000000          342.000000            342.000000   \n",
       "mean     6.702018   20863.166667         3184.500000             42.524782   \n",
       "std      2.029234   94263.769766        14310.355115             13.779331   \n",
       "min      3.500000       1.000000           44.000000            -34.872700   \n",
       "25%      5.100000     130.000000          432.250000             38.837525   \n",
       "50%      6.100000     265.500000          862.500000             44.046800   \n",
       "75%      8.000000     395.750000         2470.000000             50.841000   \n",
       "max     17.100000  932498.000000       237672.000000             58.406000   \n",
       "\n",
       "       brewery.location.lng  is_homebrew  is_in_production   rating_count  \\\n",
       "count            342.000000        342.0        342.000000     342.000000   \n",
       "mean             -61.643623          0.0          0.900585   11851.839181   \n",
       "std               60.294458          0.0          0.299657   21282.454054   \n",
       "min             -124.153000          0.0          0.000000      10.000000   \n",
       "25%             -120.599750          0.0          1.000000     476.000000   \n",
       "50%              -93.973150          0.0          1.000000    3576.500000   \n",
       "75%                3.309395          0.0          1.000000   13261.000000   \n",
       "max              140.468000          0.0          1.000000  169923.000000   \n",
       "\n",
       "       rating_score  stats.monthly_count  stats.total_count  \\\n",
       "count    342.000000           342.000000         342.000000   \n",
       "mean       3.539108           244.342105       17004.511696   \n",
       "std        0.264922           558.593308       33128.800106   \n",
       "min        2.500000             0.000000          13.000000   \n",
       "25%        3.392733             3.000000         617.250000   \n",
       "50%        3.525330            39.500000        4659.000000   \n",
       "75%        3.691172           241.250000       17936.750000   \n",
       "max        4.435500          4973.000000      280203.000000   \n",
       "\n",
       "       stats.total_user_count  weighted_rating_score  \n",
       "count              342.000000             342.000000  \n",
       "mean             13318.897661               3.585927  \n",
       "std              23843.995962               0.185577  \n",
       "min                 13.000000               3.124160  \n",
       "25%                545.000000               3.473492  \n",
       "50%               4076.000000               3.577225  \n",
       "75%              14831.750000               3.671250  \n",
       "max             195463.000000               4.433650  "
      ]
     },
     "execution_count": 311,
     "metadata": {},
     "output_type": "execute_result"
    }
   ],
   "source": [
    "filtered_df.describe()"
   ]
  },
  {
   "cell_type": "code",
   "execution_count": 310,
   "metadata": {
    "collapsed": false
   },
   "outputs": [
    {
     "data": {
      "image/png": "[encoded data removed]",
      "text/plain": [
       "<matplotlib.figure.Figure at 0x10c6ec6d8>"
      ]
     },
     "metadata": {},
     "output_type": "display_data"
    }
   ],
   "source": [
    "sns_plot = sns.boxplot(data=filtered_df)"
   ]
  },
  {
   "cell_type": "code",
   "execution_count": null,
   "metadata": {
    "collapsed": true
   },
   "outputs": [],
   "source": []
  }
 ],
 "metadata": {
  "kernelspec": {
   "display_name": "Python 3",
   "language": "python",
   "name": "python3"
  },
  "language_info": {
   "codemirror_mode": {
    "name": "ipython",
    "version": 3
   },
   "file_extension": ".py",
   "mimetype": "text/x-python",
   "name": "python",
   "nbconvert_exporter": "python",
   "pygments_lexer": "ipython3",
   "version": "3.6.1"
  }
 },
 "nbformat": 4,
 "nbformat_minor": 0
}
