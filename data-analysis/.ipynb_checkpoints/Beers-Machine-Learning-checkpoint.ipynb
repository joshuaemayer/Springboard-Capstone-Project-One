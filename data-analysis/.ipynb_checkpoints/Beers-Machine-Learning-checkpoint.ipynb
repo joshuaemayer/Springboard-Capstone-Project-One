{
 "cells": [
  {
   "cell_type": "markdown",
   "metadata": {},
   "source": [
    "## Machine Learning with \"My Beers\" Dataset"
   ]
  },
  {
   "cell_type": "markdown",
   "metadata": {},
   "source": [
    "In this notebook, I would like to test out different supervised learning algorithms to see which one most accurately predicts beer ratings. "
   ]
  },
  {
   "cell_type": "markdown",
   "metadata": {},
   "source": [
    "1) Use Random Forest algorithm to help us select key features.\n",
    "\n",
    "2) Test Algorithms with the key features. Key algorithms to test: Linear Regression, Random Forest, and Gradient Boosting.\n",
    "\n",
    "3) Understand differences in the features being selected."
   ]
  },
  {
   "cell_type": "code",
   "execution_count": 2,
   "metadata": {
    "collapsed": true
   },
   "outputs": [],
   "source": [
    "import pandas as pd #for building dataframes from CSV files\n",
    "import glob, os #for reading file names\n",
    "import seaborn as sns #for fancy charts\n",
    "import numpy as np #for np.nan\n",
    "from scipy import stats #for statistical analysis\n",
    "from scipy.stats import norm #for statistical analysis\n",
    "from datetime import datetime #for time-series plots\n",
    "import statsmodels #for integration with pandas and analysis\n",
    "import matplotlib.pyplot as plt \n",
    "%matplotlib inline  "
   ]
  },
  {
   "cell_type": "code",
   "execution_count": 3,
   "metadata": {
    "collapsed": false
   },
   "outputs": [],
   "source": [
    "#Initialize dataframes given API data\n",
    "my_beer_df = pd.read_csv('../data/my-final-beer-data.csv')\n",
    "my_new_beer_df = pd.read_csv('../data/final-avg-user-beer-data.csv')"
   ]
  },
  {
   "cell_type": "code",
   "execution_count": 4,
   "metadata": {
    "collapsed": false
   },
   "outputs": [
    {
     "name": "stdout",
     "output_type": "stream",
     "text": [
      "<class 'pandas.core.frame.DataFrame'>\n",
      "RangeIndex: 181 entries, 0 to 180\n",
      "Data columns (total 35 columns):\n",
      "beer.auth_rating                  181 non-null float64\n",
      "beer.beer_abv                     181 non-null float64\n",
      "beer.beer_description             181 non-null object\n",
      "beer.beer_ibu                     181 non-null int64\n",
      "beer.beer_label                   181 non-null object\n",
      "beer.beer_name                    181 non-null object\n",
      "beer.beer_slug                    181 non-null object\n",
      "beer.beer_style                   181 non-null object\n",
      "beer.bid                          181 non-null int64\n",
      "beer.created_at                   181 non-null object\n",
      "beer.rating_count                 181 non-null int64\n",
      "beer.rating_score                 181 non-null float64\n",
      "beer.wish_list                    181 non-null bool\n",
      "brewery.brewery_active            181 non-null int64\n",
      "brewery.brewery_id                181 non-null int64\n",
      "brewery.brewery_label             181 non-null object\n",
      "brewery.brewery_name              181 non-null object\n",
      "brewery.brewery_slug              181 non-null object\n",
      "brewery.contact.facebook          181 non-null object\n",
      "brewery.contact.instagram         181 non-null object\n",
      "brewery.contact.twitter           181 non-null object\n",
      "brewery.contact.url               181 non-null object\n",
      "brewery.country_name              181 non-null object\n",
      "brewery.location.brewery_city     181 non-null object\n",
      "brewery.location.brewery_state    181 non-null object\n",
      "brewery.location.lat              181 non-null float64\n",
      "brewery.location.lng              181 non-null float64\n",
      "count                             181 non-null int64\n",
      "first_checkin_id                  181 non-null int64\n",
      "first_created_at                  181 non-null object\n",
      "first_had                         181 non-null object\n",
      "rating_score                      181 non-null float64\n",
      "recent_checkin_id                 181 non-null int64\n",
      "recent_created_at                 181 non-null object\n",
      "recent_created_at_timezone        181 non-null int64\n",
      "dtypes: bool(1), float64(6), int64(9), object(19)\n",
      "memory usage: 48.3+ KB\n"
     ]
    }
   ],
   "source": [
    "my_beer_df.info()"
   ]
  },
  {
   "cell_type": "code",
   "execution_count": 5,
   "metadata": {
    "collapsed": false
   },
   "outputs": [
    {
     "name": "stdout",
     "output_type": "stream",
     "text": [
      "<class 'pandas.core.frame.DataFrame'>\n",
      "RangeIndex: 19838 entries, 0 to 19837\n",
      "Data columns (total 23 columns):\n",
      "beer_abv                          19838 non-null float64\n",
      "beer_ibu                          19838 non-null int64\n",
      "beer_name                         19838 non-null object\n",
      "beer_style                        19838 non-null object\n",
      "bid                               19838 non-null int64\n",
      "brewery.brewery_id                19838 non-null int64\n",
      "brewery.brewery_name              19838 non-null object\n",
      "brewery.brewery_type              19838 non-null object\n",
      "brewery.country_name              19838 non-null object\n",
      "brewery.location.brewery_city     19838 non-null object\n",
      "brewery.location.brewery_state    19838 non-null object\n",
      "brewery.location.lat              19838 non-null float64\n",
      "brewery.location.lng              19838 non-null float64\n",
      "created_at                        19838 non-null object\n",
      "is_homebrew                       19838 non-null int64\n",
      "is_in_production                  19838 non-null int64\n",
      "rating_count                      19838 non-null int64\n",
      "rating_score                      19838 non-null float64\n",
      "stats.monthly_count               19838 non-null int64\n",
      "stats.total_count                 19838 non-null int64\n",
      "stats.total_user_count            19838 non-null int64\n",
      "weighted_rating_score             19838 non-null float64\n",
      "wish_list                         19838 non-null bool\n",
      "dtypes: bool(1), float64(5), int64(9), object(8)\n",
      "memory usage: 3.3+ MB\n"
     ]
    }
   ],
   "source": [
    "my_new_beer_df.info()"
   ]
  },
  {
   "cell_type": "code",
   "execution_count": 6,
   "metadata": {
    "collapsed": false
   },
   "outputs": [
    {
     "data": {
      "text/plain": [
       "Index(['beer.auth_rating', 'beer.beer_abv', 'beer.beer_description',\n",
       "       'beer.beer_ibu', 'beer.beer_label', 'beer.beer_name', 'beer.beer_slug',\n",
       "       'beer.beer_style', 'beer.bid', 'beer.created_at', 'beer.rating_count',\n",
       "       'beer.rating_score', 'beer.wish_list', 'brewery.brewery_active',\n",
       "       'brewery.brewery_id', 'brewery.brewery_label', 'brewery.brewery_name',\n",
       "       'brewery.brewery_slug', 'brewery.contact.facebook',\n",
       "       'brewery.contact.instagram', 'brewery.contact.twitter',\n",
       "       'brewery.contact.url', 'brewery.country_name',\n",
       "       'brewery.location.brewery_city', 'brewery.location.brewery_state',\n",
       "       'brewery.location.lat', 'brewery.location.lng', 'count',\n",
       "       'first_checkin_id', 'first_created_at', 'first_had', 'rating_score',\n",
       "       'recent_checkin_id', 'recent_created_at', 'recent_created_at_timezone'],\n",
       "      dtype='object')"
      ]
     },
     "execution_count": 6,
     "metadata": {},
     "output_type": "execute_result"
    }
   ],
   "source": [
    "#Select only certain columns for now\n",
    "my_beer_df.columns"
   ]
  },
  {
   "cell_type": "code",
   "execution_count": 7,
   "metadata": {
    "collapsed": false
   },
   "outputs": [],
   "source": [
    "#Creating the dataframe for machine learning to test\n",
    "new_beer_df = my_beer_df[['beer.beer_abv',\n",
    "       'beer.beer_ibu', \n",
    "       'beer.beer_style', 'beer.bid', 'beer.rating_count',\n",
    "       'beer.rating_score', 'brewery.brewery_active',\n",
    "       'brewery.brewery_id', 'brewery.country_name',\n",
    "       'brewery.location.brewery_city', 'brewery.location.brewery_state',]]"
   ]
  },
  {
   "cell_type": "code",
   "execution_count": 8,
   "metadata": {
    "collapsed": false
   },
   "outputs": [],
   "source": [
    "#Creating the dataset of untasted beers\n",
    "untasted_beer_df = my_new_beer_df[['beer_abv',\n",
    "       'beer_ibu', \n",
    "       'beer_style', 'bid', 'rating_count',\n",
    "       'rating_score', 'is_in_production',\n",
    "       'brewery.brewery_id', 'brewery.country_name',\n",
    "       'brewery.location.brewery_city', 'brewery.location.brewery_state',]]"
   ]
  },
  {
   "cell_type": "code",
   "execution_count": 9,
   "metadata": {
    "collapsed": true
   },
   "outputs": [],
   "source": [
    "my_ratings = my_beer_df['beer.auth_rating']"
   ]
  },
  {
   "cell_type": "code",
   "execution_count": 10,
   "metadata": {
    "collapsed": false
   },
   "outputs": [
    {
     "data": {
      "text/html": [
       "<div>\n",
       "<table border=\"1\" class=\"dataframe\">\n",
       "  <thead>\n",
       "    <tr style=\"text-align: right;\">\n",
       "      <th></th>\n",
       "      <th>beer.beer_abv</th>\n",
       "      <th>beer.beer_ibu</th>\n",
       "      <th>beer.beer_style</th>\n",
       "      <th>beer.bid</th>\n",
       "      <th>beer.rating_count</th>\n",
       "      <th>beer.rating_score</th>\n",
       "      <th>brewery.brewery_active</th>\n",
       "      <th>brewery.brewery_id</th>\n",
       "      <th>brewery.country_name</th>\n",
       "      <th>brewery.location.brewery_city</th>\n",
       "      <th>brewery.location.brewery_state</th>\n",
       "    </tr>\n",
       "  </thead>\n",
       "  <tbody>\n",
       "    <tr>\n",
       "      <th>0</th>\n",
       "      <td>7.0</td>\n",
       "      <td>61</td>\n",
       "      <td>IPA - American</td>\n",
       "      <td>166939</td>\n",
       "      <td>9591</td>\n",
       "      <td>3.818</td>\n",
       "      <td>1</td>\n",
       "      <td>14828</td>\n",
       "      <td>United States</td>\n",
       "      <td>Denver</td>\n",
       "      <td>CO</td>\n",
       "    </tr>\n",
       "    <tr>\n",
       "      <th>1</th>\n",
       "      <td>5.9</td>\n",
       "      <td>55</td>\n",
       "      <td>Pale Ale - American</td>\n",
       "      <td>807339</td>\n",
       "      <td>2622</td>\n",
       "      <td>3.828</td>\n",
       "      <td>1</td>\n",
       "      <td>1860</td>\n",
       "      <td>United States</td>\n",
       "      <td>Boulder</td>\n",
       "      <td>CO</td>\n",
       "    </tr>\n",
       "    <tr>\n",
       "      <th>2</th>\n",
       "      <td>6.8</td>\n",
       "      <td>82</td>\n",
       "      <td>IPA - American</td>\n",
       "      <td>5382</td>\n",
       "      <td>43728</td>\n",
       "      <td>3.660</td>\n",
       "      <td>1</td>\n",
       "      <td>836</td>\n",
       "      <td>United States</td>\n",
       "      <td>Kihei</td>\n",
       "      <td>HI</td>\n",
       "    </tr>\n",
       "    <tr>\n",
       "      <th>3</th>\n",
       "      <td>6.2</td>\n",
       "      <td>55</td>\n",
       "      <td>IPA - American</td>\n",
       "      <td>4083</td>\n",
       "      <td>13940</td>\n",
       "      <td>3.458</td>\n",
       "      <td>1</td>\n",
       "      <td>17</td>\n",
       "      <td>United States</td>\n",
       "      <td>Juneau</td>\n",
       "      <td>AK</td>\n",
       "    </tr>\n",
       "    <tr>\n",
       "      <th>4</th>\n",
       "      <td>5.9</td>\n",
       "      <td>80</td>\n",
       "      <td>IPA - American</td>\n",
       "      <td>556978</td>\n",
       "      <td>60577</td>\n",
       "      <td>3.775</td>\n",
       "      <td>1</td>\n",
       "      <td>1243</td>\n",
       "      <td>United States</td>\n",
       "      <td>Athens</td>\n",
       "      <td>GA</td>\n",
       "    </tr>\n",
       "  </tbody>\n",
       "</table>\n",
       "</div>"
      ],
      "text/plain": [
       "   beer.beer_abv  beer.beer_ibu      beer.beer_style  beer.bid  \\\n",
       "0            7.0             61       IPA - American    166939   \n",
       "1            5.9             55  Pale Ale - American    807339   \n",
       "2            6.8             82       IPA - American      5382   \n",
       "3            6.2             55       IPA - American      4083   \n",
       "4            5.9             80       IPA - American    556978   \n",
       "\n",
       "   beer.rating_count  beer.rating_score  brewery.brewery_active  \\\n",
       "0               9591              3.818                       1   \n",
       "1               2622              3.828                       1   \n",
       "2              43728              3.660                       1   \n",
       "3              13940              3.458                       1   \n",
       "4              60577              3.775                       1   \n",
       "\n",
       "   brewery.brewery_id brewery.country_name brewery.location.brewery_city  \\\n",
       "0               14828        United States                        Denver   \n",
       "1                1860        United States                       Boulder   \n",
       "2                 836        United States                         Kihei   \n",
       "3                  17        United States                        Juneau   \n",
       "4                1243        United States                        Athens   \n",
       "\n",
       "  brewery.location.brewery_state  \n",
       "0                             CO  \n",
       "1                             CO  \n",
       "2                             HI  \n",
       "3                             AK  \n",
       "4                             GA  "
      ]
     },
     "execution_count": 10,
     "metadata": {},
     "output_type": "execute_result"
    }
   ],
   "source": [
    "new_beer_df.head()"
   ]
  },
  {
   "cell_type": "code",
   "execution_count": 11,
   "metadata": {
    "collapsed": false
   },
   "outputs": [
    {
     "name": "stdout",
     "output_type": "stream",
     "text": [
      "<class 'pandas.core.frame.DataFrame'>\n",
      "RangeIndex: 181 entries, 0 to 180\n",
      "Data columns (total 11 columns):\n",
      "beer.beer_abv                     181 non-null float64\n",
      "beer.beer_ibu                     181 non-null int64\n",
      "beer.beer_style                   181 non-null object\n",
      "beer.bid                          181 non-null int64\n",
      "beer.rating_count                 181 non-null int64\n",
      "beer.rating_score                 181 non-null float64\n",
      "brewery.brewery_active            181 non-null int64\n",
      "brewery.brewery_id                181 non-null int64\n",
      "brewery.country_name              181 non-null object\n",
      "brewery.location.brewery_city     181 non-null object\n",
      "brewery.location.brewery_state    181 non-null object\n",
      "dtypes: float64(2), int64(5), object(4)\n",
      "memory usage: 15.6+ KB\n"
     ]
    }
   ],
   "source": [
    "new_beer_df.info()"
   ]
  },
  {
   "cell_type": "code",
   "execution_count": 12,
   "metadata": {
    "collapsed": false
   },
   "outputs": [
    {
     "name": "stdout",
     "output_type": "stream",
     "text": [
      "<class 'pandas.core.frame.DataFrame'>\n",
      "RangeIndex: 19838 entries, 0 to 19837\n",
      "Data columns (total 11 columns):\n",
      "beer_abv                          19838 non-null float64\n",
      "beer_ibu                          19838 non-null int64\n",
      "beer_style                        19838 non-null object\n",
      "bid                               19838 non-null int64\n",
      "rating_count                      19838 non-null int64\n",
      "rating_score                      19838 non-null float64\n",
      "is_in_production                  19838 non-null int64\n",
      "brewery.brewery_id                19838 non-null int64\n",
      "brewery.country_name              19838 non-null object\n",
      "brewery.location.brewery_city     19838 non-null object\n",
      "brewery.location.brewery_state    19838 non-null object\n",
      "dtypes: float64(2), int64(5), object(4)\n",
      "memory usage: 1.7+ MB\n"
     ]
    }
   ],
   "source": [
    "untasted_beer_df.info()"
   ]
  },
  {
   "cell_type": "code",
   "execution_count": 13,
   "metadata": {
    "collapsed": false
   },
   "outputs": [
    {
     "name": "stderr",
     "output_type": "stream",
     "text": [
      "/Users/joshuaemayer/anaconda/envs/python3/lib/python3.6/site-packages/ipykernel_launcher.py:2: SettingWithCopyWarning: \n",
      "A value is trying to be set on a copy of a slice from a DataFrame.\n",
      "Try using .loc[row_indexer,col_indexer] = value instead\n",
      "\n",
      "See the caveats in the documentation: http://pandas.pydata.org/pandas-docs/stable/indexing.html#indexing-view-versus-copy\n",
      "  \n",
      "/Users/joshuaemayer/anaconda/envs/python3/lib/python3.6/site-packages/ipykernel_launcher.py:3: SettingWithCopyWarning: \n",
      "A value is trying to be set on a copy of a slice from a DataFrame.\n",
      "Try using .loc[row_indexer,col_indexer] = value instead\n",
      "\n",
      "See the caveats in the documentation: http://pandas.pydata.org/pandas-docs/stable/indexing.html#indexing-view-versus-copy\n",
      "  This is separate from the ipykernel package so we can avoid doing imports until\n",
      "/Users/joshuaemayer/anaconda/envs/python3/lib/python3.6/site-packages/ipykernel_launcher.py:4: SettingWithCopyWarning: \n",
      "A value is trying to be set on a copy of a slice from a DataFrame.\n",
      "Try using .loc[row_indexer,col_indexer] = value instead\n",
      "\n",
      "See the caveats in the documentation: http://pandas.pydata.org/pandas-docs/stable/indexing.html#indexing-view-versus-copy\n",
      "  after removing the cwd from sys.path.\n",
      "/Users/joshuaemayer/anaconda/envs/python3/lib/python3.6/site-packages/ipykernel_launcher.py:5: SettingWithCopyWarning: \n",
      "A value is trying to be set on a copy of a slice from a DataFrame.\n",
      "Try using .loc[row_indexer,col_indexer] = value instead\n",
      "\n",
      "See the caveats in the documentation: http://pandas.pydata.org/pandas-docs/stable/indexing.html#indexing-view-versus-copy\n",
      "  \"\"\"\n",
      "/Users/joshuaemayer/anaconda/envs/python3/lib/python3.6/site-packages/ipykernel_launcher.py:6: SettingWithCopyWarning: \n",
      "A value is trying to be set on a copy of a slice from a DataFrame.\n",
      "Try using .loc[row_indexer,col_indexer] = value instead\n",
      "\n",
      "See the caveats in the documentation: http://pandas.pydata.org/pandas-docs/stable/indexing.html#indexing-view-versus-copy\n",
      "  \n",
      "/Users/joshuaemayer/anaconda/envs/python3/lib/python3.6/site-packages/ipykernel_launcher.py:7: SettingWithCopyWarning: \n",
      "A value is trying to be set on a copy of a slice from a DataFrame.\n",
      "Try using .loc[row_indexer,col_indexer] = value instead\n",
      "\n",
      "See the caveats in the documentation: http://pandas.pydata.org/pandas-docs/stable/indexing.html#indexing-view-versus-copy\n",
      "  import sys\n"
     ]
    },
    {
     "ename": "KeyError",
     "evalue": "'brewery.location.brewery_state '",
     "output_type": "error",
     "traceback": [
      "\u001b[0;31m---------------------------------------------------------------------------\u001b[0m",
      "\u001b[0;31mKeyError\u001b[0m                                  Traceback (most recent call last)",
      "\u001b[0;32m/Users/joshuaemayer/anaconda/envs/python3/lib/python3.6/site-packages/pandas/indexes/base.py\u001b[0m in \u001b[0;36mget_loc\u001b[0;34m(self, key, method, tolerance)\u001b[0m\n\u001b[1;32m   2133\u001b[0m             \u001b[0;32mtry\u001b[0m\u001b[0;34m:\u001b[0m\u001b[0;34m\u001b[0m\u001b[0m\n\u001b[0;32m-> 2134\u001b[0;31m                 \u001b[0;32mreturn\u001b[0m \u001b[0mself\u001b[0m\u001b[0;34m.\u001b[0m\u001b[0m_engine\u001b[0m\u001b[0;34m.\u001b[0m\u001b[0mget_loc\u001b[0m\u001b[0;34m(\u001b[0m\u001b[0mkey\u001b[0m\u001b[0;34m)\u001b[0m\u001b[0;34m\u001b[0m\u001b[0m\n\u001b[0m\u001b[1;32m   2135\u001b[0m             \u001b[0;32mexcept\u001b[0m \u001b[0mKeyError\u001b[0m\u001b[0;34m:\u001b[0m\u001b[0;34m\u001b[0m\u001b[0m\n",
      "\u001b[0;32mpandas/index.pyx\u001b[0m in \u001b[0;36mpandas.index.IndexEngine.get_loc (pandas/index.c:4433)\u001b[0;34m()\u001b[0m\n",
      "\u001b[0;32mpandas/index.pyx\u001b[0m in \u001b[0;36mpandas.index.IndexEngine.get_loc (pandas/index.c:4279)\u001b[0;34m()\u001b[0m\n",
      "\u001b[0;32mpandas/src/hashtable_class_helper.pxi\u001b[0m in \u001b[0;36mpandas.hashtable.PyObjectHashTable.get_item (pandas/hashtable.c:13742)\u001b[0;34m()\u001b[0m\n",
      "\u001b[0;32mpandas/src/hashtable_class_helper.pxi\u001b[0m in \u001b[0;36mpandas.hashtable.PyObjectHashTable.get_item (pandas/hashtable.c:13696)\u001b[0;34m()\u001b[0m\n",
      "\u001b[0;31mKeyError\u001b[0m: 'brewery.location.brewery_state '",
      "\nDuring handling of the above exception, another exception occurred:\n",
      "\u001b[0;31mKeyError\u001b[0m                                  Traceback (most recent call last)",
      "\u001b[0;32m<ipython-input-13-14175f737846>\u001b[0m in \u001b[0;36m<module>\u001b[0;34m()\u001b[0m\n\u001b[1;32m      6\u001b[0m \u001b[0mnew_beer_df\u001b[0m\u001b[0;34m[\u001b[0m\u001b[0;34m\"brewery.location.brewery_city\"\u001b[0m\u001b[0;34m]\u001b[0m \u001b[0;34m=\u001b[0m \u001b[0mnew_beer_df\u001b[0m\u001b[0;34m[\u001b[0m\u001b[0;34m\"brewery.location.brewery_city\"\u001b[0m\u001b[0;34m]\u001b[0m\u001b[0;34m.\u001b[0m\u001b[0mastype\u001b[0m\u001b[0;34m(\u001b[0m\u001b[0;34m'category'\u001b[0m\u001b[0;34m)\u001b[0m\u001b[0;34m\u001b[0m\u001b[0m\n\u001b[1;32m      7\u001b[0m \u001b[0mnew_beer_df\u001b[0m\u001b[0;34m[\u001b[0m\u001b[0;34m\"brewery.location.brewery_city_cat\"\u001b[0m\u001b[0;34m]\u001b[0m \u001b[0;34m=\u001b[0m \u001b[0mnew_beer_df\u001b[0m\u001b[0;34m[\u001b[0m\u001b[0;34m\"brewery.location.brewery_city\"\u001b[0m\u001b[0;34m]\u001b[0m\u001b[0;34m.\u001b[0m\u001b[0mcat\u001b[0m\u001b[0;34m.\u001b[0m\u001b[0mcodes\u001b[0m\u001b[0;34m\u001b[0m\u001b[0m\n\u001b[0;32m----> 8\u001b[0;31m \u001b[0mnew_beer_df\u001b[0m\u001b[0;34m[\u001b[0m\u001b[0;34m\"brewery.location.brewery_state \"\u001b[0m\u001b[0;34m]\u001b[0m \u001b[0;34m=\u001b[0m \u001b[0mnew_beer_df\u001b[0m\u001b[0;34m[\u001b[0m\u001b[0;34m\"brewery.location.brewery_state \"\u001b[0m\u001b[0;34m]\u001b[0m\u001b[0;34m.\u001b[0m\u001b[0mastype\u001b[0m\u001b[0;34m(\u001b[0m\u001b[0;34m'category'\u001b[0m\u001b[0;34m)\u001b[0m\u001b[0;34m\u001b[0m\u001b[0m\n\u001b[0m\u001b[1;32m      9\u001b[0m \u001b[0mnew_beer_df\u001b[0m\u001b[0;34m[\u001b[0m\u001b[0;34m\"brewery.location.brewery_state _cat\"\u001b[0m\u001b[0;34m]\u001b[0m \u001b[0;34m=\u001b[0m \u001b[0mnew_beer_df\u001b[0m\u001b[0;34m[\u001b[0m\u001b[0;34m\"brewery.location.brewery_state \"\u001b[0m\u001b[0;34m]\u001b[0m\u001b[0;34m.\u001b[0m\u001b[0mcat\u001b[0m\u001b[0;34m.\u001b[0m\u001b[0mcodes\u001b[0m\u001b[0;34m\u001b[0m\u001b[0m\n",
      "\u001b[0;32m/Users/joshuaemayer/anaconda/envs/python3/lib/python3.6/site-packages/pandas/core/frame.py\u001b[0m in \u001b[0;36m__getitem__\u001b[0;34m(self, key)\u001b[0m\n\u001b[1;32m   2057\u001b[0m             \u001b[0;32mreturn\u001b[0m \u001b[0mself\u001b[0m\u001b[0;34m.\u001b[0m\u001b[0m_getitem_multilevel\u001b[0m\u001b[0;34m(\u001b[0m\u001b[0mkey\u001b[0m\u001b[0;34m)\u001b[0m\u001b[0;34m\u001b[0m\u001b[0m\n\u001b[1;32m   2058\u001b[0m         \u001b[0;32melse\u001b[0m\u001b[0;34m:\u001b[0m\u001b[0;34m\u001b[0m\u001b[0m\n\u001b[0;32m-> 2059\u001b[0;31m             \u001b[0;32mreturn\u001b[0m \u001b[0mself\u001b[0m\u001b[0;34m.\u001b[0m\u001b[0m_getitem_column\u001b[0m\u001b[0;34m(\u001b[0m\u001b[0mkey\u001b[0m\u001b[0;34m)\u001b[0m\u001b[0;34m\u001b[0m\u001b[0m\n\u001b[0m\u001b[1;32m   2060\u001b[0m \u001b[0;34m\u001b[0m\u001b[0m\n\u001b[1;32m   2061\u001b[0m     \u001b[0;32mdef\u001b[0m \u001b[0m_getitem_column\u001b[0m\u001b[0;34m(\u001b[0m\u001b[0mself\u001b[0m\u001b[0;34m,\u001b[0m \u001b[0mkey\u001b[0m\u001b[0;34m)\u001b[0m\u001b[0;34m:\u001b[0m\u001b[0;34m\u001b[0m\u001b[0m\n",
      "\u001b[0;32m/Users/joshuaemayer/anaconda/envs/python3/lib/python3.6/site-packages/pandas/core/frame.py\u001b[0m in \u001b[0;36m_getitem_column\u001b[0;34m(self, key)\u001b[0m\n\u001b[1;32m   2064\u001b[0m         \u001b[0;31m# get column\u001b[0m\u001b[0;34m\u001b[0m\u001b[0;34m\u001b[0m\u001b[0m\n\u001b[1;32m   2065\u001b[0m         \u001b[0;32mif\u001b[0m \u001b[0mself\u001b[0m\u001b[0;34m.\u001b[0m\u001b[0mcolumns\u001b[0m\u001b[0;34m.\u001b[0m\u001b[0mis_unique\u001b[0m\u001b[0;34m:\u001b[0m\u001b[0;34m\u001b[0m\u001b[0m\n\u001b[0;32m-> 2066\u001b[0;31m             \u001b[0;32mreturn\u001b[0m \u001b[0mself\u001b[0m\u001b[0;34m.\u001b[0m\u001b[0m_get_item_cache\u001b[0m\u001b[0;34m(\u001b[0m\u001b[0mkey\u001b[0m\u001b[0;34m)\u001b[0m\u001b[0;34m\u001b[0m\u001b[0m\n\u001b[0m\u001b[1;32m   2067\u001b[0m \u001b[0;34m\u001b[0m\u001b[0m\n\u001b[1;32m   2068\u001b[0m         \u001b[0;31m# duplicate columns & possible reduce dimensionality\u001b[0m\u001b[0;34m\u001b[0m\u001b[0;34m\u001b[0m\u001b[0m\n",
      "\u001b[0;32m/Users/joshuaemayer/anaconda/envs/python3/lib/python3.6/site-packages/pandas/core/generic.py\u001b[0m in \u001b[0;36m_get_item_cache\u001b[0;34m(self, item)\u001b[0m\n\u001b[1;32m   1384\u001b[0m         \u001b[0mres\u001b[0m \u001b[0;34m=\u001b[0m \u001b[0mcache\u001b[0m\u001b[0;34m.\u001b[0m\u001b[0mget\u001b[0m\u001b[0;34m(\u001b[0m\u001b[0mitem\u001b[0m\u001b[0;34m)\u001b[0m\u001b[0;34m\u001b[0m\u001b[0m\n\u001b[1;32m   1385\u001b[0m         \u001b[0;32mif\u001b[0m \u001b[0mres\u001b[0m \u001b[0;32mis\u001b[0m \u001b[0;32mNone\u001b[0m\u001b[0;34m:\u001b[0m\u001b[0;34m\u001b[0m\u001b[0m\n\u001b[0;32m-> 1386\u001b[0;31m             \u001b[0mvalues\u001b[0m \u001b[0;34m=\u001b[0m \u001b[0mself\u001b[0m\u001b[0;34m.\u001b[0m\u001b[0m_data\u001b[0m\u001b[0;34m.\u001b[0m\u001b[0mget\u001b[0m\u001b[0;34m(\u001b[0m\u001b[0mitem\u001b[0m\u001b[0;34m)\u001b[0m\u001b[0;34m\u001b[0m\u001b[0m\n\u001b[0m\u001b[1;32m   1387\u001b[0m             \u001b[0mres\u001b[0m \u001b[0;34m=\u001b[0m \u001b[0mself\u001b[0m\u001b[0;34m.\u001b[0m\u001b[0m_box_item_values\u001b[0m\u001b[0;34m(\u001b[0m\u001b[0mitem\u001b[0m\u001b[0;34m,\u001b[0m \u001b[0mvalues\u001b[0m\u001b[0;34m)\u001b[0m\u001b[0;34m\u001b[0m\u001b[0m\n\u001b[1;32m   1388\u001b[0m             \u001b[0mcache\u001b[0m\u001b[0;34m[\u001b[0m\u001b[0mitem\u001b[0m\u001b[0;34m]\u001b[0m \u001b[0;34m=\u001b[0m \u001b[0mres\u001b[0m\u001b[0;34m\u001b[0m\u001b[0m\n",
      "\u001b[0;32m/Users/joshuaemayer/anaconda/envs/python3/lib/python3.6/site-packages/pandas/core/internals.py\u001b[0m in \u001b[0;36mget\u001b[0;34m(self, item, fastpath)\u001b[0m\n\u001b[1;32m   3541\u001b[0m \u001b[0;34m\u001b[0m\u001b[0m\n\u001b[1;32m   3542\u001b[0m             \u001b[0;32mif\u001b[0m \u001b[0;32mnot\u001b[0m \u001b[0misnull\u001b[0m\u001b[0;34m(\u001b[0m\u001b[0mitem\u001b[0m\u001b[0;34m)\u001b[0m\u001b[0;34m:\u001b[0m\u001b[0;34m\u001b[0m\u001b[0m\n\u001b[0;32m-> 3543\u001b[0;31m                 \u001b[0mloc\u001b[0m \u001b[0;34m=\u001b[0m \u001b[0mself\u001b[0m\u001b[0;34m.\u001b[0m\u001b[0mitems\u001b[0m\u001b[0;34m.\u001b[0m\u001b[0mget_loc\u001b[0m\u001b[0;34m(\u001b[0m\u001b[0mitem\u001b[0m\u001b[0;34m)\u001b[0m\u001b[0;34m\u001b[0m\u001b[0m\n\u001b[0m\u001b[1;32m   3544\u001b[0m             \u001b[0;32melse\u001b[0m\u001b[0;34m:\u001b[0m\u001b[0;34m\u001b[0m\u001b[0m\n\u001b[1;32m   3545\u001b[0m                 \u001b[0mindexer\u001b[0m \u001b[0;34m=\u001b[0m \u001b[0mnp\u001b[0m\u001b[0;34m.\u001b[0m\u001b[0marange\u001b[0m\u001b[0;34m(\u001b[0m\u001b[0mlen\u001b[0m\u001b[0;34m(\u001b[0m\u001b[0mself\u001b[0m\u001b[0;34m.\u001b[0m\u001b[0mitems\u001b[0m\u001b[0;34m)\u001b[0m\u001b[0;34m)\u001b[0m\u001b[0;34m[\u001b[0m\u001b[0misnull\u001b[0m\u001b[0;34m(\u001b[0m\u001b[0mself\u001b[0m\u001b[0;34m.\u001b[0m\u001b[0mitems\u001b[0m\u001b[0;34m)\u001b[0m\u001b[0;34m]\u001b[0m\u001b[0;34m\u001b[0m\u001b[0m\n",
      "\u001b[0;32m/Users/joshuaemayer/anaconda/envs/python3/lib/python3.6/site-packages/pandas/indexes/base.py\u001b[0m in \u001b[0;36mget_loc\u001b[0;34m(self, key, method, tolerance)\u001b[0m\n\u001b[1;32m   2134\u001b[0m                 \u001b[0;32mreturn\u001b[0m \u001b[0mself\u001b[0m\u001b[0;34m.\u001b[0m\u001b[0m_engine\u001b[0m\u001b[0;34m.\u001b[0m\u001b[0mget_loc\u001b[0m\u001b[0;34m(\u001b[0m\u001b[0mkey\u001b[0m\u001b[0;34m)\u001b[0m\u001b[0;34m\u001b[0m\u001b[0m\n\u001b[1;32m   2135\u001b[0m             \u001b[0;32mexcept\u001b[0m \u001b[0mKeyError\u001b[0m\u001b[0;34m:\u001b[0m\u001b[0;34m\u001b[0m\u001b[0m\n\u001b[0;32m-> 2136\u001b[0;31m                 \u001b[0;32mreturn\u001b[0m \u001b[0mself\u001b[0m\u001b[0;34m.\u001b[0m\u001b[0m_engine\u001b[0m\u001b[0;34m.\u001b[0m\u001b[0mget_loc\u001b[0m\u001b[0;34m(\u001b[0m\u001b[0mself\u001b[0m\u001b[0;34m.\u001b[0m\u001b[0m_maybe_cast_indexer\u001b[0m\u001b[0;34m(\u001b[0m\u001b[0mkey\u001b[0m\u001b[0;34m)\u001b[0m\u001b[0;34m)\u001b[0m\u001b[0;34m\u001b[0m\u001b[0m\n\u001b[0m\u001b[1;32m   2137\u001b[0m \u001b[0;34m\u001b[0m\u001b[0m\n\u001b[1;32m   2138\u001b[0m         \u001b[0mindexer\u001b[0m \u001b[0;34m=\u001b[0m \u001b[0mself\u001b[0m\u001b[0;34m.\u001b[0m\u001b[0mget_indexer\u001b[0m\u001b[0;34m(\u001b[0m\u001b[0;34m[\u001b[0m\u001b[0mkey\u001b[0m\u001b[0;34m]\u001b[0m\u001b[0;34m,\u001b[0m \u001b[0mmethod\u001b[0m\u001b[0;34m=\u001b[0m\u001b[0mmethod\u001b[0m\u001b[0;34m,\u001b[0m \u001b[0mtolerance\u001b[0m\u001b[0;34m=\u001b[0m\u001b[0mtolerance\u001b[0m\u001b[0;34m)\u001b[0m\u001b[0;34m\u001b[0m\u001b[0m\n",
      "\u001b[0;32mpandas/index.pyx\u001b[0m in \u001b[0;36mpandas.index.IndexEngine.get_loc (pandas/index.c:4433)\u001b[0;34m()\u001b[0m\n",
      "\u001b[0;32mpandas/index.pyx\u001b[0m in \u001b[0;36mpandas.index.IndexEngine.get_loc (pandas/index.c:4279)\u001b[0;34m()\u001b[0m\n",
      "\u001b[0;32mpandas/src/hashtable_class_helper.pxi\u001b[0m in \u001b[0;36mpandas.hashtable.PyObjectHashTable.get_item (pandas/hashtable.c:13742)\u001b[0;34m()\u001b[0m\n",
      "\u001b[0;32mpandas/src/hashtable_class_helper.pxi\u001b[0m in \u001b[0;36mpandas.hashtable.PyObjectHashTable.get_item (pandas/hashtable.c:13696)\u001b[0;34m()\u001b[0m\n",
      "\u001b[0;31mKeyError\u001b[0m: 'brewery.location.brewery_state '"
     ]
    }
   ],
   "source": [
    "#Need to create categorical variables for the necessary features\n",
    "new_beer_df[\"beer.beer_style\"] = new_beer_df[\"beer.beer_style\"].astype('category')\n",
    "new_beer_df[\"beer.beer_style_cat\"] = new_beer_df[\"beer.beer_style\"].cat.codes\n",
    "new_beer_df[\"brewery.country_name\"] = new_beer_df[\"brewery.country_name\"].astype('category')\n",
    "new_beer_df[\"brewery.country_name_cat\"] = new_beer_df[\"brewery.country_name\"].cat.codes\n",
    "new_beer_df[\"brewery.location.brewery_city\"] = new_beer_df[\"brewery.location.brewery_city\"].astype('category')\n",
    "new_beer_df[\"brewery.location.brewery_city_cat\"] = new_beer_df[\"brewery.location.brewery_city\"].cat.codes\n",
    "new_beer_df[\"brewery.location.brewery_state \"] = new_beer_df[\"brewery.location.brewery_state \"].astype('category')\n",
    "new_beer_df[\"brewery.location.brewery_state _cat\"] = new_beer_df[\"brewery.location.brewery_state \"].cat.codes"
   ]
  },
  {
   "cell_type": "code",
   "execution_count": 14,
   "metadata": {
    "collapsed": false
   },
   "outputs": [
    {
     "name": "stderr",
     "output_type": "stream",
     "text": [
      "/Users/joshuaemayer/anaconda/envs/python3/lib/python3.6/site-packages/ipykernel_launcher.py:2: SettingWithCopyWarning: \n",
      "A value is trying to be set on a copy of a slice from a DataFrame.\n",
      "Try using .loc[row_indexer,col_indexer] = value instead\n",
      "\n",
      "See the caveats in the documentation: http://pandas.pydata.org/pandas-docs/stable/indexing.html#indexing-view-versus-copy\n",
      "  \n",
      "/Users/joshuaemayer/anaconda/envs/python3/lib/python3.6/site-packages/ipykernel_launcher.py:3: SettingWithCopyWarning: \n",
      "A value is trying to be set on a copy of a slice from a DataFrame.\n",
      "Try using .loc[row_indexer,col_indexer] = value instead\n",
      "\n",
      "See the caveats in the documentation: http://pandas.pydata.org/pandas-docs/stable/indexing.html#indexing-view-versus-copy\n",
      "  This is separate from the ipykernel package so we can avoid doing imports until\n",
      "/Users/joshuaemayer/anaconda/envs/python3/lib/python3.6/site-packages/ipykernel_launcher.py:4: SettingWithCopyWarning: \n",
      "A value is trying to be set on a copy of a slice from a DataFrame.\n",
      "Try using .loc[row_indexer,col_indexer] = value instead\n",
      "\n",
      "See the caveats in the documentation: http://pandas.pydata.org/pandas-docs/stable/indexing.html#indexing-view-versus-copy\n",
      "  after removing the cwd from sys.path.\n",
      "/Users/joshuaemayer/anaconda/envs/python3/lib/python3.6/site-packages/ipykernel_launcher.py:5: SettingWithCopyWarning: \n",
      "A value is trying to be set on a copy of a slice from a DataFrame.\n",
      "Try using .loc[row_indexer,col_indexer] = value instead\n",
      "\n",
      "See the caveats in the documentation: http://pandas.pydata.org/pandas-docs/stable/indexing.html#indexing-view-versus-copy\n",
      "  \"\"\"\n",
      "/Users/joshuaemayer/anaconda/envs/python3/lib/python3.6/site-packages/ipykernel_launcher.py:6: SettingWithCopyWarning: \n",
      "A value is trying to be set on a copy of a slice from a DataFrame.\n",
      "Try using .loc[row_indexer,col_indexer] = value instead\n",
      "\n",
      "See the caveats in the documentation: http://pandas.pydata.org/pandas-docs/stable/indexing.html#indexing-view-versus-copy\n",
      "  \n",
      "/Users/joshuaemayer/anaconda/envs/python3/lib/python3.6/site-packages/ipykernel_launcher.py:7: SettingWithCopyWarning: \n",
      "A value is trying to be set on a copy of a slice from a DataFrame.\n",
      "Try using .loc[row_indexer,col_indexer] = value instead\n",
      "\n",
      "See the caveats in the documentation: http://pandas.pydata.org/pandas-docs/stable/indexing.html#indexing-view-versus-copy\n",
      "  import sys\n"
     ]
    },
    {
     "ename": "KeyError",
     "evalue": "'brewery.location.brewery_state '",
     "output_type": "error",
     "traceback": [
      "\u001b[0;31m---------------------------------------------------------------------------\u001b[0m",
      "\u001b[0;31mKeyError\u001b[0m                                  Traceback (most recent call last)",
      "\u001b[0;32m/Users/joshuaemayer/anaconda/envs/python3/lib/python3.6/site-packages/pandas/indexes/base.py\u001b[0m in \u001b[0;36mget_loc\u001b[0;34m(self, key, method, tolerance)\u001b[0m\n\u001b[1;32m   2133\u001b[0m             \u001b[0;32mtry\u001b[0m\u001b[0;34m:\u001b[0m\u001b[0;34m\u001b[0m\u001b[0m\n\u001b[0;32m-> 2134\u001b[0;31m                 \u001b[0;32mreturn\u001b[0m \u001b[0mself\u001b[0m\u001b[0;34m.\u001b[0m\u001b[0m_engine\u001b[0m\u001b[0;34m.\u001b[0m\u001b[0mget_loc\u001b[0m\u001b[0;34m(\u001b[0m\u001b[0mkey\u001b[0m\u001b[0;34m)\u001b[0m\u001b[0;34m\u001b[0m\u001b[0m\n\u001b[0m\u001b[1;32m   2135\u001b[0m             \u001b[0;32mexcept\u001b[0m \u001b[0mKeyError\u001b[0m\u001b[0;34m:\u001b[0m\u001b[0;34m\u001b[0m\u001b[0m\n",
      "\u001b[0;32mpandas/index.pyx\u001b[0m in \u001b[0;36mpandas.index.IndexEngine.get_loc (pandas/index.c:4433)\u001b[0;34m()\u001b[0m\n",
      "\u001b[0;32mpandas/index.pyx\u001b[0m in \u001b[0;36mpandas.index.IndexEngine.get_loc (pandas/index.c:4279)\u001b[0;34m()\u001b[0m\n",
      "\u001b[0;32mpandas/src/hashtable_class_helper.pxi\u001b[0m in \u001b[0;36mpandas.hashtable.PyObjectHashTable.get_item (pandas/hashtable.c:13742)\u001b[0;34m()\u001b[0m\n",
      "\u001b[0;32mpandas/src/hashtable_class_helper.pxi\u001b[0m in \u001b[0;36mpandas.hashtable.PyObjectHashTable.get_item (pandas/hashtable.c:13696)\u001b[0;34m()\u001b[0m\n",
      "\u001b[0;31mKeyError\u001b[0m: 'brewery.location.brewery_state '",
      "\nDuring handling of the above exception, another exception occurred:\n",
      "\u001b[0;31mKeyError\u001b[0m                                  Traceback (most recent call last)",
      "\u001b[0;32m<ipython-input-14-9b77ba14d9d7>\u001b[0m in \u001b[0;36m<module>\u001b[0;34m()\u001b[0m\n\u001b[1;32m      6\u001b[0m \u001b[0muntasted_beer_df\u001b[0m\u001b[0;34m[\u001b[0m\u001b[0;34m\"brewery.location.brewery_city\"\u001b[0m\u001b[0;34m]\u001b[0m \u001b[0;34m=\u001b[0m \u001b[0muntasted_beer_df\u001b[0m\u001b[0;34m[\u001b[0m\u001b[0;34m\"brewery.location.brewery_city\"\u001b[0m\u001b[0;34m]\u001b[0m\u001b[0;34m.\u001b[0m\u001b[0mastype\u001b[0m\u001b[0;34m(\u001b[0m\u001b[0;34m'category'\u001b[0m\u001b[0;34m)\u001b[0m\u001b[0;34m\u001b[0m\u001b[0m\n\u001b[1;32m      7\u001b[0m \u001b[0muntasted_beer_df\u001b[0m\u001b[0;34m[\u001b[0m\u001b[0;34m\"brewery.location.brewery_city_cat\"\u001b[0m\u001b[0;34m]\u001b[0m \u001b[0;34m=\u001b[0m \u001b[0muntasted_beer_df\u001b[0m\u001b[0;34m[\u001b[0m\u001b[0;34m\"brewery.location.brewery_city\"\u001b[0m\u001b[0;34m]\u001b[0m\u001b[0;34m.\u001b[0m\u001b[0mcat\u001b[0m\u001b[0;34m.\u001b[0m\u001b[0mcodes\u001b[0m\u001b[0;34m\u001b[0m\u001b[0m\n\u001b[0;32m----> 8\u001b[0;31m \u001b[0muntasted_beer_df\u001b[0m\u001b[0;34m[\u001b[0m\u001b[0;34m\"brewery.location.brewery_state \"\u001b[0m\u001b[0;34m]\u001b[0m \u001b[0;34m=\u001b[0m \u001b[0muntasted_beer_df\u001b[0m\u001b[0;34m[\u001b[0m\u001b[0;34m\"brewery.location.brewery_state \"\u001b[0m\u001b[0;34m]\u001b[0m\u001b[0;34m.\u001b[0m\u001b[0mastype\u001b[0m\u001b[0;34m(\u001b[0m\u001b[0;34m'category'\u001b[0m\u001b[0;34m)\u001b[0m\u001b[0;34m\u001b[0m\u001b[0m\n\u001b[0m\u001b[1;32m      9\u001b[0m \u001b[0muntasted_beer_df\u001b[0m\u001b[0;34m[\u001b[0m\u001b[0;34m\"brewery.location.brewery_state _cat\"\u001b[0m\u001b[0;34m]\u001b[0m \u001b[0;34m=\u001b[0m \u001b[0muntasted_beer_df\u001b[0m\u001b[0;34m[\u001b[0m\u001b[0;34m\"brewery.location.brewery_state \"\u001b[0m\u001b[0;34m]\u001b[0m\u001b[0;34m.\u001b[0m\u001b[0mcat\u001b[0m\u001b[0;34m.\u001b[0m\u001b[0mcodes\u001b[0m\u001b[0;34m\u001b[0m\u001b[0m\n",
      "\u001b[0;32m/Users/joshuaemayer/anaconda/envs/python3/lib/python3.6/site-packages/pandas/core/frame.py\u001b[0m in \u001b[0;36m__getitem__\u001b[0;34m(self, key)\u001b[0m\n\u001b[1;32m   2057\u001b[0m             \u001b[0;32mreturn\u001b[0m \u001b[0mself\u001b[0m\u001b[0;34m.\u001b[0m\u001b[0m_getitem_multilevel\u001b[0m\u001b[0;34m(\u001b[0m\u001b[0mkey\u001b[0m\u001b[0;34m)\u001b[0m\u001b[0;34m\u001b[0m\u001b[0m\n\u001b[1;32m   2058\u001b[0m         \u001b[0;32melse\u001b[0m\u001b[0;34m:\u001b[0m\u001b[0;34m\u001b[0m\u001b[0m\n\u001b[0;32m-> 2059\u001b[0;31m             \u001b[0;32mreturn\u001b[0m \u001b[0mself\u001b[0m\u001b[0;34m.\u001b[0m\u001b[0m_getitem_column\u001b[0m\u001b[0;34m(\u001b[0m\u001b[0mkey\u001b[0m\u001b[0;34m)\u001b[0m\u001b[0;34m\u001b[0m\u001b[0m\n\u001b[0m\u001b[1;32m   2060\u001b[0m \u001b[0;34m\u001b[0m\u001b[0m\n\u001b[1;32m   2061\u001b[0m     \u001b[0;32mdef\u001b[0m \u001b[0m_getitem_column\u001b[0m\u001b[0;34m(\u001b[0m\u001b[0mself\u001b[0m\u001b[0;34m,\u001b[0m \u001b[0mkey\u001b[0m\u001b[0;34m)\u001b[0m\u001b[0;34m:\u001b[0m\u001b[0;34m\u001b[0m\u001b[0m\n",
      "\u001b[0;32m/Users/joshuaemayer/anaconda/envs/python3/lib/python3.6/site-packages/pandas/core/frame.py\u001b[0m in \u001b[0;36m_getitem_column\u001b[0;34m(self, key)\u001b[0m\n\u001b[1;32m   2064\u001b[0m         \u001b[0;31m# get column\u001b[0m\u001b[0;34m\u001b[0m\u001b[0;34m\u001b[0m\u001b[0m\n\u001b[1;32m   2065\u001b[0m         \u001b[0;32mif\u001b[0m \u001b[0mself\u001b[0m\u001b[0;34m.\u001b[0m\u001b[0mcolumns\u001b[0m\u001b[0;34m.\u001b[0m\u001b[0mis_unique\u001b[0m\u001b[0;34m:\u001b[0m\u001b[0;34m\u001b[0m\u001b[0m\n\u001b[0;32m-> 2066\u001b[0;31m             \u001b[0;32mreturn\u001b[0m \u001b[0mself\u001b[0m\u001b[0;34m.\u001b[0m\u001b[0m_get_item_cache\u001b[0m\u001b[0;34m(\u001b[0m\u001b[0mkey\u001b[0m\u001b[0;34m)\u001b[0m\u001b[0;34m\u001b[0m\u001b[0m\n\u001b[0m\u001b[1;32m   2067\u001b[0m \u001b[0;34m\u001b[0m\u001b[0m\n\u001b[1;32m   2068\u001b[0m         \u001b[0;31m# duplicate columns & possible reduce dimensionality\u001b[0m\u001b[0;34m\u001b[0m\u001b[0;34m\u001b[0m\u001b[0m\n",
      "\u001b[0;32m/Users/joshuaemayer/anaconda/envs/python3/lib/python3.6/site-packages/pandas/core/generic.py\u001b[0m in \u001b[0;36m_get_item_cache\u001b[0;34m(self, item)\u001b[0m\n\u001b[1;32m   1384\u001b[0m         \u001b[0mres\u001b[0m \u001b[0;34m=\u001b[0m \u001b[0mcache\u001b[0m\u001b[0;34m.\u001b[0m\u001b[0mget\u001b[0m\u001b[0;34m(\u001b[0m\u001b[0mitem\u001b[0m\u001b[0;34m)\u001b[0m\u001b[0;34m\u001b[0m\u001b[0m\n\u001b[1;32m   1385\u001b[0m         \u001b[0;32mif\u001b[0m \u001b[0mres\u001b[0m \u001b[0;32mis\u001b[0m \u001b[0;32mNone\u001b[0m\u001b[0;34m:\u001b[0m\u001b[0;34m\u001b[0m\u001b[0m\n\u001b[0;32m-> 1386\u001b[0;31m             \u001b[0mvalues\u001b[0m \u001b[0;34m=\u001b[0m \u001b[0mself\u001b[0m\u001b[0;34m.\u001b[0m\u001b[0m_data\u001b[0m\u001b[0;34m.\u001b[0m\u001b[0mget\u001b[0m\u001b[0;34m(\u001b[0m\u001b[0mitem\u001b[0m\u001b[0;34m)\u001b[0m\u001b[0;34m\u001b[0m\u001b[0m\n\u001b[0m\u001b[1;32m   1387\u001b[0m             \u001b[0mres\u001b[0m \u001b[0;34m=\u001b[0m \u001b[0mself\u001b[0m\u001b[0;34m.\u001b[0m\u001b[0m_box_item_values\u001b[0m\u001b[0;34m(\u001b[0m\u001b[0mitem\u001b[0m\u001b[0;34m,\u001b[0m \u001b[0mvalues\u001b[0m\u001b[0;34m)\u001b[0m\u001b[0;34m\u001b[0m\u001b[0m\n\u001b[1;32m   1388\u001b[0m             \u001b[0mcache\u001b[0m\u001b[0;34m[\u001b[0m\u001b[0mitem\u001b[0m\u001b[0;34m]\u001b[0m \u001b[0;34m=\u001b[0m \u001b[0mres\u001b[0m\u001b[0;34m\u001b[0m\u001b[0m\n",
      "\u001b[0;32m/Users/joshuaemayer/anaconda/envs/python3/lib/python3.6/site-packages/pandas/core/internals.py\u001b[0m in \u001b[0;36mget\u001b[0;34m(self, item, fastpath)\u001b[0m\n\u001b[1;32m   3541\u001b[0m \u001b[0;34m\u001b[0m\u001b[0m\n\u001b[1;32m   3542\u001b[0m             \u001b[0;32mif\u001b[0m \u001b[0;32mnot\u001b[0m \u001b[0misnull\u001b[0m\u001b[0;34m(\u001b[0m\u001b[0mitem\u001b[0m\u001b[0;34m)\u001b[0m\u001b[0;34m:\u001b[0m\u001b[0;34m\u001b[0m\u001b[0m\n\u001b[0;32m-> 3543\u001b[0;31m                 \u001b[0mloc\u001b[0m \u001b[0;34m=\u001b[0m \u001b[0mself\u001b[0m\u001b[0;34m.\u001b[0m\u001b[0mitems\u001b[0m\u001b[0;34m.\u001b[0m\u001b[0mget_loc\u001b[0m\u001b[0;34m(\u001b[0m\u001b[0mitem\u001b[0m\u001b[0;34m)\u001b[0m\u001b[0;34m\u001b[0m\u001b[0m\n\u001b[0m\u001b[1;32m   3544\u001b[0m             \u001b[0;32melse\u001b[0m\u001b[0;34m:\u001b[0m\u001b[0;34m\u001b[0m\u001b[0m\n\u001b[1;32m   3545\u001b[0m                 \u001b[0mindexer\u001b[0m \u001b[0;34m=\u001b[0m \u001b[0mnp\u001b[0m\u001b[0;34m.\u001b[0m\u001b[0marange\u001b[0m\u001b[0;34m(\u001b[0m\u001b[0mlen\u001b[0m\u001b[0;34m(\u001b[0m\u001b[0mself\u001b[0m\u001b[0;34m.\u001b[0m\u001b[0mitems\u001b[0m\u001b[0;34m)\u001b[0m\u001b[0;34m)\u001b[0m\u001b[0;34m[\u001b[0m\u001b[0misnull\u001b[0m\u001b[0;34m(\u001b[0m\u001b[0mself\u001b[0m\u001b[0;34m.\u001b[0m\u001b[0mitems\u001b[0m\u001b[0;34m)\u001b[0m\u001b[0;34m]\u001b[0m\u001b[0;34m\u001b[0m\u001b[0m\n",
      "\u001b[0;32m/Users/joshuaemayer/anaconda/envs/python3/lib/python3.6/site-packages/pandas/indexes/base.py\u001b[0m in \u001b[0;36mget_loc\u001b[0;34m(self, key, method, tolerance)\u001b[0m\n\u001b[1;32m   2134\u001b[0m                 \u001b[0;32mreturn\u001b[0m \u001b[0mself\u001b[0m\u001b[0;34m.\u001b[0m\u001b[0m_engine\u001b[0m\u001b[0;34m.\u001b[0m\u001b[0mget_loc\u001b[0m\u001b[0;34m(\u001b[0m\u001b[0mkey\u001b[0m\u001b[0;34m)\u001b[0m\u001b[0;34m\u001b[0m\u001b[0m\n\u001b[1;32m   2135\u001b[0m             \u001b[0;32mexcept\u001b[0m \u001b[0mKeyError\u001b[0m\u001b[0;34m:\u001b[0m\u001b[0;34m\u001b[0m\u001b[0m\n\u001b[0;32m-> 2136\u001b[0;31m                 \u001b[0;32mreturn\u001b[0m \u001b[0mself\u001b[0m\u001b[0;34m.\u001b[0m\u001b[0m_engine\u001b[0m\u001b[0;34m.\u001b[0m\u001b[0mget_loc\u001b[0m\u001b[0;34m(\u001b[0m\u001b[0mself\u001b[0m\u001b[0;34m.\u001b[0m\u001b[0m_maybe_cast_indexer\u001b[0m\u001b[0;34m(\u001b[0m\u001b[0mkey\u001b[0m\u001b[0;34m)\u001b[0m\u001b[0;34m)\u001b[0m\u001b[0;34m\u001b[0m\u001b[0m\n\u001b[0m\u001b[1;32m   2137\u001b[0m \u001b[0;34m\u001b[0m\u001b[0m\n\u001b[1;32m   2138\u001b[0m         \u001b[0mindexer\u001b[0m \u001b[0;34m=\u001b[0m \u001b[0mself\u001b[0m\u001b[0;34m.\u001b[0m\u001b[0mget_indexer\u001b[0m\u001b[0;34m(\u001b[0m\u001b[0;34m[\u001b[0m\u001b[0mkey\u001b[0m\u001b[0;34m]\u001b[0m\u001b[0;34m,\u001b[0m \u001b[0mmethod\u001b[0m\u001b[0;34m=\u001b[0m\u001b[0mmethod\u001b[0m\u001b[0;34m,\u001b[0m \u001b[0mtolerance\u001b[0m\u001b[0;34m=\u001b[0m\u001b[0mtolerance\u001b[0m\u001b[0;34m)\u001b[0m\u001b[0;34m\u001b[0m\u001b[0m\n",
      "\u001b[0;32mpandas/index.pyx\u001b[0m in \u001b[0;36mpandas.index.IndexEngine.get_loc (pandas/index.c:4433)\u001b[0;34m()\u001b[0m\n",
      "\u001b[0;32mpandas/index.pyx\u001b[0m in \u001b[0;36mpandas.index.IndexEngine.get_loc (pandas/index.c:4279)\u001b[0;34m()\u001b[0m\n",
      "\u001b[0;32mpandas/src/hashtable_class_helper.pxi\u001b[0m in \u001b[0;36mpandas.hashtable.PyObjectHashTable.get_item (pandas/hashtable.c:13742)\u001b[0;34m()\u001b[0m\n",
      "\u001b[0;32mpandas/src/hashtable_class_helper.pxi\u001b[0m in \u001b[0;36mpandas.hashtable.PyObjectHashTable.get_item (pandas/hashtable.c:13696)\u001b[0;34m()\u001b[0m\n",
      "\u001b[0;31mKeyError\u001b[0m: 'brewery.location.brewery_state '"
     ]
    }
   ],
   "source": [
    "#Need to create categorical variables for the necessary features\n",
    "untasted_beer_df[\"beer_style\"] = untasted_beer_df[\"beer_style\"].astype('category')\n",
    "untasted_beer_df[\"beer_style_cat\"] = untasted_beer_df[\"beer_style\"].cat.codes\n",
    "untasted_beer_df[\"brewery.country_name\"] = untasted_beer_df[\"brewery.country_name\"].astype('category')\n",
    "untasted_beer_df[\"brewery.country_name_cat\"] = untasted_beer_df[\"brewery.country_name\"].cat.codes\n",
    "untasted_beer_df[\"brewery.location.brewery_city\"] = untasted_beer_df[\"brewery.location.brewery_city\"].astype('category')\n",
    "untasted_beer_df[\"brewery.location.brewery_city_cat\"] = untasted_beer_df[\"brewery.location.brewery_city\"].cat.codes\n",
    "untasted_beer_df[\"brewery.location.brewery_state \"] = untasted_beer_df[\"brewery.location.brewery_state \"].astype('category')\n",
    "untasted_beer_df[\"brewery.location.brewery_state _cat\"] = untasted_beer_df[\"brewery.location.brewery_state \"].cat.codes"
   ]
  },
  {
   "cell_type": "code",
   "execution_count": 15,
   "metadata": {
    "collapsed": false
   },
   "outputs": [
    {
     "data": {
      "text/plain": [
       "Index(['beer.beer_abv', 'beer.beer_ibu', 'beer.beer_style', 'beer.bid',\n",
       "       'beer.rating_count', 'beer.rating_score', 'brewery.brewery_active',\n",
       "       'brewery.brewery_id', 'brewery.country_name',\n",
       "       'brewery.location.brewery_city', 'brewery.location.brewery_state',\n",
       "       'beer.beer_style_cat', 'brewery.country_name_cat',\n",
       "       'brewery.location.brewery_city_cat'],\n",
       "      dtype='object')"
      ]
     },
     "execution_count": 15,
     "metadata": {},
     "output_type": "execute_result"
    }
   ],
   "source": [
    "new_beer_df.columns"
   ]
  },
  {
   "cell_type": "code",
   "execution_count": 16,
   "metadata": {
    "collapsed": false
   },
   "outputs": [
    {
     "data": {
      "text/plain": [
       "Index(['beer_abv', 'beer_ibu', 'beer_style', 'bid', 'rating_count',\n",
       "       'rating_score', 'is_in_production', 'brewery.brewery_id',\n",
       "       'brewery.country_name', 'brewery.location.brewery_city',\n",
       "       'brewery.location.brewery_state', 'beer_style_cat',\n",
       "       'brewery.country_name_cat', 'brewery.location.brewery_city_cat'],\n",
       "      dtype='object')"
      ]
     },
     "execution_count": 16,
     "metadata": {},
     "output_type": "execute_result"
    }
   ],
   "source": [
    "untasted_beer_df.columns"
   ]
  },
  {
   "cell_type": "code",
   "execution_count": 17,
   "metadata": {
    "collapsed": false
   },
   "outputs": [],
   "source": [
    "#includes the avg user ratings for each beer\n",
    "final_beer_df = new_beer_df[['beer.beer_abv', 'beer.beer_ibu', 'beer.bid',\n",
    "       'beer.rating_count', 'beer.rating_score', 'brewery.brewery_active',\n",
    "       'brewery.brewery_id',\n",
    "       'beer.beer_style_cat', 'brewery.country_name_cat',\n",
    "       'brewery.location.brewery_city_cat']]"
   ]
  },
  {
   "cell_type": "code",
   "execution_count": 18,
   "metadata": {
    "collapsed": true
   },
   "outputs": [],
   "source": [
    "# do NOT include avg user ratings\n",
    "final_beer_df2 = new_beer_df[['beer.beer_abv', 'beer.beer_ibu',\n",
    "        'brewery.brewery_active',\n",
    "       'brewery.brewery_id',\n",
    "       'beer.beer_style_cat', 'brewery.country_name_cat',\n",
    "       'brewery.location.brewery_city_cat']]"
   ]
  },
  {
   "cell_type": "code",
   "execution_count": 19,
   "metadata": {
    "collapsed": false
   },
   "outputs": [],
   "source": [
    "final_untasted_beer_df = untasted_beer_df[['beer_abv', 'beer_ibu', 'bid',\n",
    "       'rating_count', 'rating_score', 'is_in_production',\n",
    "       'brewery.brewery_id',\n",
    "       'beer_style_cat', 'brewery.country_name_cat',\n",
    "       'brewery.location.brewery_city_cat']]"
   ]
  },
  {
   "cell_type": "markdown",
   "metadata": {},
   "source": [
    "## Let's Start with Random Forests"
   ]
  },
  {
   "cell_type": "code",
   "execution_count": 20,
   "metadata": {
    "collapsed": true
   },
   "outputs": [],
   "source": [
    "from sklearn.model_selection import train_test_split"
   ]
  },
  {
   "cell_type": "code",
   "execution_count": 21,
   "metadata": {
    "collapsed": false
   },
   "outputs": [],
   "source": [
    "y = my_ratings # define the target variable (dependent variable) as y"
   ]
  },
  {
   "cell_type": "code",
   "execution_count": 45,
   "metadata": {
    "collapsed": false
   },
   "outputs": [
    {
     "name": "stdout",
     "output_type": "stream",
     "text": [
      "(144, 10) (144,)\n",
      "(37, 10) (37,)\n"
     ]
    }
   ],
   "source": [
    "# create training and testing vars\n",
    "X_train, X_test, y_train, y_test = train_test_split(final_beer_df, y, test_size=0.2)\n",
    "print(X_train.shape, y_train.shape)\n",
    "print(X_test.shape, y_test.shape)"
   ]
  },
  {
   "cell_type": "code",
   "execution_count": 46,
   "metadata": {
    "collapsed": false
   },
   "outputs": [
    {
     "data": {
      "text/plain": [
       "RandomForestRegressor(bootstrap=True, criterion='mse', max_depth=None,\n",
       "           max_features='auto', max_leaf_nodes=None,\n",
       "           min_impurity_split=1e-07, min_samples_leaf=1,\n",
       "           min_samples_split=2, min_weight_fraction_leaf=0.0,\n",
       "           n_estimators=10, n_jobs=1, oob_score=False, random_state=None,\n",
       "           verbose=0, warm_start=False)"
      ]
     },
     "execution_count": 46,
     "metadata": {},
     "output_type": "execute_result"
    }
   ],
   "source": [
    "from sklearn.ensemble import RandomForestRegressor\n",
    "rf = RandomForestRegressor()\n",
    "rf.fit(X_train, y_train)"
   ]
  },
  {
   "cell_type": "code",
   "execution_count": 47,
   "metadata": {
    "collapsed": false
   },
   "outputs": [
    {
     "name": "stdout",
     "output_type": "stream",
     "text": [
      "Score: 0.549156343443\n"
     ]
    }
   ],
   "source": [
    "print('Score: ' + str(rf.score(X_test, y_test)))"
   ]
  },
  {
   "cell_type": "code",
   "execution_count": 48,
   "metadata": {
    "collapsed": false
   },
   "outputs": [
    {
     "name": "stderr",
     "output_type": "stream",
     "text": [
      "/Users/joshuaemayer/anaconda/envs/python3/lib/python3.6/site-packages/sklearn/ensemble/forest.py:723: UserWarning: Some inputs do not have OOB scores. This probably means too few trees were used to compute any reliable oob estimates.\n",
      "  warn(\"Some inputs do not have OOB scores. \"\n",
      "/Users/joshuaemayer/anaconda/envs/python3/lib/python3.6/site-packages/sklearn/ensemble/forest.py:723: UserWarning: Some inputs do not have OOB scores. This probably means too few trees were used to compute any reliable oob estimates.\n",
      "  warn(\"Some inputs do not have OOB scores. \"\n",
      "/Users/joshuaemayer/anaconda/envs/python3/lib/python3.6/site-packages/sklearn/ensemble/forest.py:723: UserWarning: Some inputs do not have OOB scores. This probably means too few trees were used to compute any reliable oob estimates.\n",
      "  warn(\"Some inputs do not have OOB scores. \"\n",
      "/Users/joshuaemayer/anaconda/envs/python3/lib/python3.6/site-packages/sklearn/ensemble/forest.py:723: UserWarning: Some inputs do not have OOB scores. This probably means too few trees were used to compute any reliable oob estimates.\n",
      "  warn(\"Some inputs do not have OOB scores. \"\n",
      "/Users/joshuaemayer/anaconda/envs/python3/lib/python3.6/site-packages/sklearn/ensemble/forest.py:723: UserWarning: Some inputs do not have OOB scores. This probably means too few trees were used to compute any reliable oob estimates.\n",
      "  warn(\"Some inputs do not have OOB scores. \"\n",
      "/Users/joshuaemayer/anaconda/envs/python3/lib/python3.6/site-packages/sklearn/ensemble/forest.py:723: UserWarning: Some inputs do not have OOB scores. This probably means too few trees were used to compute any reliable oob estimates.\n",
      "  warn(\"Some inputs do not have OOB scores. \"\n",
      "/Users/joshuaemayer/anaconda/envs/python3/lib/python3.6/site-packages/sklearn/ensemble/forest.py:723: UserWarning: Some inputs do not have OOB scores. This probably means too few trees were used to compute any reliable oob estimates.\n",
      "  warn(\"Some inputs do not have OOB scores. \"\n",
      "/Users/joshuaemayer/anaconda/envs/python3/lib/python3.6/site-packages/sklearn/ensemble/forest.py:723: UserWarning: Some inputs do not have OOB scores. This probably means too few trees were used to compute any reliable oob estimates.\n",
      "  warn(\"Some inputs do not have OOB scores. \"\n",
      "/Users/joshuaemayer/anaconda/envs/python3/lib/python3.6/site-packages/sklearn/ensemble/forest.py:723: UserWarning: Some inputs do not have OOB scores. This probably means too few trees were used to compute any reliable oob estimates.\n",
      "  warn(\"Some inputs do not have OOB scores. \"\n",
      "/Users/joshuaemayer/anaconda/envs/python3/lib/python3.6/site-packages/sklearn/ensemble/forest.py:723: UserWarning: Some inputs do not have OOB scores. This probably means too few trees were used to compute any reliable oob estimates.\n",
      "  warn(\"Some inputs do not have OOB scores. \"\n",
      "/Users/joshuaemayer/anaconda/envs/python3/lib/python3.6/site-packages/sklearn/ensemble/forest.py:723: UserWarning: Some inputs do not have OOB scores. This probably means too few trees were used to compute any reliable oob estimates.\n",
      "  warn(\"Some inputs do not have OOB scores. \"\n",
      "/Users/joshuaemayer/anaconda/envs/python3/lib/python3.6/site-packages/sklearn/ensemble/forest.py:723: UserWarning: Some inputs do not have OOB scores. This probably means too few trees were used to compute any reliable oob estimates.\n",
      "  warn(\"Some inputs do not have OOB scores. \"\n",
      "/Users/joshuaemayer/anaconda/envs/python3/lib/python3.6/site-packages/sklearn/ensemble/forest.py:723: UserWarning: Some inputs do not have OOB scores. This probably means too few trees were used to compute any reliable oob estimates.\n",
      "  warn(\"Some inputs do not have OOB scores. \"\n",
      "/Users/joshuaemayer/anaconda/envs/python3/lib/python3.6/site-packages/sklearn/ensemble/forest.py:723: UserWarning: Some inputs do not have OOB scores. This probably means too few trees were used to compute any reliable oob estimates.\n",
      "  warn(\"Some inputs do not have OOB scores. \"\n",
      "/Users/joshuaemayer/anaconda/envs/python3/lib/python3.6/site-packages/sklearn/ensemble/forest.py:723: UserWarning: Some inputs do not have OOB scores. This probably means too few trees were used to compute any reliable oob estimates.\n",
      "  warn(\"Some inputs do not have OOB scores. \"\n",
      "/Users/joshuaemayer/anaconda/envs/python3/lib/python3.6/site-packages/sklearn/ensemble/forest.py:723: UserWarning: Some inputs do not have OOB scores. This probably means too few trees were used to compute any reliable oob estimates.\n",
      "  warn(\"Some inputs do not have OOB scores. \"\n",
      "/Users/joshuaemayer/anaconda/envs/python3/lib/python3.6/site-packages/sklearn/ensemble/forest.py:723: UserWarning: Some inputs do not have OOB scores. This probably means too few trees were used to compute any reliable oob estimates.\n",
      "  warn(\"Some inputs do not have OOB scores. \"\n",
      "/Users/joshuaemayer/anaconda/envs/python3/lib/python3.6/site-packages/sklearn/ensemble/forest.py:723: UserWarning: Some inputs do not have OOB scores. This probably means too few trees were used to compute any reliable oob estimates.\n",
      "  warn(\"Some inputs do not have OOB scores. \"\n",
      "/Users/joshuaemayer/anaconda/envs/python3/lib/python3.6/site-packages/sklearn/ensemble/forest.py:723: UserWarning: Some inputs do not have OOB scores. This probably means too few trees were used to compute any reliable oob estimates.\n",
      "  warn(\"Some inputs do not have OOB scores. \"\n",
      "/Users/joshuaemayer/anaconda/envs/python3/lib/python3.6/site-packages/sklearn/ensemble/forest.py:723: UserWarning: Some inputs do not have OOB scores. This probably means too few trees were used to compute any reliable oob estimates.\n",
      "  warn(\"Some inputs do not have OOB scores. \"\n",
      "/Users/joshuaemayer/anaconda/envs/python3/lib/python3.6/site-packages/sklearn/ensemble/forest.py:723: UserWarning: Some inputs do not have OOB scores. This probably means too few trees were used to compute any reliable oob estimates.\n",
      "  warn(\"Some inputs do not have OOB scores. \"\n",
      "/Users/joshuaemayer/anaconda/envs/python3/lib/python3.6/site-packages/sklearn/ensemble/forest.py:723: UserWarning: Some inputs do not have OOB scores. This probably means too few trees were used to compute any reliable oob estimates.\n",
      "  warn(\"Some inputs do not have OOB scores. \"\n",
      "/Users/joshuaemayer/anaconda/envs/python3/lib/python3.6/site-packages/sklearn/ensemble/forest.py:723: UserWarning: Some inputs do not have OOB scores. This probably means too few trees were used to compute any reliable oob estimates.\n",
      "  warn(\"Some inputs do not have OOB scores. \"\n",
      "/Users/joshuaemayer/anaconda/envs/python3/lib/python3.6/site-packages/sklearn/ensemble/forest.py:723: UserWarning: Some inputs do not have OOB scores. This probably means too few trees were used to compute any reliable oob estimates.\n",
      "  warn(\"Some inputs do not have OOB scores. \"\n",
      "/Users/joshuaemayer/anaconda/envs/python3/lib/python3.6/site-packages/sklearn/ensemble/forest.py:723: UserWarning: Some inputs do not have OOB scores. This probably means too few trees were used to compute any reliable oob estimates.\n",
      "  warn(\"Some inputs do not have OOB scores. \"\n",
      "/Users/joshuaemayer/anaconda/envs/python3/lib/python3.6/site-packages/sklearn/ensemble/forest.py:723: UserWarning: Some inputs do not have OOB scores. This probably means too few trees were used to compute any reliable oob estimates.\n",
      "  warn(\"Some inputs do not have OOB scores. \"\n",
      "/Users/joshuaemayer/anaconda/envs/python3/lib/python3.6/site-packages/sklearn/ensemble/forest.py:723: UserWarning: Some inputs do not have OOB scores. This probably means too few trees were used to compute any reliable oob estimates.\n",
      "  warn(\"Some inputs do not have OOB scores. \"\n",
      "/Users/joshuaemayer/anaconda/envs/python3/lib/python3.6/site-packages/sklearn/ensemble/forest.py:723: UserWarning: Some inputs do not have OOB scores. This probably means too few trees were used to compute any reliable oob estimates.\n",
      "  warn(\"Some inputs do not have OOB scores. \"\n",
      "/Users/joshuaemayer/anaconda/envs/python3/lib/python3.6/site-packages/sklearn/ensemble/forest.py:723: UserWarning: Some inputs do not have OOB scores. This probably means too few trees were used to compute any reliable oob estimates.\n",
      "  warn(\"Some inputs do not have OOB scores. \"\n",
      "/Users/joshuaemayer/anaconda/envs/python3/lib/python3.6/site-packages/sklearn/ensemble/forest.py:723: UserWarning: Some inputs do not have OOB scores. This probably means too few trees were used to compute any reliable oob estimates.\n",
      "  warn(\"Some inputs do not have OOB scores. \"\n",
      "/Users/joshuaemayer/anaconda/envs/python3/lib/python3.6/site-packages/sklearn/ensemble/forest.py:723: UserWarning: Some inputs do not have OOB scores. This probably means too few trees were used to compute any reliable oob estimates.\n",
      "  warn(\"Some inputs do not have OOB scores. \"\n"
     ]
    },
    {
     "data": {
      "text/plain": [
       "GridSearchCV(cv=10, error_score='raise',\n",
       "       estimator=RandomForestRegressor(bootstrap=True, criterion='mse', max_depth=None,\n",
       "           max_features='auto', max_leaf_nodes=None,\n",
       "           min_impurity_split=1e-07, min_samples_leaf=1,\n",
       "           min_samples_split=2, min_weight_fraction_leaf=0.0,\n",
       "           n_estimators=10, n_jobs=1, oob_score=False, random_state=None,\n",
       "           verbose=0, warm_start=False),\n",
       "       fit_params={}, iid=True, n_jobs=1,\n",
       "       param_grid={'oob_score': [True, False], 'min_samples_split': [8, 16], 'min_samples_leaf': [4, 8]},\n",
       "       pre_dispatch='2*n_jobs', refit=True, scoring=None, verbose=0)"
      ]
     },
     "execution_count": 48,
     "metadata": {},
     "output_type": "execute_result"
    }
   ],
   "source": [
    "from sklearn.grid_search import GridSearchCV\n",
    "param_grid = {'oob_score': [True, False], \n",
    "                 'min_samples_split': [8, 16], \n",
    "                 'min_samples_leaf': [4, 8]}\n",
    "rfc = GridSearchCV(RandomForestRegressor(), param_grid, cv=10)\n",
    "rfc.fit(X_train, y_train)"
   ]
  },
  {
   "cell_type": "code",
   "execution_count": 49,
   "metadata": {
    "collapsed": false
   },
   "outputs": [
    {
     "name": "stdout",
     "output_type": "stream",
     "text": [
      "Acc: 0.574064118793\n"
     ]
    }
   ],
   "source": [
    "print('Acc: ' + str(rfc.score(X_test, y_test)))"
   ]
  },
  {
   "cell_type": "markdown",
   "metadata": {},
   "source": [
    "# Leverage RF algorithm for rating predictions on untasted beer"
   ]
  },
  {
   "cell_type": "code",
   "execution_count": 53,
   "metadata": {
    "collapsed": false
   },
   "outputs": [
    {
     "data": {
      "text/plain": [
       "array([ 3.65 ,  3.65 ,  3.625, ...,  3.7  ,  4.025,  4.025])"
      ]
     },
     "execution_count": 53,
     "metadata": {},
     "output_type": "execute_result"
    }
   ],
   "source": [
    "rf.predict(final_untasted_beer_df)"
   ]
  },
  {
   "cell_type": "code",
   "execution_count": 68,
   "metadata": {
    "collapsed": true
   },
   "outputs": [],
   "source": [
    "predictions_df = pd.DataFrame(rf.predict(final_untasted_beer_df), columns=['predicted_values'])"
   ]
  },
  {
   "cell_type": "code",
   "execution_count": 70,
   "metadata": {
    "collapsed": false
   },
   "outputs": [
    {
     "data": {
      "text/html": [
       "<div>\n",
       "<table border=\"1\" class=\"dataframe\">\n",
       "  <thead>\n",
       "    <tr style=\"text-align: right;\">\n",
       "      <th></th>\n",
       "      <th>predicted_values</th>\n",
       "    </tr>\n",
       "  </thead>\n",
       "  <tbody>\n",
       "    <tr>\n",
       "      <th>0</th>\n",
       "      <td>3.650</td>\n",
       "    </tr>\n",
       "    <tr>\n",
       "      <th>1</th>\n",
       "      <td>3.650</td>\n",
       "    </tr>\n",
       "    <tr>\n",
       "      <th>2</th>\n",
       "      <td>3.625</td>\n",
       "    </tr>\n",
       "    <tr>\n",
       "      <th>3</th>\n",
       "      <td>3.650</td>\n",
       "    </tr>\n",
       "    <tr>\n",
       "      <th>4</th>\n",
       "      <td>3.800</td>\n",
       "    </tr>\n",
       "  </tbody>\n",
       "</table>\n",
       "</div>"
      ],
      "text/plain": [
       "   predicted_values\n",
       "0             3.650\n",
       "1             3.650\n",
       "2             3.625\n",
       "3             3.650\n",
       "4             3.800"
      ]
     },
     "execution_count": 70,
     "metadata": {},
     "output_type": "execute_result"
    }
   ],
   "source": [
    "predictions_df.head()"
   ]
  },
  {
   "cell_type": "code",
   "execution_count": 71,
   "metadata": {
    "collapsed": true
   },
   "outputs": [],
   "source": [
    "final_predict_df = pd.concat([final_untasted_beer_df, predictions_df], axis=1)"
   ]
  },
  {
   "cell_type": "code",
   "execution_count": 72,
   "metadata": {
    "collapsed": false
   },
   "outputs": [
    {
     "data": {
      "text/plain": [
       "Index(['beer_abv', 'beer_ibu', 'bid', 'rating_count', 'rating_score',\n",
       "       'is_in_production', 'brewery.brewery_id', 'beer_style_cat',\n",
       "       'brewery.country_name_cat', 'brewery.location.brewery_city_cat',\n",
       "       'predicted_values'],\n",
       "      dtype='object')"
      ]
     },
     "execution_count": 72,
     "metadata": {},
     "output_type": "execute_result"
    }
   ],
   "source": [
    "final_predict_df.columns"
   ]
  },
  {
   "cell_type": "code",
   "execution_count": 73,
   "metadata": {
    "collapsed": false
   },
   "outputs": [
    {
     "name": "stdout",
     "output_type": "stream",
     "text": [
      "<class 'pandas.core.frame.DataFrame'>\n",
      "RangeIndex: 19838 entries, 0 to 19837\n",
      "Data columns (total 11 columns):\n",
      "beer_abv                             19838 non-null float64\n",
      "beer_ibu                             19838 non-null int64\n",
      "bid                                  19838 non-null int64\n",
      "rating_count                         19838 non-null int64\n",
      "rating_score                         19838 non-null float64\n",
      "is_in_production                     19838 non-null int64\n",
      "brewery.brewery_id                   19838 non-null int64\n",
      "beer_style_cat                       19838 non-null int16\n",
      "brewery.country_name_cat             19838 non-null int16\n",
      "brewery.location.brewery_city_cat    19838 non-null int16\n",
      "predicted_values                     19838 non-null float64\n",
      "dtypes: float64(3), int16(3), int64(5)\n",
      "memory usage: 1.3 MB\n"
     ]
    }
   ],
   "source": [
    "final_predict_df.info()"
   ]
  },
  {
   "cell_type": "code",
   "execution_count": 77,
   "metadata": {
    "collapsed": false
   },
   "outputs": [
    {
     "data": {
      "text/html": [
       "<div>\n",
       "<table border=\"1\" class=\"dataframe\">\n",
       "  <thead>\n",
       "    <tr style=\"text-align: right;\">\n",
       "      <th></th>\n",
       "      <th>beer_abv</th>\n",
       "      <th>beer_ibu</th>\n",
       "      <th>bid</th>\n",
       "      <th>rating_count</th>\n",
       "      <th>rating_score</th>\n",
       "      <th>is_in_production</th>\n",
       "      <th>brewery.brewery_id</th>\n",
       "      <th>beer_style_cat</th>\n",
       "      <th>brewery.country_name_cat</th>\n",
       "      <th>brewery.location.brewery_city_cat</th>\n",
       "      <th>predicted_values</th>\n",
       "    </tr>\n",
       "  </thead>\n",
       "  <tbody>\n",
       "    <tr>\n",
       "      <th>1714</th>\n",
       "      <td>5.4</td>\n",
       "      <td>65</td>\n",
       "      <td>12210</td>\n",
       "      <td>7925</td>\n",
       "      <td>4.30297</td>\n",
       "      <td>1</td>\n",
       "      <td>2562</td>\n",
       "      <td>98</td>\n",
       "      <td>119</td>\n",
       "      <td>816</td>\n",
       "      <td>4.600</td>\n",
       "    </tr>\n",
       "    <tr>\n",
       "      <th>9402</th>\n",
       "      <td>13.5</td>\n",
       "      <td>42</td>\n",
       "      <td>23271</td>\n",
       "      <td>16710</td>\n",
       "      <td>4.36988</td>\n",
       "      <td>1</td>\n",
       "      <td>524</td>\n",
       "      <td>5</td>\n",
       "      <td>119</td>\n",
       "      <td>1480</td>\n",
       "      <td>4.500</td>\n",
       "    </tr>\n",
       "    <tr>\n",
       "      <th>16727</th>\n",
       "      <td>12.5</td>\n",
       "      <td>52</td>\n",
       "      <td>5818</td>\n",
       "      <td>16240</td>\n",
       "      <td>4.29723</td>\n",
       "      <td>1</td>\n",
       "      <td>2712</td>\n",
       "      <td>5</td>\n",
       "      <td>119</td>\n",
       "      <td>1704</td>\n",
       "      <td>4.475</td>\n",
       "    </tr>\n",
       "    <tr>\n",
       "      <th>17568</th>\n",
       "      <td>5.5</td>\n",
       "      <td>11</td>\n",
       "      <td>6860</td>\n",
       "      <td>63888</td>\n",
       "      <td>4.02619</td>\n",
       "      <td>1</td>\n",
       "      <td>5213</td>\n",
       "      <td>138</td>\n",
       "      <td>11</td>\n",
       "      <td>260</td>\n",
       "      <td>4.425</td>\n",
       "    </tr>\n",
       "    <tr>\n",
       "      <th>18335</th>\n",
       "      <td>14.0</td>\n",
       "      <td>82</td>\n",
       "      <td>7936</td>\n",
       "      <td>15479</td>\n",
       "      <td>4.53014</td>\n",
       "      <td>1</td>\n",
       "      <td>524</td>\n",
       "      <td>154</td>\n",
       "      <td>119</td>\n",
       "      <td>1480</td>\n",
       "      <td>4.425</td>\n",
       "    </tr>\n",
       "  </tbody>\n",
       "</table>\n",
       "</div>"
      ],
      "text/plain": [
       "       beer_abv  beer_ibu    bid  rating_count  rating_score  \\\n",
       "1714        5.4        65  12210          7925       4.30297   \n",
       "9402       13.5        42  23271         16710       4.36988   \n",
       "16727      12.5        52   5818         16240       4.29723   \n",
       "17568       5.5        11   6860         63888       4.02619   \n",
       "18335      14.0        82   7936         15479       4.53014   \n",
       "\n",
       "       is_in_production  brewery.brewery_id  beer_style_cat  \\\n",
       "1714                  1                2562              98   \n",
       "9402                  1                 524               5   \n",
       "16727                 1                2712               5   \n",
       "17568                 1                5213             138   \n",
       "18335                 1                 524             154   \n",
       "\n",
       "       brewery.country_name_cat  brewery.location.brewery_city_cat  \\\n",
       "1714                        119                                816   \n",
       "9402                        119                               1480   \n",
       "16727                       119                               1704   \n",
       "17568                        11                                260   \n",
       "18335                       119                               1480   \n",
       "\n",
       "       predicted_values  \n",
       "1714              4.600  \n",
       "9402              4.500  \n",
       "16727             4.475  \n",
       "17568             4.425  \n",
       "18335             4.425  "
      ]
     },
     "execution_count": 77,
     "metadata": {},
     "output_type": "execute_result"
    }
   ],
   "source": [
    "final_predict_df.sort_values(by='predicted_values', ascending=False).head(5)"
   ]
  },
  {
   "cell_type": "code",
   "execution_count": 81,
   "metadata": {
    "collapsed": false
   },
   "outputs": [
    {
     "data": {
      "text/html": [
       "<div>\n",
       "<table border=\"1\" class=\"dataframe\">\n",
       "  <thead>\n",
       "    <tr style=\"text-align: right;\">\n",
       "      <th></th>\n",
       "      <th>beer_abv</th>\n",
       "      <th>beer_ibu</th>\n",
       "      <th>beer_name</th>\n",
       "      <th>beer_style</th>\n",
       "      <th>bid</th>\n",
       "      <th>brewery.brewery_id</th>\n",
       "      <th>brewery.brewery_name</th>\n",
       "      <th>brewery.brewery_type</th>\n",
       "      <th>brewery.country_name</th>\n",
       "      <th>brewery.location.brewery_city</th>\n",
       "      <th>...</th>\n",
       "      <th>created_at</th>\n",
       "      <th>is_homebrew</th>\n",
       "      <th>is_in_production</th>\n",
       "      <th>rating_count</th>\n",
       "      <th>rating_score</th>\n",
       "      <th>stats.monthly_count</th>\n",
       "      <th>stats.total_count</th>\n",
       "      <th>stats.total_user_count</th>\n",
       "      <th>weighted_rating_score</th>\n",
       "      <th>wish_list</th>\n",
       "    </tr>\n",
       "  </thead>\n",
       "  <tbody>\n",
       "    <tr>\n",
       "      <th>18335</th>\n",
       "      <td>14.0</td>\n",
       "      <td>82</td>\n",
       "      <td>Parabola</td>\n",
       "      <td>Stout - Russian Imperial</td>\n",
       "      <td>7936</td>\n",
       "      <td>524</td>\n",
       "      <td>Firestone Walker Brewing Company</td>\n",
       "      <td>Micro Brewery</td>\n",
       "      <td>United States</td>\n",
       "      <td>Paso Robles</td>\n",
       "      <td>...</td>\n",
       "      <td>Sun, 07 Nov 2010 16:38:18 +0000</td>\n",
       "      <td>0</td>\n",
       "      <td>1</td>\n",
       "      <td>15479</td>\n",
       "      <td>4.53014</td>\n",
       "      <td>654</td>\n",
       "      <td>20940</td>\n",
       "      <td>17930</td>\n",
       "      <td>4.51309</td>\n",
       "      <td>False</td>\n",
       "    </tr>\n",
       "  </tbody>\n",
       "</table>\n",
       "<p>1 rows × 23 columns</p>\n",
       "</div>"
      ],
      "text/plain": [
       "       beer_abv  beer_ibu beer_name                beer_style   bid  \\\n",
       "18335      14.0        82  Parabola  Stout - Russian Imperial  7936   \n",
       "\n",
       "       brewery.brewery_id              brewery.brewery_name  \\\n",
       "18335                 524  Firestone Walker Brewing Company   \n",
       "\n",
       "      brewery.brewery_type brewery.country_name brewery.location.brewery_city  \\\n",
       "18335        Micro Brewery        United States                   Paso Robles   \n",
       "\n",
       "         ...                           created_at  is_homebrew  \\\n",
       "18335    ...      Sun, 07 Nov 2010 16:38:18 +0000            0   \n",
       "\n",
       "       is_in_production rating_count  rating_score  stats.monthly_count  \\\n",
       "18335                 1        15479       4.53014                  654   \n",
       "\n",
       "       stats.total_count  stats.total_user_count  weighted_rating_score  \\\n",
       "18335              20940                   17930                4.51309   \n",
       "\n",
       "       wish_list  \n",
       "18335      False  \n",
       "\n",
       "[1 rows x 23 columns]"
      ]
     },
     "execution_count": 81,
     "metadata": {},
     "output_type": "execute_result"
    }
   ],
   "source": [
    "my_new_beer_df[my_new_beer_df['bid']==7936]"
   ]
  },
  {
   "cell_type": "markdown",
   "metadata": {},
   "source": [
    "## Which features are best?"
   ]
  },
  {
   "cell_type": "code",
   "execution_count": 93,
   "metadata": {
    "collapsed": false
   },
   "outputs": [
    {
     "data": {
      "text/html": [
       "<div>\n",
       "<table border=\"1\" class=\"dataframe\">\n",
       "  <thead>\n",
       "    <tr style=\"text-align: right;\">\n",
       "      <th></th>\n",
       "      <th>col_names</th>\n",
       "      <th>Predictions</th>\n",
       "    </tr>\n",
       "  </thead>\n",
       "  <tbody>\n",
       "    <tr>\n",
       "      <th>4</th>\n",
       "      <td>beer.rating_score</td>\n",
       "      <td>0.619225</td>\n",
       "    </tr>\n",
       "    <tr>\n",
       "      <th>8</th>\n",
       "      <td>brewery.country_name_cat</td>\n",
       "      <td>0.074211</td>\n",
       "    </tr>\n",
       "    <tr>\n",
       "      <th>7</th>\n",
       "      <td>beer.beer_style_cat</td>\n",
       "      <td>0.068626</td>\n",
       "    </tr>\n",
       "    <tr>\n",
       "      <th>6</th>\n",
       "      <td>brewery.brewery_id</td>\n",
       "      <td>0.055966</td>\n",
       "    </tr>\n",
       "    <tr>\n",
       "      <th>2</th>\n",
       "      <td>beer.bid</td>\n",
       "      <td>0.044877</td>\n",
       "    </tr>\n",
       "    <tr>\n",
       "      <th>9</th>\n",
       "      <td>brewery.location.brewery_city_cat</td>\n",
       "      <td>0.044672</td>\n",
       "    </tr>\n",
       "    <tr>\n",
       "      <th>3</th>\n",
       "      <td>beer.rating_count</td>\n",
       "      <td>0.042952</td>\n",
       "    </tr>\n",
       "    <tr>\n",
       "      <th>0</th>\n",
       "      <td>beer.beer_abv</td>\n",
       "      <td>0.037505</td>\n",
       "    </tr>\n",
       "    <tr>\n",
       "      <th>1</th>\n",
       "      <td>beer.beer_ibu</td>\n",
       "      <td>0.011967</td>\n",
       "    </tr>\n",
       "    <tr>\n",
       "      <th>5</th>\n",
       "      <td>brewery.brewery_active</td>\n",
       "      <td>0.000000</td>\n",
       "    </tr>\n",
       "  </tbody>\n",
       "</table>\n",
       "</div>"
      ],
      "text/plain": [
       "                           col_names  Predictions\n",
       "4                  beer.rating_score     0.619225\n",
       "8           brewery.country_name_cat     0.074211\n",
       "7                beer.beer_style_cat     0.068626\n",
       "6                 brewery.brewery_id     0.055966\n",
       "2                           beer.bid     0.044877\n",
       "9  brewery.location.brewery_city_cat     0.044672\n",
       "3                  beer.rating_count     0.042952\n",
       "0                      beer.beer_abv     0.037505\n",
       "1                      beer.beer_ibu     0.011967\n",
       "5             brewery.brewery_active     0.000000"
      ]
     },
     "execution_count": 93,
     "metadata": {},
     "output_type": "execute_result"
    }
   ],
   "source": [
    "#list(zip(final_beer_df.columns, rf.feature_importances_))\n",
    "plot_df = pd.DataFrame()\n",
    "plot_df['col_names'] = final_beer_df.columns\n",
    "plot_df['Predictions'] = rf.feature_importances_\n",
    "plot_df.sort_values(by='Predictions', ascending=False)"
   ]
  },
  {
   "cell_type": "code",
   "execution_count": 65,
   "metadata": {
    "collapsed": false
   },
   "outputs": [
    {
     "data": {
      "text/plain": [
       "[<matplotlib.text.Text at 0x1172fada0>,\n",
       " <matplotlib.text.Text at 0x1172f8400>,\n",
       " <matplotlib.text.Text at 0x1171a27f0>,\n",
       " <matplotlib.text.Text at 0x11719e2e8>,\n",
       " <matplotlib.text.Text at 0x11719eda0>,\n",
       " <matplotlib.text.Text at 0x11718f898>,\n",
       " <matplotlib.text.Text at 0x1172fac18>,\n",
       " <matplotlib.text.Text at 0x1172f26a0>,\n",
       " <matplotlib.text.Text at 0x1171e5f98>,\n",
       " <matplotlib.text.Text at 0x1171ce550>]"
      ]
     },
     "execution_count": 65,
     "metadata": {},
     "output_type": "execute_result"
    },
    {
     "data": {
      "image/png": "[encoded data removed]",
      "text/plain": [
       "<matplotlib.figure.Figure at 0x117142c50>"
      ]
     },
     "metadata": {},
     "output_type": "display_data"
    }
   ],
   "source": [
    "plt.rc(\"figure\", figsize=(12, 8))\n",
    "g = sns.barplot(x = \"col_names\", y = \"Predictions\", data = plot_df.sort_values(by='Predictions', ascending=False))\n",
    "g.set_xticklabels(labels=plot_df.sort_values(by='Predictions', ascending=False)['col_names'],rotation=90)"
   ]
  },
  {
   "cell_type": "markdown",
   "metadata": {
    "collapsed": true
   },
   "source": [
    "## Try again WITHOUT including the average user ratings for each beer"
   ]
  },
  {
   "cell_type": "code",
   "execution_count": 130,
   "metadata": {
    "collapsed": false
   },
   "outputs": [
    {
     "name": "stdout",
     "output_type": "stream",
     "text": [
      "(144, 7) (144,)\n",
      "(37, 7) (37,)\n"
     ]
    }
   ],
   "source": [
    "# create training and testing vars\n",
    "X_train2, X_test2, y_train2, y_test2 = train_test_split(final_beer_df2, y, test_size=0.2)\n",
    "print(X_train2.shape, y_train2.shape)\n",
    "print(X_test2.shape, y_test2.shape)"
   ]
  },
  {
   "cell_type": "code",
   "execution_count": 131,
   "metadata": {
    "collapsed": false
   },
   "outputs": [
    {
     "data": {
      "text/plain": [
       "RandomForestRegressor(bootstrap=True, criterion='mse', max_depth=None,\n",
       "           max_features='auto', max_leaf_nodes=None,\n",
       "           min_impurity_split=1e-07, min_samples_leaf=1,\n",
       "           min_samples_split=2, min_weight_fraction_leaf=0.0,\n",
       "           n_estimators=10, n_jobs=1, oob_score=False, random_state=None,\n",
       "           verbose=0, warm_start=False)"
      ]
     },
     "execution_count": 131,
     "metadata": {},
     "output_type": "execute_result"
    }
   ],
   "source": [
    "from sklearn.ensemble import RandomForestRegressor\n",
    "rf2 = RandomForestRegressor()\n",
    "rf2.fit(X_train2, y_train2)"
   ]
  },
  {
   "cell_type": "code",
   "execution_count": 132,
   "metadata": {
    "collapsed": false
   },
   "outputs": [
    {
     "name": "stdout",
     "output_type": "stream",
     "text": [
      "Score: 0.404194748359\n"
     ]
    }
   ],
   "source": [
    "print('Score: ' + str(rf2.score(X_test2, y_test2)))"
   ]
  },
  {
   "cell_type": "code",
   "execution_count": 133,
   "metadata": {
    "collapsed": false
   },
   "outputs": [
    {
     "data": {
      "text/html": [
       "<div>\n",
       "<table border=\"1\" class=\"dataframe\">\n",
       "  <thead>\n",
       "    <tr style=\"text-align: right;\">\n",
       "      <th></th>\n",
       "      <th>col_names</th>\n",
       "      <th>Predictions</th>\n",
       "    </tr>\n",
       "  </thead>\n",
       "  <tbody>\n",
       "    <tr>\n",
       "      <th>0</th>\n",
       "      <td>beer.beer_abv</td>\n",
       "      <td>0.231872</td>\n",
       "    </tr>\n",
       "    <tr>\n",
       "      <th>4</th>\n",
       "      <td>beer.beer_style_cat</td>\n",
       "      <td>0.227105</td>\n",
       "    </tr>\n",
       "    <tr>\n",
       "      <th>1</th>\n",
       "      <td>beer.beer_ibu</td>\n",
       "      <td>0.153688</td>\n",
       "    </tr>\n",
       "    <tr>\n",
       "      <th>6</th>\n",
       "      <td>brewery.location.brewery_city_cat</td>\n",
       "      <td>0.145894</td>\n",
       "    </tr>\n",
       "    <tr>\n",
       "      <th>5</th>\n",
       "      <td>brewery.country_name_cat</td>\n",
       "      <td>0.129063</td>\n",
       "    </tr>\n",
       "    <tr>\n",
       "      <th>3</th>\n",
       "      <td>brewery.brewery_id</td>\n",
       "      <td>0.112377</td>\n",
       "    </tr>\n",
       "    <tr>\n",
       "      <th>2</th>\n",
       "      <td>brewery.brewery_active</td>\n",
       "      <td>0.000000</td>\n",
       "    </tr>\n",
       "  </tbody>\n",
       "</table>\n",
       "</div>"
      ],
      "text/plain": [
       "                           col_names  Predictions\n",
       "0                      beer.beer_abv     0.231872\n",
       "4                beer.beer_style_cat     0.227105\n",
       "1                      beer.beer_ibu     0.153688\n",
       "6  brewery.location.brewery_city_cat     0.145894\n",
       "5           brewery.country_name_cat     0.129063\n",
       "3                 brewery.brewery_id     0.112377\n",
       "2             brewery.brewery_active     0.000000"
      ]
     },
     "execution_count": 133,
     "metadata": {},
     "output_type": "execute_result"
    }
   ],
   "source": [
    "#list(zip(final_beer_df.columns, rf.feature_importances_))\n",
    "plot_df2 = pd.DataFrame()\n",
    "plot_df2['col_names'] = final_beer_df2.columns\n",
    "plot_df2['Predictions'] = rf2.feature_importances_\n",
    "plot_df2.sort_values(by='Predictions', ascending=False)"
   ]
  },
  {
   "cell_type": "code",
   "execution_count": 134,
   "metadata": {
    "collapsed": false
   },
   "outputs": [
    {
     "data": {
      "text/plain": [
       "[<matplotlib.text.Text at 0x118be41d0>,\n",
       " <matplotlib.text.Text at 0x118bec320>,\n",
       " <matplotlib.text.Text at 0x118c4b940>,\n",
       " <matplotlib.text.Text at 0x118c50438>,\n",
       " <matplotlib.text.Text at 0x118c50ef0>,\n",
       " <matplotlib.text.Text at 0x118c569e8>,\n",
       " <matplotlib.text.Text at 0x118c5d4e0>]"
      ]
     },
     "execution_count": 134,
     "metadata": {},
     "output_type": "execute_result"
    },
    {
     "data": {
      "image/png": "[encoded data removed]",
      "text/plain": [
       "<matplotlib.figure.Figure at 0x1172df630>"
      ]
     },
     "metadata": {},
     "output_type": "display_data"
    }
   ],
   "source": [
    "g2 = sns.barplot(x = \"col_names\", y = \"Predictions\", data = plot_df2.sort_values(by='Predictions', ascending=False))\n",
    "g2.set_xticklabels(labels=plot_df2.sort_values(by='Predictions', ascending=False)['col_names'],rotation=90)"
   ]
  },
  {
   "cell_type": "markdown",
   "metadata": {},
   "source": [
    "## Next, Linear Regression"
   ]
  },
  {
   "cell_type": "markdown",
   "metadata": {},
   "source": [
    "Similar to Random Forests, we will use two different feature sets and compare their results."
   ]
  },
  {
   "cell_type": "code",
   "execution_count": 25,
   "metadata": {
    "collapsed": false
   },
   "outputs": [
    {
     "name": "stdout",
     "output_type": "stream",
     "text": [
      "<class 'pandas.core.frame.DataFrame'>\n",
      "RangeIndex: 181 entries, 0 to 180\n",
      "Data columns (total 10 columns):\n",
      "beer.beer_abv                        181 non-null float64\n",
      "beer.beer_ibu                        181 non-null int64\n",
      "beer.bid                             181 non-null int64\n",
      "beer.rating_count                    181 non-null int64\n",
      "beer.rating_score                    181 non-null float64\n",
      "brewery.brewery_active               181 non-null int64\n",
      "brewery.brewery_id                   181 non-null int64\n",
      "beer.beer_style_cat                  181 non-null int8\n",
      "brewery.country_name_cat             181 non-null int8\n",
      "brewery.location.brewery_city_cat    181 non-null int8\n",
      "dtypes: float64(2), int64(5), int8(3)\n",
      "memory usage: 10.5 KB\n"
     ]
    }
   ],
   "source": [
    "final_beer_df.info()"
   ]
  },
  {
   "cell_type": "code",
   "execution_count": 26,
   "metadata": {
    "collapsed": false
   },
   "outputs": [
    {
     "name": "stdout",
     "output_type": "stream",
     "text": [
      "(144, 10) (144,)\n",
      "(37, 10) (37,)\n"
     ]
    }
   ],
   "source": [
    "# create training and testing vars\n",
    "X_train3, X_test3, y_train3, y_test3 = train_test_split(final_beer_df, y, test_size=0.2)\n",
    "print(X_train3.shape, y_train3.shape)\n",
    "print(X_test3.shape, y_test3.shape)"
   ]
  },
  {
   "cell_type": "code",
   "execution_count": 27,
   "metadata": {
    "collapsed": false
   },
   "outputs": [
    {
     "name": "stderr",
     "output_type": "stream",
     "text": [
      "/Users/joshuaemayer/anaconda/envs/python3/lib/python3.6/site-packages/scipy/linalg/basic.py:1018: RuntimeWarning: internal gelsd driver lwork query error, required iwork dimension not returned. This is likely the result of LAPACK bug 0038, fixed in LAPACK 3.2.2 (released July 21, 2010). Falling back to 'gelss' driver.\n",
      "  warnings.warn(mesg, RuntimeWarning)\n"
     ]
    },
    {
     "data": {
      "text/plain": [
       "LinearRegression(copy_X=True, fit_intercept=True, n_jobs=1, normalize=False)"
      ]
     },
     "execution_count": 27,
     "metadata": {},
     "output_type": "execute_result"
    }
   ],
   "source": [
    "from sklearn.linear_model import LinearRegression\n",
    "lr = LinearRegression()\n",
    "lr.fit(X_train3, y_train3)"
   ]
  },
  {
   "cell_type": "code",
   "execution_count": 28,
   "metadata": {
    "collapsed": false
   },
   "outputs": [
    {
     "name": "stdout",
     "output_type": "stream",
     "text": [
      "Score: 0.480038461922\n"
     ]
    }
   ],
   "source": [
    "print('Score: ' + str(lr.score(X_test3, y_test3)))"
   ]
  },
  {
   "cell_type": "markdown",
   "metadata": {},
   "source": [
    "## Cross-validation"
   ]
  },
  {
   "cell_type": "code",
   "execution_count": 29,
   "metadata": {
    "collapsed": true
   },
   "outputs": [],
   "source": [
    "from sklearn.model_selection import cross_val_score"
   ]
  },
  {
   "cell_type": "code",
   "execution_count": 30,
   "metadata": {
    "collapsed": false
   },
   "outputs": [
    {
     "data": {
      "text/plain": [
       "array([ 0.55283278,  0.5553776 ,  0.55298489,  0.5829174 ,  0.3660915 ])"
      ]
     },
     "execution_count": 30,
     "metadata": {},
     "output_type": "execute_result"
    }
   ],
   "source": [
    "cv_scores = cross_val_score(lr, final_beer_df, y, cv=5)\n",
    "cv_scores"
   ]
  },
  {
   "cell_type": "code",
   "execution_count": 31,
   "metadata": {
    "collapsed": false
   },
   "outputs": [
    {
     "name": "stdout",
     "output_type": "stream",
     "text": [
      "Accuracy: 0.52 (+/- 0.16)\n"
     ]
    }
   ],
   "source": [
    "print(\"Accuracy: %0.2f (+/- %0.2f)\" % (cv_scores.mean(), cv_scores.std() * 2))"
   ]
  },
  {
   "cell_type": "markdown",
   "metadata": {},
   "source": [
    "## Again, Linear Regression with a different dataset"
   ]
  },
  {
   "cell_type": "code",
   "execution_count": 32,
   "metadata": {
    "collapsed": false
   },
   "outputs": [
    {
     "name": "stdout",
     "output_type": "stream",
     "text": [
      "(144, 7) (144,)\n",
      "(37, 7) (37,)\n"
     ]
    }
   ],
   "source": [
    "# create training and testing vars\n",
    "X_train4, X_test4, y_train4, y_test4 = train_test_split(final_beer_df2, y, test_size=0.2)\n",
    "print(X_train4.shape, y_train4.shape)\n",
    "print(X_test4.shape, y_test4.shape)"
   ]
  },
  {
   "cell_type": "code",
   "execution_count": 33,
   "metadata": {
    "collapsed": false
   },
   "outputs": [
    {
     "data": {
      "text/plain": [
       "LinearRegression(copy_X=True, fit_intercept=True, n_jobs=1, normalize=False)"
      ]
     },
     "execution_count": 33,
     "metadata": {},
     "output_type": "execute_result"
    }
   ],
   "source": [
    "from sklearn.linear_model import LinearRegression\n",
    "lr2 = LinearRegression()\n",
    "lr2.fit(X_train4, y_train4)"
   ]
  },
  {
   "cell_type": "code",
   "execution_count": 34,
   "metadata": {
    "collapsed": false
   },
   "outputs": [
    {
     "name": "stdout",
     "output_type": "stream",
     "text": [
      "Score: 0.189153310949\n"
     ]
    }
   ],
   "source": [
    "print('Score: ' + str(lr2.score(X_test4, y_test4)))"
   ]
  },
  {
   "cell_type": "code",
   "execution_count": 35,
   "metadata": {
    "collapsed": false
   },
   "outputs": [
    {
     "data": {
      "text/plain": [
       "array([-0.70890659,  0.34209997,  0.07788943, -0.7087702 ,  0.05780742])"
      ]
     },
     "execution_count": 35,
     "metadata": {},
     "output_type": "execute_result"
    }
   ],
   "source": [
    "cv_scores2 = cross_val_score(lr2, final_beer_df2, y, cv=5)\n",
    "cv_scores2"
   ]
  },
  {
   "cell_type": "code",
   "execution_count": 36,
   "metadata": {
    "collapsed": false
   },
   "outputs": [
    {
     "name": "stdout",
     "output_type": "stream",
     "text": [
      "Accuracy: -0.19 (+/- 0.87)\n"
     ]
    }
   ],
   "source": [
    "print(\"Accuracy: %0.2f (+/- %0.2f)\" % (cv_scores2.mean(), cv_scores2.std() * 2))"
   ]
  },
  {
   "cell_type": "markdown",
   "metadata": {
    "collapsed": true
   },
   "source": [
    "## Finally, Gradient Boosting Regression"
   ]
  },
  {
   "cell_type": "code",
   "execution_count": 37,
   "metadata": {
    "collapsed": false
   },
   "outputs": [
    {
     "data": {
      "text/plain": [
       "GradientBoostingRegressor(alpha=0.9, criterion='friedman_mse', init=None,\n",
       "             learning_rate=0.1, loss='ls', max_depth=3, max_features=None,\n",
       "             max_leaf_nodes=None, min_impurity_split=1e-07,\n",
       "             min_samples_leaf=1, min_samples_split=2,\n",
       "             min_weight_fraction_leaf=0.0, n_estimators=100,\n",
       "             presort='auto', random_state=None, subsample=1.0, verbose=0,\n",
       "             warm_start=False)"
      ]
     },
     "execution_count": 37,
     "metadata": {},
     "output_type": "execute_result"
    }
   ],
   "source": [
    "from sklearn.ensemble import GradientBoostingRegressor\n",
    "gb = GradientBoostingRegressor()\n",
    "gb.fit(X_train, y_train)"
   ]
  },
  {
   "cell_type": "code",
   "execution_count": 39,
   "metadata": {
    "collapsed": false
   },
   "outputs": [
    {
     "name": "stdout",
     "output_type": "stream",
     "text": [
      "Score: 0.607300785553\n"
     ]
    }
   ],
   "source": [
    "print('Score: ' + str(gb.score(X_test, y_test)))"
   ]
  },
  {
   "cell_type": "code",
   "execution_count": 41,
   "metadata": {
    "collapsed": false
   },
   "outputs": [
    {
     "name": "stdout",
     "output_type": "stream",
     "text": [
      "MSE: 0.1548\n"
     ]
    }
   ],
   "source": [
    "from sklearn.metrics import mean_squared_error\n",
    "mse = mean_squared_error(y_test, gb.predict(X_test))\n",
    "print(\"MSE: %.4f\" % mse)"
   ]
  },
  {
   "cell_type": "code",
   "execution_count": 68,
   "metadata": {
    "collapsed": false
   },
   "outputs": [
    {
     "data": {
      "text/html": [
       "<div>\n",
       "<table border=\"1\" class=\"dataframe\">\n",
       "  <thead>\n",
       "    <tr style=\"text-align: right;\">\n",
       "      <th></th>\n",
       "      <th>col_names</th>\n",
       "      <th>Predictions</th>\n",
       "    </tr>\n",
       "  </thead>\n",
       "  <tbody>\n",
       "    <tr>\n",
       "      <th>4</th>\n",
       "      <td>beer.rating_score</td>\n",
       "      <td>0.349069</td>\n",
       "    </tr>\n",
       "    <tr>\n",
       "      <th>9</th>\n",
       "      <td>brewery.location.brewery_city_cat</td>\n",
       "      <td>0.134612</td>\n",
       "    </tr>\n",
       "    <tr>\n",
       "      <th>3</th>\n",
       "      <td>beer.rating_count</td>\n",
       "      <td>0.110142</td>\n",
       "    </tr>\n",
       "    <tr>\n",
       "      <th>7</th>\n",
       "      <td>beer.beer_style_cat</td>\n",
       "      <td>0.088183</td>\n",
       "    </tr>\n",
       "    <tr>\n",
       "      <th>2</th>\n",
       "      <td>beer.bid</td>\n",
       "      <td>0.080057</td>\n",
       "    </tr>\n",
       "    <tr>\n",
       "      <th>0</th>\n",
       "      <td>beer.beer_abv</td>\n",
       "      <td>0.078674</td>\n",
       "    </tr>\n",
       "    <tr>\n",
       "      <th>8</th>\n",
       "      <td>brewery.country_name_cat</td>\n",
       "      <td>0.069058</td>\n",
       "    </tr>\n",
       "    <tr>\n",
       "      <th>6</th>\n",
       "      <td>brewery.brewery_id</td>\n",
       "      <td>0.061895</td>\n",
       "    </tr>\n",
       "    <tr>\n",
       "      <th>1</th>\n",
       "      <td>beer.beer_ibu</td>\n",
       "      <td>0.028311</td>\n",
       "    </tr>\n",
       "    <tr>\n",
       "      <th>5</th>\n",
       "      <td>brewery.brewery_active</td>\n",
       "      <td>0.000000</td>\n",
       "    </tr>\n",
       "  </tbody>\n",
       "</table>\n",
       "</div>"
      ],
      "text/plain": [
       "                           col_names  Predictions\n",
       "4                  beer.rating_score     0.349069\n",
       "9  brewery.location.brewery_city_cat     0.134612\n",
       "3                  beer.rating_count     0.110142\n",
       "7                beer.beer_style_cat     0.088183\n",
       "2                           beer.bid     0.080057\n",
       "0                      beer.beer_abv     0.078674\n",
       "8           brewery.country_name_cat     0.069058\n",
       "6                 brewery.brewery_id     0.061895\n",
       "1                      beer.beer_ibu     0.028311\n",
       "5             brewery.brewery_active     0.000000"
      ]
     },
     "execution_count": 68,
     "metadata": {},
     "output_type": "execute_result"
    }
   ],
   "source": [
    "#list(zip(final_beer_df.columns, rf.feature_importances_))\n",
    "plot_df3 = pd.DataFrame()\n",
    "plot_df3['col_names'] = final_beer_df.columns\n",
    "plot_df3['Predictions'] = gb.feature_importances_\n",
    "plot_df3.sort_values(by='Predictions', ascending=False)"
   ]
  },
  {
   "cell_type": "code",
   "execution_count": 69,
   "metadata": {
    "collapsed": false
   },
   "outputs": [
    {
     "data": {
      "text/plain": [
       "[<matplotlib.text.Text at 0x117282c50>,\n",
       " <matplotlib.text.Text at 0x1171bed68>,\n",
       " <matplotlib.text.Text at 0x1171ccfd0>,\n",
       " <matplotlib.text.Text at 0x117260080>,\n",
       " <matplotlib.text.Text at 0x11715f668>,\n",
       " <matplotlib.text.Text at 0x11777b3c8>,\n",
       " <matplotlib.text.Text at 0x1171a9780>,\n",
       " <matplotlib.text.Text at 0x1171a9f60>,\n",
       " <matplotlib.text.Text at 0x1172f4d30>,\n",
       " <matplotlib.text.Text at 0x1177dfc50>]"
      ]
     },
     "execution_count": 69,
     "metadata": {},
     "output_type": "execute_result"
    },
    {
     "data": {
      "image/png": "[encoded data removed]",
      "text/plain": [
       "<matplotlib.figure.Figure at 0x1177e1c88>"
      ]
     },
     "metadata": {},
     "output_type": "display_data"
    }
   ],
   "source": [
    "g3 = sns.barplot(x = \"col_names\", y = \"Predictions\", data = plot_df3.sort_values(by='Predictions', ascending=False))\n",
    "g3.set_xticklabels(labels=plot_df3.sort_values(by='Predictions', ascending=False)['col_names'],rotation=90)"
   ]
  },
  {
   "cell_type": "code",
   "execution_count": null,
   "metadata": {
    "collapsed": true
   },
   "outputs": [],
   "source": []
  },
  {
   "cell_type": "markdown",
   "metadata": {
    "collapsed": true
   },
   "source": [
    "## Gradient Boosting w/o Other User Ratings"
   ]
  },
  {
   "cell_type": "code",
   "execution_count": 71,
   "metadata": {
    "collapsed": false
   },
   "outputs": [
    {
     "data": {
      "text/plain": [
       "GradientBoostingRegressor(alpha=0.9, criterion='friedman_mse', init=None,\n",
       "             learning_rate=0.1, loss='ls', max_depth=3, max_features=None,\n",
       "             max_leaf_nodes=None, min_impurity_split=1e-07,\n",
       "             min_samples_leaf=1, min_samples_split=2,\n",
       "             min_weight_fraction_leaf=0.0, n_estimators=100,\n",
       "             presort='auto', random_state=None, subsample=1.0, verbose=0,\n",
       "             warm_start=False)"
      ]
     },
     "execution_count": 71,
     "metadata": {},
     "output_type": "execute_result"
    }
   ],
   "source": [
    "gb2 = GradientBoostingRegressor()\n",
    "gb2.fit(X_train2, y_train2)"
   ]
  },
  {
   "cell_type": "code",
   "execution_count": 73,
   "metadata": {
    "collapsed": false
   },
   "outputs": [
    {
     "name": "stdout",
     "output_type": "stream",
     "text": [
      "Score: 0.215144760002\n"
     ]
    }
   ],
   "source": [
    "print('Score: ' + str(gb2.score(X_test2, y_test2)))"
   ]
  },
  {
   "cell_type": "code",
   "execution_count": 74,
   "metadata": {
    "collapsed": false
   },
   "outputs": [
    {
     "name": "stdout",
     "output_type": "stream",
     "text": [
      "MSE: 0.3275\n"
     ]
    }
   ],
   "source": [
    "from sklearn.metrics import mean_squared_error\n",
    "mse = mean_squared_error(y_test2, gb2.predict(X_test2))\n",
    "print(\"MSE: %.4f\" % mse)"
   ]
  },
  {
   "cell_type": "code",
   "execution_count": 75,
   "metadata": {
    "collapsed": false
   },
   "outputs": [
    {
     "data": {
      "text/html": [
       "<div>\n",
       "<table border=\"1\" class=\"dataframe\">\n",
       "  <thead>\n",
       "    <tr style=\"text-align: right;\">\n",
       "      <th></th>\n",
       "      <th>col_names</th>\n",
       "      <th>Predictions</th>\n",
       "    </tr>\n",
       "  </thead>\n",
       "  <tbody>\n",
       "    <tr>\n",
       "      <th>4</th>\n",
       "      <td>beer.beer_style_cat</td>\n",
       "      <td>0.228076</td>\n",
       "    </tr>\n",
       "    <tr>\n",
       "      <th>0</th>\n",
       "      <td>beer.beer_abv</td>\n",
       "      <td>0.186487</td>\n",
       "    </tr>\n",
       "    <tr>\n",
       "      <th>6</th>\n",
       "      <td>brewery.location.brewery_city_cat</td>\n",
       "      <td>0.174476</td>\n",
       "    </tr>\n",
       "    <tr>\n",
       "      <th>5</th>\n",
       "      <td>brewery.country_name_cat</td>\n",
       "      <td>0.171728</td>\n",
       "    </tr>\n",
       "    <tr>\n",
       "      <th>3</th>\n",
       "      <td>brewery.brewery_id</td>\n",
       "      <td>0.147244</td>\n",
       "    </tr>\n",
       "    <tr>\n",
       "      <th>1</th>\n",
       "      <td>beer.beer_ibu</td>\n",
       "      <td>0.091989</td>\n",
       "    </tr>\n",
       "    <tr>\n",
       "      <th>2</th>\n",
       "      <td>brewery.brewery_active</td>\n",
       "      <td>0.000000</td>\n",
       "    </tr>\n",
       "  </tbody>\n",
       "</table>\n",
       "</div>"
      ],
      "text/plain": [
       "                           col_names  Predictions\n",
       "4                beer.beer_style_cat     0.228076\n",
       "0                      beer.beer_abv     0.186487\n",
       "6  brewery.location.brewery_city_cat     0.174476\n",
       "5           brewery.country_name_cat     0.171728\n",
       "3                 brewery.brewery_id     0.147244\n",
       "1                      beer.beer_ibu     0.091989\n",
       "2             brewery.brewery_active     0.000000"
      ]
     },
     "execution_count": 75,
     "metadata": {},
     "output_type": "execute_result"
    }
   ],
   "source": [
    "#list(zip(final_beer_df.columns, rf.feature_importances_))\n",
    "plot_df4 = pd.DataFrame()\n",
    "plot_df4['col_names'] = final_beer_df2.columns\n",
    "plot_df4['Predictions'] = gb2.feature_importances_\n",
    "plot_df4.sort_values(by='Predictions', ascending=False)"
   ]
  },
  {
   "cell_type": "code",
   "execution_count": 76,
   "metadata": {
    "collapsed": false
   },
   "outputs": [
    {
     "data": {
      "text/plain": [
       "[<matplotlib.text.Text at 0x11717c908>,\n",
       " <matplotlib.text.Text at 0x1174e8b38>,\n",
       " <matplotlib.text.Text at 0x117235898>,\n",
       " <matplotlib.text.Text at 0x11715ccc0>,\n",
       " <matplotlib.text.Text at 0x1171ef5f8>,\n",
       " <matplotlib.text.Text at 0x11747bf28>,\n",
       " <matplotlib.text.Text at 0x111bcbdd8>]"
      ]
     },
     "execution_count": 76,
     "metadata": {},
     "output_type": "execute_result"
    },
    {
     "data": {
      "image/png": "[encoded data removed]",
      "text/plain": [
       "<matplotlib.figure.Figure at 0x11780c2e8>"
      ]
     },
     "metadata": {},
     "output_type": "display_data"
    }
   ],
   "source": [
    "g4 = sns.barplot(x = \"col_names\", y = \"Predictions\", data = plot_df4.sort_values(by='Predictions', ascending=False))\n",
    "g4.set_xticklabels(labels=plot_df4.sort_values(by='Predictions', ascending=False)['col_names'],rotation=90)"
   ]
  },
  {
   "cell_type": "code",
   "execution_count": null,
   "metadata": {
    "collapsed": true
   },
   "outputs": [],
   "source": []
  },
  {
   "cell_type": "code",
   "execution_count": null,
   "metadata": {
    "collapsed": true
   },
   "outputs": [],
   "source": []
  }
 ],
 "metadata": {
  "kernelspec": {
   "display_name": "Python 3",
   "language": "python",
   "name": "python3"
  },
  "language_info": {
   "codemirror_mode": {
    "name": "ipython",
    "version": 3
   },
   "file_extension": ".py",
   "mimetype": "text/x-python",
   "name": "python",
   "nbconvert_exporter": "python",
   "pygments_lexer": "ipython3",
   "version": "3.6.1"
  }
 },
 "nbformat": 4,
 "nbformat_minor": 0
}
