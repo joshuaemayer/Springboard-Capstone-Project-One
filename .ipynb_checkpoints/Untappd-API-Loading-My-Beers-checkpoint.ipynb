{
 "cells": [
  {
   "cell_type": "code",
   "execution_count": 1,
   "metadata": {
    "collapsed": false
   },
   "outputs": [],
   "source": [
    "#Testing connectivity with Untappd API\n",
    "import requests #for requesting API calls\n",
    "import pandas as pd #for building pandas dataframes for analysis\n",
    "from pandas.io.json import json_normalize #help with converting dictionaries to dataframes\n",
    "from datetime import datetime #log date and time of activities"
   ]
  },
  {
   "cell_type": "code",
   "execution_count": 2,
   "metadata": {
    "collapsed": true
   },
   "outputs": [],
   "source": [
    "# Assign URL to variable: url\n",
    "url = 'https://api.untappd.com/v4' #base URL for all API calls\n",
    "client_id = '?client_id=D9E63A3F203F8A4FDBE5B7E58CEDB2E90FF50AB4'\n",
    "client_secret = '&client_secret=C861E23878359F93F1EF3FDB7F233095316C6CA5'\n",
    "code='F1BD60BFBB99F5AA8D23067359210F6370EEE57E'\n",
    "access_token = '51CDCC3DAECC020BA92A9D959963D27D5D1DA951'"
   ]
  },
  {
   "cell_type": "code",
   "execution_count": 3,
   "metadata": {
    "collapsed": true
   },
   "outputs": [],
   "source": [
    "#Parameters specific to user beer\n",
    "user_beer = '/user/beers'\n",
    "username = '/joshuaemayer' #return results for this user\n",
    "limit = '&limit='\n",
    "limit_num = 50\n",
    "offset = '&offset='\n",
    "offset_num = 0"
   ]
  },
  {
   "cell_type": "code",
   "execution_count": 4,
   "metadata": {
    "collapsed": true
   },
   "outputs": [],
   "source": [
    "#Let's keep track of how many API calls we are making for fun\n",
    "api_count = []"
   ]
  },
  {
   "cell_type": "code",
   "execution_count": 5,
   "metadata": {
    "collapsed": false
   },
   "outputs": [
    {
     "name": "stdout",
     "output_type": "stream",
     "text": [
      "Successfully Loaded & Normalized JSON Data\n",
      "Succesfully Copied Original Dataframe\n",
      "Dataframes Loaded: 1\n",
      "Successfully Loaded & Normalized JSON Data\n",
      "Successfully Appended to Original DataFrame \n",
      "Dataframes Loaded: 2\n",
      "Successfully Loaded & Normalized JSON Data\n",
      "Successfully Appended to Original DataFrame \n",
      "Dataframes Loaded: 3\n",
      "Successfully Loaded & Normalized JSON Data\n",
      "Successfully Appended to Original DataFrame \n",
      "Dataframes Loaded: 4\n",
      "Successfully Loaded & Normalized JSON Data\n",
      "Successfully Appended to Original DataFrame \n",
      "Dataframes Loaded: 5\n",
      "Finished Loading JSON Files\n",
      "API Calls Made: 6\n",
      "Distinct Beers: 210\n"
     ]
    }
   ],
   "source": [
    "#Initialize our zero vars\n",
    "load_indicator = 0\n",
    "api_call_counter = 0\n",
    "\n",
    "#Since the Untappd API only allows 50 results per call, let's iterate until we acquire all of the results\n",
    "#Hopefully we don't lose our API priveleges ;)\n",
    "while (load_indicator == 0) & (len(api_count) <= 100) :\n",
    "    # Package the request, send the request and catch the response: r\n",
    "    r = requests.get(url+user_beer+username+client_id+client_secret+limit+str(limit_num)+offset+str(offset_num))\n",
    "    # Let's keep track of how many API calls we are making, limit is 100 per hour\n",
    "    api_count.append(format(datetime.now()))\n",
    "    # Decode the JSON data into a dictionary: json_data\n",
    "    json_data = r.json()\n",
    "    if (json_data['meta']['code'] == 200) & (json_data['response']['beers']['count'] > 0) :\n",
    "        df_name = json_normalize(json_data['response']['beers']['items'])\n",
    "        print('Successfully Loaded & Normalized JSON Data')\n",
    "        if api_call_counter == 0 :\n",
    "            orig_df = df_name.copy()\n",
    "            print('Succesfully Copied Original Dataframe')\n",
    "        if api_call_counter > 0 :\n",
    "            orig_df = orig_df.append(df_name, ignore_index=True)\n",
    "            print('Successfully Appended to Original DataFrame ')\n",
    "        api_call_counter += 1\n",
    "        offset_num += limit_num\n",
    "        print('Dataframes Loaded: ' + str(api_call_counter))\n",
    "    elif (json_data['meta']['code'] == 200) & (json_data['response']['beers']['count'] == 0) :\n",
    "        load_indicator = 1\n",
    "        print('Finished Loading JSON Files')\n",
    "        print('API Calls Made: ' + str(len(api_count)))\n",
    "        print('Distinct Beers: ' + str(orig_df.shape[0]))\n",
    "        print('Ending Time: ' + str(datetime.now()))\n",
    "    elif (json_data['meta']['code'] != 200) :\n",
    "            print('API call failed: ' + str('code: ') + str(json_data['meta']['code']) + ' '\n",
    "                  + str(json_data['meta']['error_detail']))\n",
    "            print('Ending Time: ' + str(datetime.now()))\n",
    "    else :\n",
    "        load_indicator = 1 \n",
    "        print('Unknown reason for stopping')\n",
    "        print('Ending Time: ' + str(datetime.now()))"
   ]
  },
  {
   "cell_type": "code",
   "execution_count": 6,
   "metadata": {
    "collapsed": true
   },
   "outputs": [],
   "source": [
    "#Save dataframe to CSV file for analysis\n",
    "orig_df.to_csv('my-beer-data.csv', index=False)\n",
    "print('CSV Export Time: ' + str(datetime.now()))"
   ]
  },
  {
   "cell_type": "code",
   "execution_count": null,
   "metadata": {
    "collapsed": true
   },
   "outputs": [],
   "source": []
  },
  {
   "cell_type": "code",
   "execution_count": null,
   "metadata": {
    "collapsed": true
   },
   "outputs": [],
   "source": []
  },
  {
   "cell_type": "code",
   "execution_count": 356,
   "metadata": {
    "collapsed": false
   },
   "outputs": [],
   "source": []
  },
  {
   "cell_type": "code",
   "execution_count": null,
   "metadata": {
    "collapsed": true
   },
   "outputs": [],
   "source": []
  },
  {
   "cell_type": "code",
   "execution_count": null,
   "metadata": {
    "collapsed": true
   },
   "outputs": [],
   "source": []
  },
  {
   "cell_type": "code",
   "execution_count": null,
   "metadata": {
    "collapsed": true
   },
   "outputs": [],
   "source": []
  }
 ],
 "metadata": {
  "kernelspec": {
   "display_name": "Python 3",
   "language": "python",
   "name": "python3"
  },
  "language_info": {
   "codemirror_mode": {
    "name": "ipython",
    "version": 3
   },
   "file_extension": ".py",
   "mimetype": "text/x-python",
   "name": "python",
   "nbconvert_exporter": "python",
   "pygments_lexer": "ipython3",
   "version": "3.6.1"
  }
 },
 "nbformat": 4,
 "nbformat_minor": 0
}
