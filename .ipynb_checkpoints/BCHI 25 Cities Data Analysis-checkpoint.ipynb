{
 "cells": [
  {
   "cell_type": "code",
   "execution_count": 1,
   "metadata": {
    "collapsed": true
   },
   "outputs": [],
   "source": [
    "#basic i/o tools\n",
    "import csv \n",
    "import pandas as pd \n",
    "import numpy as np"
   ]
  },
  {
   "cell_type": "code",
   "execution_count": 2,
   "metadata": {
    "collapsed": true
   },
   "outputs": [],
   "source": [
    "data = pd.read_csv('BCHI-platform-dataset.csv')"
   ]
  },
  {
   "cell_type": "code",
   "execution_count": 4,
   "metadata": {
    "collapsed": false
   },
   "outputs": [
    {
     "name": "stdout",
     "output_type": "stream",
     "text": [
      "<class 'pandas.core.frame.DataFrame'>\n",
      "RangeIndex: 18001 entries, 0 to 18000\n",
      "Data columns (total 15 columns):\n",
      "Indicator Category                  18001 non-null object\n",
      "Indicator                           18001 non-null object\n",
      "Shortened Indicator Name            18001 non-null object\n",
      "Shortened Indicator Name (Graph)    1615 non-null object\n",
      "Year                                18001 non-null int64\n",
      "Sex                                 18001 non-null object\n",
      "Race/Ethnicity                      18001 non-null object\n",
      "Value                               18001 non-null object\n",
      "Place                               18001 non-null object\n",
      "BCHC Requested Methodology          18001 non-null object\n",
      "Source                              15388 non-null object\n",
      "Methods                             5202 non-null object\n",
      "Notes                               4921 non-null object\n",
      "95% Confidence Level - Low          4043 non-null object\n",
      "95% Confidence Level - High         4037 non-null float64\n",
      "dtypes: float64(1), int64(1), object(13)\n",
      "memory usage: 2.1+ MB\n"
     ]
    }
   ],
   "source": [
    "data.info()"
   ]
  },
  {
   "cell_type": "code",
   "execution_count": 48,
   "metadata": {
    "collapsed": false
   },
   "outputs": [
    {
     "data": {
      "text/html": [
       "<div>\n",
       "<table border=\"1\" class=\"dataframe\">\n",
       "  <thead>\n",
       "    <tr style=\"text-align: right;\">\n",
       "      <th></th>\n",
       "      <th>Indicator Category</th>\n",
       "      <th>Indicator</th>\n",
       "      <th>Shortened Indicator Name</th>\n",
       "      <th>Shortened Indicator Name (Graph)</th>\n",
       "      <th>Year</th>\n",
       "      <th>Sex</th>\n",
       "      <th>Race/Ethnicity</th>\n",
       "      <th>Value</th>\n",
       "      <th>Place</th>\n",
       "      <th>BCHC Requested Methodology</th>\n",
       "      <th>Source</th>\n",
       "      <th>Methods</th>\n",
       "      <th>Notes</th>\n",
       "      <th>95% Confidence Level - Low</th>\n",
       "      <th>95% Confidence Level - High</th>\n",
       "    </tr>\n",
       "  </thead>\n",
       "  <tbody>\n",
       "    <tr>\n",
       "      <th>0</th>\n",
       "      <td>Behavioral Health/Substance Abuse</td>\n",
       "      <td>Opioid-Related Unintentional Drug Overdose Mor...</td>\n",
       "      <td>Opioid-Related Overdose Mortality Rate</td>\n",
       "      <td>NaN</td>\n",
       "      <td>2012</td>\n",
       "      <td>Both</td>\n",
       "      <td>All</td>\n",
       "      <td>7.1</td>\n",
       "      <td>Atlanta (Fulton County), GA</td>\n",
       "      <td>Age-adjusted rate of opioid-related mortality ...</td>\n",
       "      <td>Centers for Disease Control and Prevention, Na...</td>\n",
       "      <td>NaN</td>\n",
       "      <td>This indicator is not exclusive of other drugs...</td>\n",
       "      <td>NaN</td>\n",
       "      <td>NaN</td>\n",
       "    </tr>\n",
       "    <tr>\n",
       "      <th>1</th>\n",
       "      <td>Behavioral Health/Substance Abuse</td>\n",
       "      <td>Opioid-Related Unintentional Drug Overdose Mor...</td>\n",
       "      <td>Opioid-Related Overdose Mortality Rate</td>\n",
       "      <td>NaN</td>\n",
       "      <td>2012</td>\n",
       "      <td>Both</td>\n",
       "      <td>Asian/PI</td>\n",
       "      <td>S</td>\n",
       "      <td>Atlanta (Fulton County), GA</td>\n",
       "      <td>Age-adjusted rate of opioid-related mortality ...</td>\n",
       "      <td>Centers for Disease Control and Prevention, Na...</td>\n",
       "      <td>NaN</td>\n",
       "      <td>This indicator is not exclusive of other drugs...</td>\n",
       "      <td>NaN</td>\n",
       "      <td>NaN</td>\n",
       "    </tr>\n",
       "    <tr>\n",
       "      <th>2</th>\n",
       "      <td>Behavioral Health/Substance Abuse</td>\n",
       "      <td>Opioid-Related Unintentional Drug Overdose Mor...</td>\n",
       "      <td>Opioid-Related Overdose Mortality Rate</td>\n",
       "      <td>NaN</td>\n",
       "      <td>2012</td>\n",
       "      <td>Both</td>\n",
       "      <td>Black</td>\n",
       "      <td>6.7</td>\n",
       "      <td>Atlanta (Fulton County), GA</td>\n",
       "      <td>Age-adjusted rate of opioid-related mortality ...</td>\n",
       "      <td>Centers for Disease Control and Prevention, Na...</td>\n",
       "      <td>NaN</td>\n",
       "      <td>This indicator is not exclusive of other drugs...</td>\n",
       "      <td>NaN</td>\n",
       "      <td>NaN</td>\n",
       "    </tr>\n",
       "    <tr>\n",
       "      <th>3</th>\n",
       "      <td>Behavioral Health/Substance Abuse</td>\n",
       "      <td>Opioid-Related Unintentional Drug Overdose Mor...</td>\n",
       "      <td>Opioid-Related Overdose Mortality Rate</td>\n",
       "      <td>NaN</td>\n",
       "      <td>2012</td>\n",
       "      <td>Both</td>\n",
       "      <td>Hispanic</td>\n",
       "      <td>S</td>\n",
       "      <td>Atlanta (Fulton County), GA</td>\n",
       "      <td>Age-adjusted rate of opioid-related mortality ...</td>\n",
       "      <td>Centers for Disease Control and Prevention, Na...</td>\n",
       "      <td>NaN</td>\n",
       "      <td>This indicator is not exclusive of other drugs...</td>\n",
       "      <td>NaN</td>\n",
       "      <td>NaN</td>\n",
       "    </tr>\n",
       "    <tr>\n",
       "      <th>4</th>\n",
       "      <td>Behavioral Health/Substance Abuse</td>\n",
       "      <td>Opioid-Related Unintentional Drug Overdose Mor...</td>\n",
       "      <td>Opioid-Related Overdose Mortality Rate</td>\n",
       "      <td>NaN</td>\n",
       "      <td>2012</td>\n",
       "      <td>Both</td>\n",
       "      <td>Other</td>\n",
       "      <td>S</td>\n",
       "      <td>Atlanta (Fulton County), GA</td>\n",
       "      <td>Age-adjusted rate of opioid-related mortality ...</td>\n",
       "      <td>Centers for Disease Control and Prevention, Na...</td>\n",
       "      <td>NaN</td>\n",
       "      <td>This indicator is not exclusive of other drugs...</td>\n",
       "      <td>NaN</td>\n",
       "      <td>NaN</td>\n",
       "    </tr>\n",
       "  </tbody>\n",
       "</table>\n",
       "</div>"
      ],
      "text/plain": [
       "                  Indicator Category  \\\n",
       "0  Behavioral Health/Substance Abuse   \n",
       "1  Behavioral Health/Substance Abuse   \n",
       "2  Behavioral Health/Substance Abuse   \n",
       "3  Behavioral Health/Substance Abuse   \n",
       "4  Behavioral Health/Substance Abuse   \n",
       "\n",
       "                                           Indicator  \\\n",
       "0  Opioid-Related Unintentional Drug Overdose Mor...   \n",
       "1  Opioid-Related Unintentional Drug Overdose Mor...   \n",
       "2  Opioid-Related Unintentional Drug Overdose Mor...   \n",
       "3  Opioid-Related Unintentional Drug Overdose Mor...   \n",
       "4  Opioid-Related Unintentional Drug Overdose Mor...   \n",
       "\n",
       "                 Shortened Indicator Name Shortened Indicator Name (Graph)  \\\n",
       "0  Opioid-Related Overdose Mortality Rate                              NaN   \n",
       "1  Opioid-Related Overdose Mortality Rate                              NaN   \n",
       "2  Opioid-Related Overdose Mortality Rate                              NaN   \n",
       "3  Opioid-Related Overdose Mortality Rate                              NaN   \n",
       "4  Opioid-Related Overdose Mortality Rate                              NaN   \n",
       "\n",
       "   Year   Sex Race/Ethnicity Value                        Place  \\\n",
       "0  2012  Both            All   7.1  Atlanta (Fulton County), GA   \n",
       "1  2012  Both       Asian/PI     S  Atlanta (Fulton County), GA   \n",
       "2  2012  Both          Black   6.7  Atlanta (Fulton County), GA   \n",
       "3  2012  Both       Hispanic     S  Atlanta (Fulton County), GA   \n",
       "4  2012  Both          Other     S  Atlanta (Fulton County), GA   \n",
       "\n",
       "                          BCHC Requested Methodology  \\\n",
       "0  Age-adjusted rate of opioid-related mortality ...   \n",
       "1  Age-adjusted rate of opioid-related mortality ...   \n",
       "2  Age-adjusted rate of opioid-related mortality ...   \n",
       "3  Age-adjusted rate of opioid-related mortality ...   \n",
       "4  Age-adjusted rate of opioid-related mortality ...   \n",
       "\n",
       "                                              Source Methods  \\\n",
       "0  Centers for Disease Control and Prevention, Na...     NaN   \n",
       "1  Centers for Disease Control and Prevention, Na...     NaN   \n",
       "2  Centers for Disease Control and Prevention, Na...     NaN   \n",
       "3  Centers for Disease Control and Prevention, Na...     NaN   \n",
       "4  Centers for Disease Control and Prevention, Na...     NaN   \n",
       "\n",
       "                                               Notes  \\\n",
       "0  This indicator is not exclusive of other drugs...   \n",
       "1  This indicator is not exclusive of other drugs...   \n",
       "2  This indicator is not exclusive of other drugs...   \n",
       "3  This indicator is not exclusive of other drugs...   \n",
       "4  This indicator is not exclusive of other drugs...   \n",
       "\n",
       "  95% Confidence Level - Low  95% Confidence Level - High  \n",
       "0                        NaN                          NaN  \n",
       "1                        NaN                          NaN  \n",
       "2                        NaN                          NaN  \n",
       "3                        NaN                          NaN  \n",
       "4                        NaN                          NaN  "
      ]
     },
     "execution_count": 48,
     "metadata": {},
     "output_type": "execute_result"
    }
   ],
   "source": [
    "data.head(5)"
   ]
  },
  {
   "cell_type": "code",
   "execution_count": 26,
   "metadata": {
    "collapsed": false
   },
   "outputs": [],
   "source": [
    "ng1 = data.groupby('Indicator Category')"
   ]
  },
  {
   "cell_type": "code",
   "execution_count": 27,
   "metadata": {
    "collapsed": false
   },
   "outputs": [
    {
     "data": {
      "text/html": [
       "<div>\n",
       "<table border=\"1\" class=\"dataframe\">\n",
       "  <thead>\n",
       "    <tr style=\"text-align: right;\">\n",
       "      <th></th>\n",
       "      <th>Indicator</th>\n",
       "      <th>Shortened Indicator Name</th>\n",
       "      <th>Shortened Indicator Name (Graph)</th>\n",
       "      <th>Year</th>\n",
       "      <th>Sex</th>\n",
       "      <th>Race/Ethnicity</th>\n",
       "      <th>Value</th>\n",
       "      <th>Place</th>\n",
       "      <th>BCHC Requested Methodology</th>\n",
       "      <th>Source</th>\n",
       "      <th>Methods</th>\n",
       "      <th>Notes</th>\n",
       "      <th>95% Confidence Level - Low</th>\n",
       "      <th>95% Confidence Level - High</th>\n",
       "    </tr>\n",
       "    <tr>\n",
       "      <th>Indicator Category</th>\n",
       "      <th></th>\n",
       "      <th></th>\n",
       "      <th></th>\n",
       "      <th></th>\n",
       "      <th></th>\n",
       "      <th></th>\n",
       "      <th></th>\n",
       "      <th></th>\n",
       "      <th></th>\n",
       "      <th></th>\n",
       "      <th></th>\n",
       "      <th></th>\n",
       "      <th></th>\n",
       "      <th></th>\n",
       "    </tr>\n",
       "  </thead>\n",
       "  <tbody>\n",
       "    <tr>\n",
       "      <th>Behavioral Health/Substance Abuse</th>\n",
       "      <td>853</td>\n",
       "      <td>853</td>\n",
       "      <td>0</td>\n",
       "      <td>853</td>\n",
       "      <td>853</td>\n",
       "      <td>853</td>\n",
       "      <td>853</td>\n",
       "      <td>853</td>\n",
       "      <td>853</td>\n",
       "      <td>797</td>\n",
       "      <td>398</td>\n",
       "      <td>439</td>\n",
       "      <td>237</td>\n",
       "      <td>237</td>\n",
       "    </tr>\n",
       "    <tr>\n",
       "      <th>Cancer</th>\n",
       "      <td>1631</td>\n",
       "      <td>1631</td>\n",
       "      <td>0</td>\n",
       "      <td>1631</td>\n",
       "      <td>1631</td>\n",
       "      <td>1631</td>\n",
       "      <td>1631</td>\n",
       "      <td>1631</td>\n",
       "      <td>1631</td>\n",
       "      <td>1275</td>\n",
       "      <td>515</td>\n",
       "      <td>473</td>\n",
       "      <td>109</td>\n",
       "      <td>109</td>\n",
       "    </tr>\n",
       "    <tr>\n",
       "      <th>Chronic Disease</th>\n",
       "      <td>2990</td>\n",
       "      <td>2990</td>\n",
       "      <td>372</td>\n",
       "      <td>2990</td>\n",
       "      <td>2990</td>\n",
       "      <td>2990</td>\n",
       "      <td>2990</td>\n",
       "      <td>2990</td>\n",
       "      <td>2990</td>\n",
       "      <td>2593</td>\n",
       "      <td>1014</td>\n",
       "      <td>805</td>\n",
       "      <td>482</td>\n",
       "      <td>482</td>\n",
       "    </tr>\n",
       "    <tr>\n",
       "      <th>Demographics</th>\n",
       "      <td>2948</td>\n",
       "      <td>2948</td>\n",
       "      <td>0</td>\n",
       "      <td>2948</td>\n",
       "      <td>2948</td>\n",
       "      <td>2948</td>\n",
       "      <td>2948</td>\n",
       "      <td>2948</td>\n",
       "      <td>2948</td>\n",
       "      <td>2948</td>\n",
       "      <td>0</td>\n",
       "      <td>615</td>\n",
       "      <td>2539</td>\n",
       "      <td>2539</td>\n",
       "    </tr>\n",
       "    <tr>\n",
       "      <th>Environmental Health</th>\n",
       "      <td>159</td>\n",
       "      <td>159</td>\n",
       "      <td>159</td>\n",
       "      <td>159</td>\n",
       "      <td>159</td>\n",
       "      <td>159</td>\n",
       "      <td>159</td>\n",
       "      <td>159</td>\n",
       "      <td>159</td>\n",
       "      <td>112</td>\n",
       "      <td>64</td>\n",
       "      <td>76</td>\n",
       "      <td>0</td>\n",
       "      <td>0</td>\n",
       "    </tr>\n",
       "    <tr>\n",
       "      <th>Food Safety</th>\n",
       "      <td>875</td>\n",
       "      <td>875</td>\n",
       "      <td>875</td>\n",
       "      <td>875</td>\n",
       "      <td>875</td>\n",
       "      <td>875</td>\n",
       "      <td>875</td>\n",
       "      <td>875</td>\n",
       "      <td>875</td>\n",
       "      <td>780</td>\n",
       "      <td>350</td>\n",
       "      <td>217</td>\n",
       "      <td>12</td>\n",
       "      <td>12</td>\n",
       "    </tr>\n",
       "    <tr>\n",
       "      <th>HIV/AIDS</th>\n",
       "      <td>2258</td>\n",
       "      <td>2258</td>\n",
       "      <td>0</td>\n",
       "      <td>2258</td>\n",
       "      <td>2258</td>\n",
       "      <td>2258</td>\n",
       "      <td>2258</td>\n",
       "      <td>2258</td>\n",
       "      <td>2258</td>\n",
       "      <td>1833</td>\n",
       "      <td>738</td>\n",
       "      <td>568</td>\n",
       "      <td>88</td>\n",
       "      <td>88</td>\n",
       "    </tr>\n",
       "    <tr>\n",
       "      <th>Infectious Disease</th>\n",
       "      <td>1733</td>\n",
       "      <td>1733</td>\n",
       "      <td>209</td>\n",
       "      <td>1733</td>\n",
       "      <td>1733</td>\n",
       "      <td>1733</td>\n",
       "      <td>1733</td>\n",
       "      <td>1733</td>\n",
       "      <td>1733</td>\n",
       "      <td>1467</td>\n",
       "      <td>733</td>\n",
       "      <td>462</td>\n",
       "      <td>204</td>\n",
       "      <td>204</td>\n",
       "    </tr>\n",
       "    <tr>\n",
       "      <th>Injury/Violence</th>\n",
       "      <td>2408</td>\n",
       "      <td>2408</td>\n",
       "      <td>0</td>\n",
       "      <td>2408</td>\n",
       "      <td>2408</td>\n",
       "      <td>2408</td>\n",
       "      <td>2408</td>\n",
       "      <td>2408</td>\n",
       "      <td>2408</td>\n",
       "      <td>1880</td>\n",
       "      <td>875</td>\n",
       "      <td>610</td>\n",
       "      <td>178</td>\n",
       "      <td>175</td>\n",
       "    </tr>\n",
       "    <tr>\n",
       "      <th>Life Expectancy and Death Rate (Overall)</th>\n",
       "      <td>667</td>\n",
       "      <td>667</td>\n",
       "      <td>0</td>\n",
       "      <td>667</td>\n",
       "      <td>667</td>\n",
       "      <td>667</td>\n",
       "      <td>667</td>\n",
       "      <td>667</td>\n",
       "      <td>667</td>\n",
       "      <td>525</td>\n",
       "      <td>165</td>\n",
       "      <td>214</td>\n",
       "      <td>90</td>\n",
       "      <td>90</td>\n",
       "    </tr>\n",
       "    <tr>\n",
       "      <th>Maternal and Child Health</th>\n",
       "      <td>1479</td>\n",
       "      <td>1479</td>\n",
       "      <td>0</td>\n",
       "      <td>1479</td>\n",
       "      <td>1479</td>\n",
       "      <td>1479</td>\n",
       "      <td>1479</td>\n",
       "      <td>1479</td>\n",
       "      <td>1479</td>\n",
       "      <td>1178</td>\n",
       "      <td>350</td>\n",
       "      <td>442</td>\n",
       "      <td>104</td>\n",
       "      <td>101</td>\n",
       "    </tr>\n",
       "  </tbody>\n",
       "</table>\n",
       "</div>"
      ],
      "text/plain": [
       "                                          Indicator  Shortened Indicator Name  \\\n",
       "Indicator Category                                                              \n",
       "Behavioral Health/Substance Abuse               853                       853   \n",
       "Cancer                                         1631                      1631   \n",
       "Chronic Disease                                2990                      2990   \n",
       "Demographics                                   2948                      2948   \n",
       "Environmental Health                            159                       159   \n",
       "Food Safety                                     875                       875   \n",
       "HIV/AIDS                                       2258                      2258   \n",
       "Infectious Disease                             1733                      1733   \n",
       "Injury/Violence                                2408                      2408   \n",
       "Life Expectancy and Death Rate (Overall)        667                       667   \n",
       "Maternal and Child Health                      1479                      1479   \n",
       "\n",
       "                                          Shortened Indicator Name (Graph)  \\\n",
       "Indicator Category                                                           \n",
       "Behavioral Health/Substance Abuse                                        0   \n",
       "Cancer                                                                   0   \n",
       "Chronic Disease                                                        372   \n",
       "Demographics                                                             0   \n",
       "Environmental Health                                                   159   \n",
       "Food Safety                                                            875   \n",
       "HIV/AIDS                                                                 0   \n",
       "Infectious Disease                                                     209   \n",
       "Injury/Violence                                                          0   \n",
       "Life Expectancy and Death Rate (Overall)                                 0   \n",
       "Maternal and Child Health                                                0   \n",
       "\n",
       "                                          Year   Sex  Race/Ethnicity  Value  \\\n",
       "Indicator Category                                                            \n",
       "Behavioral Health/Substance Abuse          853   853             853    853   \n",
       "Cancer                                    1631  1631            1631   1631   \n",
       "Chronic Disease                           2990  2990            2990   2990   \n",
       "Demographics                              2948  2948            2948   2948   \n",
       "Environmental Health                       159   159             159    159   \n",
       "Food Safety                                875   875             875    875   \n",
       "HIV/AIDS                                  2258  2258            2258   2258   \n",
       "Infectious Disease                        1733  1733            1733   1733   \n",
       "Injury/Violence                           2408  2408            2408   2408   \n",
       "Life Expectancy and Death Rate (Overall)   667   667             667    667   \n",
       "Maternal and Child Health                 1479  1479            1479   1479   \n",
       "\n",
       "                                          Place  BCHC Requested Methodology  \\\n",
       "Indicator Category                                                            \n",
       "Behavioral Health/Substance Abuse           853                         853   \n",
       "Cancer                                     1631                        1631   \n",
       "Chronic Disease                            2990                        2990   \n",
       "Demographics                               2948                        2948   \n",
       "Environmental Health                        159                         159   \n",
       "Food Safety                                 875                         875   \n",
       "HIV/AIDS                                   2258                        2258   \n",
       "Infectious Disease                         1733                        1733   \n",
       "Injury/Violence                            2408                        2408   \n",
       "Life Expectancy and Death Rate (Overall)    667                         667   \n",
       "Maternal and Child Health                  1479                        1479   \n",
       "\n",
       "                                          Source  Methods  Notes  \\\n",
       "Indicator Category                                                 \n",
       "Behavioral Health/Substance Abuse            797      398    439   \n",
       "Cancer                                      1275      515    473   \n",
       "Chronic Disease                             2593     1014    805   \n",
       "Demographics                                2948        0    615   \n",
       "Environmental Health                         112       64     76   \n",
       "Food Safety                                  780      350    217   \n",
       "HIV/AIDS                                    1833      738    568   \n",
       "Infectious Disease                          1467      733    462   \n",
       "Injury/Violence                             1880      875    610   \n",
       "Life Expectancy and Death Rate (Overall)     525      165    214   \n",
       "Maternal and Child Health                   1178      350    442   \n",
       "\n",
       "                                          95% Confidence Level - Low  \\\n",
       "Indicator Category                                                     \n",
       "Behavioral Health/Substance Abuse                                237   \n",
       "Cancer                                                           109   \n",
       "Chronic Disease                                                  482   \n",
       "Demographics                                                    2539   \n",
       "Environmental Health                                               0   \n",
       "Food Safety                                                       12   \n",
       "HIV/AIDS                                                          88   \n",
       "Infectious Disease                                               204   \n",
       "Injury/Violence                                                  178   \n",
       "Life Expectancy and Death Rate (Overall)                          90   \n",
       "Maternal and Child Health                                        104   \n",
       "\n",
       "                                          95% Confidence Level - High  \n",
       "Indicator Category                                                     \n",
       "Behavioral Health/Substance Abuse                                 237  \n",
       "Cancer                                                            109  \n",
       "Chronic Disease                                                   482  \n",
       "Demographics                                                     2539  \n",
       "Environmental Health                                                0  \n",
       "Food Safety                                                        12  \n",
       "HIV/AIDS                                                           88  \n",
       "Infectious Disease                                                204  \n",
       "Injury/Violence                                                   175  \n",
       "Life Expectancy and Death Rate (Overall)                           90  \n",
       "Maternal and Child Health                                         101  "
      ]
     },
     "execution_count": 27,
     "metadata": {},
     "output_type": "execute_result"
    }
   ],
   "source": [
    "ng1.count()"
   ]
  },
  {
   "cell_type": "code",
   "execution_count": 44,
   "metadata": {
    "collapsed": false
   },
   "outputs": [
    {
     "data": {
      "text/plain": [
       "Indicator Category\n",
       "Behavioral Health/Substance Abuse            853\n",
       "Cancer                                      1631\n",
       "Chronic Disease                             2990\n",
       "Demographics                                2948\n",
       "Environmental Health                         159\n",
       "Food Safety                                  875\n",
       "HIV/AIDS                                    2258\n",
       "Infectious Disease                          1733\n",
       "Injury/Violence                             2408\n",
       "Life Expectancy and Death Rate (Overall)     667\n",
       "Maternal and Child Health                   1479\n",
       "Name: Indicator, dtype: int64"
      ]
     },
     "execution_count": 44,
     "metadata": {},
     "output_type": "execute_result"
    }
   ],
   "source": [
    "ng1.count()['Indicator']"
   ]
  },
  {
   "cell_type": "code",
   "execution_count": 41,
   "metadata": {
    "collapsed": false
   },
   "outputs": [],
   "source": [
    "temp_var = ng1.count()['Indicator']"
   ]
  },
  {
   "cell_type": "code",
   "execution_count": 42,
   "metadata": {
    "collapsed": false
   },
   "outputs": [],
   "source": [
    "import matplotlib.pyplot as plt\n",
    "%matplotlib inline"
   ]
  },
  {
   "cell_type": "code",
   "execution_count": 47,
   "metadata": {
    "collapsed": false
   },
   "outputs": [
    {
     "data": {
      "text/plain": [
       "(array([ 1.,  0.,  0.,  0.,  1.,  0.,  2.,  0.,  0.,  0.,  0.,  1.,  1.,\n",
       "         1.,  0.,  0.,  0.,  0.,  1.,  1.,  0.,  0.,  0.,  0.,  2.]),\n",
       " array([  159.  ,   272.24,   385.48,   498.72,   611.96,   725.2 ,\n",
       "          838.44,   951.68,  1064.92,  1178.16,  1291.4 ,  1404.64,\n",
       "         1517.88,  1631.12,  1744.36,  1857.6 ,  1970.84,  2084.08,\n",
       "         2197.32,  2310.56,  2423.8 ,  2537.04,  2650.28,  2763.52,\n",
       "         2876.76,  2990.  ]),\n",
       " <a list of 25 Patch objects>)"
      ]
     },
     "execution_count": 47,
     "metadata": {},
     "output_type": "execute_result"
    },
    {
     "data": {
      "image/png": "[encoded data removed]",
      "text/plain": [
       "<matplotlib.figure.Figure at 0x117343290>"
      ]
     },
     "metadata": {},
     "output_type": "display_data"
    }
   ],
   "source": [
    "plt.hist(temp_var, bins=25)"
   ]
  },
  {
   "cell_type": "code",
   "execution_count": 50,
   "metadata": {
    "collapsed": false
   },
   "outputs": [],
   "source": [
    "d_place = data.groupby('Place')"
   ]
  },
  {
   "cell_type": "code",
   "execution_count": 52,
   "metadata": {
    "collapsed": false
   },
   "outputs": [
    {
     "data": {
      "text/plain": [
       "Place\n",
       "Atlanta (Fulton County), GA         446\n",
       "Baltimore, MD                       301\n",
       "Boston, MA                          764\n",
       "Chicago, IL                         687\n",
       "Cleveland, OH                       374\n",
       "Dallas, TX                          219\n",
       "Denver, CO                          759\n",
       "Detroit, MI                         704\n",
       "Fort Worth (Tarrant County), TX     427\n",
       "Houston, TX                         581\n",
       "Kansas City, MO                     529\n",
       "Las Vegas (Clark County), NV        732\n",
       "Long Beach, CA                      740\n",
       "Los Angeles, CA                     733\n",
       "Miami (Miami-Dade County), FL       848\n",
       "Minneapolis, MN                     882\n",
       "New York City, NY                   773\n",
       "Oakland, CA                         373\n",
       "Philadelphia, PA                    600\n",
       "Phoenix, AZ                         938\n",
       "Portland (Multnomah County), OR     410\n",
       "Sacramento, CA                      505\n",
       "San Antonio, TX                     617\n",
       "San Diego County, CA                540\n",
       "San Francisco, CA                   614\n",
       "San Jose, CA                        482\n",
       "Seattle, WA                         683\n",
       "U.S. Total                         1158\n",
       "Washington, DC                      582\n",
       "Name: Indicator, dtype: int64"
      ]
     },
     "execution_count": 52,
     "metadata": {},
     "output_type": "execute_result"
    }
   ],
   "source": [
    "data.groupby('Place').count()['Indicator']"
   ]
  },
  {
   "cell_type": "code",
   "execution_count": 53,
   "metadata": {
    "collapsed": true
   },
   "outputs": [],
   "source": [
    "temp2 = data.groupby('Place').count()['Indicator']"
   ]
  },
  {
   "cell_type": "code",
   "execution_count": 55,
   "metadata": {
    "collapsed": false
   },
   "outputs": [
    {
     "data": {
      "text/plain": [
       "<matplotlib.axes._subplots.AxesSubplot at 0x1180fd2d0>"
      ]
     },
     "execution_count": 55,
     "metadata": {},
     "output_type": "execute_result"
    },
    {
     "data": {
      "image/png": "[encoded data removed]",
      "text/plain": [
       "<matplotlib.figure.Figure at 0x11827f090>"
      ]
     },
     "metadata": {},
     "output_type": "display_data"
    }
   ],
   "source": [
    "temp2.plot()"
   ]
  },
  {
   "cell_type": "code",
   "execution_count": null,
   "metadata": {
    "collapsed": true
   },
   "outputs": [],
   "source": []
  }
 ],
 "metadata": {
  "kernelspec": {
   "display_name": "Python 2",
   "language": "python",
   "name": "python2"
  },
  "language_info": {
   "codemirror_mode": {
    "name": "ipython",
    "version": 2
   },
   "file_extension": ".py",
   "mimetype": "text/x-python",
   "name": "python",
   "nbconvert_exporter": "python",
   "pygments_lexer": "ipython2",
   "version": "2.7.11"
  }
 },
 "nbformat": 4,
 "nbformat_minor": 0
}
