{
 "cells": [
  {
   "cell_type": "code",
   "execution_count": 2,
   "metadata": {
    "collapsed": false
   },
   "outputs": [],
   "source": [
    "#Testing connectivity with Untappd API\n",
    "import requests #for requesting API calls\n",
    "import pandas as pd #for building pandas dataframes for analysis\n",
    "from pandas.io.json import json_normalize #help with converting dictionaries to dataframes\n",
    "import re #for parsing file names\n",
    "import glob, os #for reading file names\n",
    "import datetime # for tracking API call counts"
   ]
  },
  {
   "cell_type": "code",
   "execution_count": 3,
   "metadata": {
    "collapsed": true
   },
   "outputs": [],
   "source": [
    "#IMPORTANT TO SET AS DESIRED, UNTAPPD LIMITS TO 100 PER HOUR\n",
    "max_api_call = 100"
   ]
  },
  {
   "cell_type": "code",
   "execution_count": 4,
   "metadata": {
    "collapsed": true
   },
   "outputs": [],
   "source": [
    "#DO NOT EDIT - Initial Vars ONLY EXECUTE ONCE IF IN IPYTHON NOTEBOOK\n",
    "#Let's keep track of how many API calls we are making for fun\n",
    "api_count = []\n",
    "load_indicator = 0\n",
    "beer_counter = 1"
   ]
  },
  {
   "cell_type": "code",
   "execution_count": 5,
   "metadata": {
    "collapsed": false
   },
   "outputs": [
    {
     "name": "stdout",
     "output_type": "stream",
     "text": [
      "Changing Directory to: /Users/joshuaemayer/Programming/Springboard/capstone-1/new_beers\n"
     ]
    }
   ],
   "source": [
    "#Change directory to read existing file names\n",
    "os.chdir('/Users/joshuaemayer/Programming/Springboard/capstone-1/new_beers')\n",
    "cwd = os.getcwd()\n",
    "print('Changing Directory to: ' + cwd)"
   ]
  },
  {
   "cell_type": "code",
   "execution_count": 6,
   "metadata": {
    "collapsed": false
   },
   "outputs": [],
   "source": [
    "#Reading CSV files in the DIR\n",
    "file_names = []\n",
    "file_names = glob.glob('*.csv')"
   ]
  },
  {
   "cell_type": "code",
   "execution_count": 7,
   "metadata": {
    "collapsed": false
   },
   "outputs": [],
   "source": [
    "#Creating a list with all of the file names, searching for the last BID\n",
    "BID_list = []\n",
    "for file in file_names :\n",
    "    temp = re.split('_*', file)\n",
    "    BID_list.append(int(temp[4]))"
   ]
  },
  {
   "cell_type": "code",
   "execution_count": 8,
   "metadata": {
    "collapsed": true
   },
   "outputs": [],
   "source": [
    "#Used for API calls and authentication\n",
    "url = 'https://api.untappd.com/v4' #base URL for all API calls\n",
    "client_id = '?client_id=D9E63A3F203F8A4FDBE5B7E58CEDB2E90FF50AB4' #required for authentication\n",
    "client_secret = '&client_secret=C861E23878359F93F1EF3FDB7F233095316C6CA5' #required for authentication"
   ]
  },
  {
   "cell_type": "code",
   "execution_count": 9,
   "metadata": {
    "collapsed": true
   },
   "outputs": [],
   "source": [
    "#Parameters specific to \"beer info\" API calls\n",
    "beer_info = '/beer/info/' #extend URL for the \"beer info\" requests\n",
    "compact = '&compact=true' #only return basic beer info (and not social media garbage)"
   ]
  },
  {
   "cell_type": "code",
   "execution_count": 10,
   "metadata": {
    "collapsed": false
   },
   "outputs": [],
   "source": [
    "#Beer ID - unique identifier for each beer\n",
    "if bool(len(BID_list) > 0) :\n",
    "    BID = max(BID_list) #Beer ID - unique identifier for each beer\n",
    "else :\n",
    "    BID = 1 #if no files exist, let's start with the first BID"
   ]
  },
  {
   "cell_type": "code",
   "execution_count": 11,
   "metadata": {
    "collapsed": false
   },
   "outputs": [
    {
     "name": "stdout",
     "output_type": "stream",
     "text": [
      "Starting with BID: 1\n"
     ]
    }
   ],
   "source": [
    "#Callout starting BID for this file\n",
    "print('Starting with BID: ' + str(BID))"
   ]
  },
  {
   "cell_type": "code",
   "execution_count": 26,
   "metadata": {
    "collapsed": false
   },
   "outputs": [
    {
     "name": "stdout",
     "output_type": "stream",
     "text": [
      "API call failed: code: 500 This API key has reached their API limit for the hour. Please wait before making another call.\n",
      "Failed to load any data.\n"
     ]
    }
   ],
   "source": [
    "#Untappd limits API calls to 100 per hour\n",
    "while (load_indicator == 0) & (len(api_count) < max_api_call) :\n",
    "    # Package the request, send the request and catch the response: r\n",
    "    r = requests.get(url+beer_info+str(BID)+client_id+client_secret+compact)\n",
    "    # Let's keep track of how many API calls we are making, limit is 100 per hour\n",
    "    api_count.append(format(datetime.datetime.now()))\n",
    "    # Decode the JSON data into a dictionary: json_data\n",
    "    json_data = r.json()\n",
    "    if (json_data['meta']['code'] == 200) :\n",
    "        df_name = json_normalize(json_data['response']['beer'])\n",
    "        print('Successfully Loaded & Normalized JSON Data' + ' for Beer ID ' + str(BID))\n",
    "        if beer_counter == 1 :\n",
    "            orig_df = df_name.copy()\n",
    "            print('Succesfully Copied Original Dataframe')\n",
    "        if beer_counter > 1 :\n",
    "            orig_df = orig_df.append(df_name, ignore_index=True)\n",
    "            print('Successfully Appended Beer ' + str(BID) + ' to Original Dataframe')\n",
    "        print('Dataframes created:' + str(beer_counter), 'Total API Calls Made: ' + str(len(api_count)))\n",
    "    elif (json_data['meta']['code'] != 200) & (beer_counter == 1) :\n",
    "        print('API call failed: ' + str('code: ') + str(json_data['meta']['code']) + ' '\n",
    "              + str(json_data['meta']['error_detail']))\n",
    "        orig_df = 'Cannot Export because No Data Exists'\n",
    "        print('Failed to load any data.')\n",
    "        break\n",
    "    elif (json_data['meta']['code'] != 200) :\n",
    "        print('API call failed: ' + str('code: ') + str(json_data['meta']['code']) + ' '\n",
    "              + str(json_data['meta']['error_detail']))\n",
    "        if 'This Beer ID is invalid.' in str(json_data['meta']['error_detail']) :\n",
    "            print('BID ' + str(BID) + ' does not exist. Skipping this BID')\n",
    "            BID += 1 #Continue to the next beer\n",
    "        else :\n",
    "            break\n",
    "    else :\n",
    "        load_indicator = 1\n",
    "        print('Finished Loading JSON Files')\n",
    "        print('Total API Calls Made: ' + str(len(api_count)))\n",
    "    if (json_data['meta']['code'] == 200) & (load_indicator == 0) & (len(api_count) < max_api_call) :\n",
    "        BID += 1 #Continue to the next global beer\n",
    "        beer_counter += 1 #local beer counter"
   ]
  },
  {
   "cell_type": "code",
   "execution_count": 27,
   "metadata": {
    "collapsed": false
   },
   "outputs": [
    {
     "name": "stdout",
     "output_type": "stream",
     "text": [
      "Cannot Export because No Data Exists\n"
     ]
    }
   ],
   "source": [
    "#print to console the final BID\n",
    "if isinstance(orig_df, str) :\n",
    "    print('Cannot Export because No Data Exists')\n",
    "else :\n",
    "    #Created unique CSV file name\n",
    "    cwd = os.getcwd()\n",
    "    csv_name = 'dataframe' + '_apicalls_' + str(len(api_count)) + '_finalBID_' + str(BID) + '_' + '.csv'\n",
    "    print('Total Beers Acquired: ' + str(beer_counter))\n",
    "    print('Final BID Loaded: ' + str(BID))\n",
    "    print('Exporting CSV File to: ' + cwd)\n",
    "    print('Exporting CSV file as: ' + csv_name)\n",
    "    orig_df.to_csv(csv_name, index=False)"
   ]
  },
  {
   "cell_type": "code",
   "execution_count": null,
   "metadata": {
    "collapsed": true
   },
   "outputs": [],
   "source": []
  }
 ],
 "metadata": {
  "kernelspec": {
   "display_name": "Python 3",
   "language": "python",
   "name": "python3"
  },
  "language_info": {
   "codemirror_mode": {
    "name": "ipython",
    "version": 3
   },
   "file_extension": ".py",
   "mimetype": "text/x-python",
   "name": "python",
   "nbconvert_exporter": "python",
   "pygments_lexer": "ipython3",
   "version": "3.6.1"
  }
 },
 "nbformat": 4,
 "nbformat_minor": 0
}
